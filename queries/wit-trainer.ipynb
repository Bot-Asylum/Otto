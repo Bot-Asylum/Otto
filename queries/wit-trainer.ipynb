{
 "cells": [
  {
   "cell_type": "code",
   "execution_count": 331,
   "metadata": {},
   "outputs": [],
   "source": [
    "import requests\n",
    "import json\n",
    "import numpy as np\n",
    "from sklearn.model_selection import train_test_split\n",
    "import time"
   ]
  },
  {
   "cell_type": "code",
   "execution_count": 332,
   "metadata": {},
   "outputs": [],
   "source": [
    "WIT_API_HOST = 'https://api.wit.ai'\n",
    "WIT_API_VERSION = '20200513'"
   ]
  },
  {
   "cell_type": "code",
   "execution_count": 351,
   "metadata": {},
   "outputs": [],
   "source": [
    "with open('token.txt') as file:\n",
    "    TOKEN = file.read()\n",
    "    \n",
    "HEADERS = {\n",
    "    'authorization': 'Bearer ' + TOKEN,\n",
    "    'accept': 'application/vnd.wit.' + WIT_API_VERSION + '+json'\n",
    "}"
   ]
  },
  {
   "cell_type": "code",
   "execution_count": 334,
   "metadata": {},
   "outputs": [],
   "source": [
    "def getQueries():\n",
    "    rsp = requests.get(WIT_API_HOST + '/utterances', headers=HEADERS, params={'limit': 1000})\n",
    "    return rsp.json()"
   ]
  },
  {
   "cell_type": "code",
   "execution_count": 335,
   "metadata": {},
   "outputs": [],
   "source": [
    "def delQueries(queries):\n",
    "    if not queries:\n",
    "        print('empty list, aborting')\n",
    "        return\n",
    "    confirm = input('CONFIRM DELETION: ')\n",
    "    if confirm != 'yes':\n",
    "        print('aborting delete')\n",
    "        return\n",
    "    print('deleting the following. \\n')\n",
    "    print(queries)\n",
    "    \n",
    "    queriesDelete = [{k: v for k, v in query.items() if k.startswith('text')} for query in queries]\n",
    "    rsp = requests.delete(WIT_API_HOST + '/utterances', headers=HEADERS, data=str(queriesDelete))\n",
    "    \n",
    "    print(rsp.json())"
   ]
  },
  {
   "cell_type": "code",
   "execution_count": 336,
   "metadata": {},
   "outputs": [],
   "source": [
    "# [a,b,c]\n",
    "def getExamples(filename):\n",
    "    examples = np.loadtxt(filename, dtype='str', delimiter='\\n')\n",
    "    return examples"
   ]
  },
  {
   "cell_type": "code",
   "execution_count": 337,
   "metadata": {},
   "outputs": [],
   "source": [
    "# [[a,x],[b,x],[c,x]]\n",
    "def labelExamples(examples, label):\n",
    "    reshaped = np.reshape(examples, (-1, 1))\n",
    "    labels = np.full(examples.shape[0], label).reshape(-1, 1)\n",
    "    return np.concatenate((reshaped, labels), 1)"
   ]
  },
  {
   "cell_type": "code",
   "execution_count": 338,
   "metadata": {},
   "outputs": [],
   "source": [
    "# [ task1 [[a,x],[b,x],[c,x]] , task2 [[d,y],[e,y],[f,y]] ]\n",
    "def getLabeledExamples(filenames, labels):\n",
    "    data = []\n",
    "    for i in range(0, len(filenames)):\n",
    "        labeled = labelExamples(getExamples(filenames[i]), labels[i])\n",
    "        data.append(labeled)\n",
    "    return data"
   ]
  },
  {
   "cell_type": "code",
   "execution_count": 339,
   "metadata": {},
   "outputs": [],
   "source": [
    "# [ train: task1 + task2 , test: task1 + task2 ]\n",
    "def formTrainTest(data, split):\n",
    "    trains = []\n",
    "    tests = []\n",
    "    for dataset in data:\n",
    "        if (split == 'alt'):\n",
    "            a = dataset[0::2]\n",
    "            b = dataset[1::2]\n",
    "        elif (split == 'full'):\n",
    "            a = dataset\n",
    "            b = []\n",
    "        else:\n",
    "            a, b = train_test_split(dataset, test_size=split)\n",
    "        trains.append(a)\n",
    "        tests.append(b)\n",
    "        \n",
    "    train = np.empty((0,2))\n",
    "    test = np.empty((0,2))\n",
    "    for i in range(len(trains)):\n",
    "        train = np.concatenate((train, trains[i]))\n",
    "        test = np.concatenate((test, tests[i]))\n",
    "        \n",
    "    return train, test"
   ]
  },
  {
   "cell_type": "code",
   "execution_count": 340,
   "metadata": {},
   "outputs": [],
   "source": [
    "def examplesToJson(examples):\n",
    "    json = []\n",
    "    for example in examples:\n",
    "        json.append({'text': example[0], 'intent': example[1], 'entities': [], 'traits': []})\n",
    "    return json"
   ]
  },
  {
   "cell_type": "code",
   "execution_count": 346,
   "metadata": {},
   "outputs": [],
   "source": [
    "data = getLabeledExamples(['class.txt', 'reg.txt'], ['task_class', 'task_reg'])\n",
    "train, test = formTrainTest(data, 'alt')\n",
    "trainJson = examplesToJson(train)\n",
    "testJson = examplesToJson(test)"
   ]
  },
  {
   "cell_type": "code",
   "execution_count": 347,
   "metadata": {},
   "outputs": [],
   "source": [
    "#str(trainJson)"
   ]
  },
  {
   "cell_type": "code",
   "execution_count": 352,
   "metadata": {},
   "outputs": [
    {
     "data": {
      "text/plain": [
       "{'sent': True, 'n': 88}"
      ]
     },
     "execution_count": 352,
     "metadata": {},
     "output_type": "execute_result"
    }
   ],
   "source": [
    "rsp = requests.post(WIT_API_HOST + '/utterances', headers=HEADERS, data=str(trainJson))\n",
    "rsp.json()"
   ]
  },
  {
   "cell_type": "code",
   "execution_count": 326,
   "metadata": {},
   "outputs": [],
   "source": [
    "time.sleep(60) # DELAY - ALLOW IT TO TRAIN"
   ]
  },
  {
   "cell_type": "code",
   "execution_count": 355,
   "metadata": {},
   "outputs": [
    {
     "name": "stdout",
     "output_type": "stream",
     "text": [
      "{'text': 'classification of audio samples', 'intents': [{'id': '1728532153951407', 'name': 'task_class', 'confidence': 0.9993}], 'entities': {'subject:subject': [{'id': '3187784944605415', 'name': 'subject', 'role': 'subject', 'start': 18, 'end': 31, 'body': 'audio samples', 'confidence': 0.9128, 'entities': [], 'suggested': True, 'value': 'audio samples', 'type': 'value'}]}, 'traits': {}}\n",
      "True\n",
      "\n",
      "{'text': 'classifier to identify high-risk populations', 'intents': [{'id': '1728532153951407', 'name': 'task_class', 'confidence': 0.997}], 'entities': {'subject:subject': [{'id': '3187784944605415', 'name': 'subject', 'role': 'subject', 'start': 11, 'end': 44, 'body': 'to identify high-risk populations', 'confidence': 0.7739, 'entities': [], 'suggested': True, 'value': 'to identify high-risk populations', 'type': 'value'}]}, 'traits': {}}\n",
      "True\n",
      "\n",
      "{'text': 'facial recognition', 'intents': [{'id': '1728532153951407', 'name': 'task_class', 'confidence': 0.887}], 'entities': {'subject:subject': [{'id': '3187784944605415', 'name': 'subject', 'role': 'subject', 'start': 7, 'end': 18, 'body': 'recognition', 'confidence': 0.8249, 'entities': [], 'suggested': True, 'value': 'recognition', 'type': 'value'}]}, 'traits': {}}\n",
      "True\n",
      "\n",
      "{'text': 'audio recognition that figures out the speaker', 'intents': [{'id': '1728532153951407', 'name': 'task_class', 'confidence': 0.9989}], 'entities': {'subject:subject': [{'id': '3187784944605415', 'name': 'subject', 'role': 'subject', 'start': 23, 'end': 46, 'body': 'figures out the speaker', 'confidence': 0.8195, 'entities': [], 'suggested': True, 'value': 'figures out the speaker', 'type': 'value'}]}, 'traits': {}}\n",
      "True\n",
      "\n",
      "{'text': 'phishing detection', 'intents': [{'id': '1728532153951407', 'name': 'task_class', 'confidence': 0.8057}], 'entities': {'subject:subject': [{'id': '3187784944605415', 'name': 'subject', 'role': 'subject', 'start': 9, 'end': 18, 'body': 'detection', 'confidence': 0.819, 'entities': [], 'suggested': True, 'value': 'detection', 'type': 'value'}]}, 'traits': {}}\n",
      "True\n",
      "\n",
      "{'text': 'test whether a patient is sick from their medical history', 'intents': [{'id': '1728532153951407', 'name': 'task_class', 'confidence': 0.9824}], 'entities': {'subject:subject': [{'id': '3187784944605415', 'name': 'subject', 'role': 'subject', 'start': 13, 'end': 57, 'body': 'a patient is sick from their medical history', 'confidence': 0.9441, 'entities': [], 'suggested': True, 'value': 'a patient is sick from their medical history', 'type': 'value'}]}, 'traits': {}}\n",
      "True\n",
      "\n",
      "{'text': 'tells if a drawing is a cat', 'intents': [{'id': '1728532153951407', 'name': 'task_class', 'confidence': 0.9982}], 'entities': {'subject:subject': [{'id': '3187784944605415', 'name': 'subject', 'role': 'subject', 'start': 9, 'end': 27, 'body': 'a drawing is a cat', 'confidence': 0.8381, 'entities': [], 'suggested': True, 'value': 'a drawing is a cat', 'type': 'value'}]}, 'traits': {}}\n",
      "True\n",
      "\n",
      "{'text': 'tell whether a pamphlet has logos in it or not', 'intents': [{'id': '1728532153951407', 'name': 'task_class', 'confidence': 0.9991}], 'entities': {'subject:subject': [{'id': '3187784944605415', 'name': 'subject', 'role': 'subject', 'start': 13, 'end': 46, 'body': 'a pamphlet has logos in it or not', 'confidence': 0.9363, 'entities': [], 'suggested': True, 'value': 'a pamphlet has logos in it or not', 'type': 'value'}]}, 'traits': {}}\n",
      "True\n",
      "\n",
      "{'text': 'knows whether a medical procedure will succeed', 'intents': [{'id': '1728532153951407', 'name': 'task_class', 'confidence': 0.9966}], 'entities': {'subject:subject': [{'id': '3187784944605415', 'name': 'subject', 'role': 'subject', 'start': 14, 'end': 46, 'body': 'a medical procedure will succeed', 'confidence': 0.9585, 'entities': [], 'suggested': True, 'value': 'a medical procedure will succeed', 'type': 'value'}]}, 'traits': {}}\n",
      "True\n",
      "\n",
      "{'text': 'label news as real or fake', 'intents': [{'id': '1728532153951407', 'name': 'task_class', 'confidence': 0.8078}], 'entities': {'subject:subject': [{'id': '3187784944605415', 'name': 'subject', 'role': 'subject', 'start': 6, 'end': 26, 'body': 'news as real or fake', 'confidence': 0.8569, 'entities': [], 'suggested': True, 'value': 'news as real or fake', 'type': 'value'}]}, 'traits': {}}\n",
      "True\n",
      "\n",
      "{'text': 'label dog breed as aggressive or non-aggressive', 'intents': [{'id': '1728532153951407', 'name': 'task_class', 'confidence': 0.943}], 'entities': {'subject:subject': [{'id': '3187784944605415', 'name': 'subject', 'role': 'subject', 'start': 6, 'end': 47, 'body': 'dog breed as aggressive or non-aggressive', 'confidence': 0.8345, 'entities': [], 'suggested': True, 'value': 'dog breed as aggressive or non-aggressive', 'type': 'value'}]}, 'traits': {}}\n",
      "True\n",
      "\n",
      "{'text': 'detect fraud', 'intents': [{'id': '1728532153951407', 'name': 'task_class', 'confidence': 0.819}], 'entities': {'subject:subject': [{'id': '3187784944605415', 'name': 'subject', 'role': 'subject', 'start': 7, 'end': 12, 'body': 'fraud', 'confidence': 0.7527, 'entities': [], 'suggested': True, 'value': 'fraud', 'type': 'value'}]}, 'traits': {}}\n",
      "True\n",
      "\n",
      "{'text': 'detect political affiliation from tweets', 'intents': [{'id': '1728532153951407', 'name': 'task_class', 'confidence': 0.7663}], 'entities': {'subject:subject': [{'id': '3187784944605415', 'name': 'subject', 'role': 'subject', 'start': 7, 'end': 40, 'body': 'political affiliation from tweets', 'confidence': 0.8864, 'entities': [], 'suggested': True, 'value': 'political affiliation from tweets', 'type': 'value'}]}, 'traits': {}}\n",
      "True\n",
      "\n",
      "{'text': 'identify likely epicenters of outbreaks', 'intents': [{'id': '1728532153951407', 'name': 'task_class', 'confidence': 0.9973}], 'entities': {'subject:subject': [{'id': '3187784944605415', 'name': 'subject', 'role': 'subject', 'start': 30, 'end': 39, 'body': 'outbreaks', 'confidence': 0.9514, 'entities': [], 'suggested': True, 'value': 'outbreaks', 'type': 'value'}]}, 'traits': {}}\n",
      "True\n",
      "\n",
      "{'text': 'identify handwriting', 'intents': [{'id': '1728532153951407', 'name': 'task_class', 'confidence': 0.9328}], 'entities': {'subject:subject': [{'id': '3187784944605415', 'name': 'subject', 'role': 'subject', 'start': 9, 'end': 20, 'body': 'handwriting', 'confidence': 0.8836, 'entities': [], 'suggested': True, 'value': 'handwriting', 'type': 'value'}]}, 'traits': {}}\n",
      "True\n",
      "\n",
      "{'text': 'identify a type of disease based on the symptoms', 'intents': [{'id': '1728532153951407', 'name': 'task_class', 'confidence': 0.9981}], 'entities': {'subject:subject': [{'id': '3187784944605415', 'name': 'subject', 'role': 'subject', 'start': 9, 'end': 48, 'body': 'a type of disease based on the symptoms', 'confidence': 0.7949, 'entities': [], 'suggested': True, 'value': 'a type of disease based on the symptoms', 'type': 'value'}]}, 'traits': {}}\n",
      "True\n",
      "\n",
      "{'text': 'recognize questions for customer service interactions', 'intents': [{'id': '184248982902938', 'name': 'task_reg', 'confidence': 0.6087}], 'entities': {'subject:subject': [{'id': '3187784944605415', 'name': 'subject', 'role': 'subject', 'start': 24, 'end': 53, 'body': 'customer service interactions', 'confidence': 0.9001, 'entities': [], 'suggested': True, 'value': 'customer service interactions', 'type': 'value'}]}, 'traits': {}}\n",
      "False\n",
      "\n",
      "{'text': 'recognize someone as a movie actor vs tv show actor', 'intents': [{'id': '1728532153951407', 'name': 'task_class', 'confidence': 0.9992}], 'entities': {'subject:subject': [{'id': '3187784944605415', 'name': 'subject', 'role': 'subject', 'start': 21, 'end': 51, 'body': 'a movie actor vs tv show actor', 'confidence': 0.928, 'entities': [], 'suggested': True, 'value': 'a movie actor vs tv show actor', 'type': 'value'}]}, 'traits': {}}\n",
      "True\n",
      "\n",
      "{'text': 'classify plants as toxic/not toxic', 'intents': [{'id': '1728532153951407', 'name': 'task_class', 'confidence': 0.998}], 'entities': {'subject:subject': [{'id': '3187784944605415', 'name': 'subject', 'role': 'subject', 'start': 9, 'end': 34, 'body': 'plants as toxic/not toxic', 'confidence': 0.8343, 'entities': [], 'suggested': True, 'value': 'plants as toxic/not toxic', 'type': 'value'}]}, 'traits': {}}\n",
      "True\n",
      "\n",
      "{'text': 'classify air quality', 'intents': [{'id': '1728532153951407', 'name': 'task_class', 'confidence': 0.9648}], 'entities': {'subject:subject': [{'id': '3187784944605415', 'name': 'subject', 'role': 'subject', 'start': 9, 'end': 20, 'body': 'air quality', 'confidence': 0.8043, 'entities': [], 'suggested': True, 'value': 'air quality', 'type': 'value'}]}, 'traits': {}}\n",
      "True\n",
      "\n",
      "{'text': 'classify locations as viable / non viable for a species', 'intents': [{'id': '1728532153951407', 'name': 'task_class', 'confidence': 0.9979}], 'entities': {'subject:subject': [{'id': '3187784944605415', 'name': 'subject', 'role': 'subject', 'start': 46, 'end': 55, 'body': 'a species', 'confidence': 0.9817, 'entities': [], 'suggested': True, 'value': 'a species', 'type': 'value'}]}, 'traits': {}}\n",
      "True\n",
      "\n",
      "{'text': 'classify between different types of groceries', 'intents': [{'id': '1728532153951407', 'name': 'task_class', 'confidence': 0.9996}], 'entities': {'subject:subject': [{'id': '3187784944605415', 'name': 'subject', 'role': 'subject', 'start': 9, 'end': 45, 'body': 'between different types of groceries', 'confidence': 0.6255, 'entities': [], 'suggested': True, 'value': 'between different types of groceries', 'type': 'value'}]}, 'traits': {}}\n",
      "True\n",
      "\n",
      "{'text': 'determine which team will emerge victorious', 'intents': [{'id': '1728532153951407', 'name': 'task_class', 'confidence': 0.9881}], 'entities': {'subject:subject': [{'id': '3187784944605415', 'name': 'subject', 'role': 'subject', 'start': 10, 'end': 43, 'body': 'which team will emerge victorious', 'confidence': 0.8514, 'entities': [], 'suggested': True, 'value': 'which team will emerge victorious', 'type': 'value'}]}, 'traits': {}}\n",
      "True\n",
      "\n",
      "{'text': 'determine whether a rebate is legit or not', 'intents': [{'id': '1728532153951407', 'name': 'task_class', 'confidence': 0.9995}], 'entities': {'subject:subject': [{'id': '3187784944605415', 'name': 'subject', 'role': 'subject', 'start': 18, 'end': 42, 'body': 'a rebate is legit or not', 'confidence': 0.9499, 'entities': [], 'suggested': True, 'value': 'a rebate is legit or not', 'type': 'value'}]}, 'traits': {}}\n",
      "True\n",
      "\n",
      "{'text': 'determine whether a nose is long or small', 'intents': [{'id': '1728532153951407', 'name': 'task_class', 'confidence': 0.9989}], 'entities': {'subject:subject': [{'id': '3187784944605415', 'name': 'subject', 'role': 'subject', 'start': 18, 'end': 41, 'body': 'a nose is long or small', 'confidence': 0.9609, 'entities': [], 'suggested': True, 'value': 'a nose is long or small', 'type': 'value'}]}, 'traits': {}}\n",
      "True\n",
      "\n",
      "{'text': 'determine if a figure is male or female', 'intents': [{'id': '1728532153951407', 'name': 'task_class', 'confidence': 0.9959}], 'entities': {'subject:subject': [{'id': '3187784944605415', 'name': 'subject', 'role': 'subject', 'start': 13, 'end': 39, 'body': 'a figure is male or female', 'confidence': 0.9246, 'entities': [], 'suggested': True, 'value': 'a figure is male or female', 'type': 'value'}]}, 'traits': {}}\n",
      "True\n",
      "\n",
      "{'text': 'decide what kind of animal this is', 'intents': [{'id': '1728532153951407', 'name': 'task_class', 'confidence': 0.987}], 'entities': {'subject:subject': [{'id': '3187784944605415', 'name': 'subject', 'role': 'subject', 'start': 20, 'end': 34, 'body': 'animal this is', 'confidence': 0.9715, 'entities': [], 'suggested': True, 'value': 'animal this is', 'type': 'value'}]}, 'traits': {}}\n",
      "True\n",
      "\n",
      "{'text': 'categorize car pics between sedan or minivan', 'intents': [{'id': '1728532153951407', 'name': 'task_class', 'confidence': 0.9974}], 'entities': {'subject:subject': [{'id': '3187784944605415', 'name': 'subject', 'role': 'subject', 'start': 15, 'end': 44, 'body': 'pics between sedan or minivan', 'confidence': 0.88, 'entities': [], 'suggested': True, 'value': 'pics between sedan or minivan', 'type': 'value'}]}, 'traits': {}}\n",
      "True\n",
      "\n",
      "{'text': 'sort music by historical influences', 'intents': [{'id': '184248982902938', 'name': 'task_reg', 'confidence': 0.7074}], 'entities': {'subject:subject': [{'id': '3187784944605415', 'name': 'subject', 'role': 'subject', 'start': 5, 'end': 35, 'body': 'music by historical influences', 'confidence': 0.8285, 'entities': [], 'suggested': True, 'value': 'music by historical influences', 'type': 'value'}]}, 'traits': {}}\n",
      "False\n",
      "\n",
      "{'text': 'sort album covers', 'intents': [{'id': '184248982902938', 'name': 'task_reg', 'confidence': 0.6273}], 'entities': {'subject:subject': [{'id': '3187784944605415', 'name': 'subject', 'role': 'subject', 'start': 5, 'end': 17, 'body': 'album covers', 'confidence': 0.8315, 'entities': [], 'suggested': True, 'value': 'album covers', 'type': 'value'}]}, 'traits': {}}\n",
      "False\n",
      "\n",
      "{'text': 'discriminate between spanish and french', 'intents': [{'id': '1728532153951407', 'name': 'task_class', 'confidence': 0.9802}], 'entities': {'subject:subject': [{'id': '3187784944605415', 'name': 'subject', 'role': 'subject', 'start': 13, 'end': 39, 'body': 'between spanish and french', 'confidence': 0.8541, 'entities': [], 'suggested': True, 'value': 'between spanish and french', 'type': 'value'}]}, 'traits': {}}\n",
      "True\n",
      "\n",
      "{'text': 'predict if an account is related to terrorism or not', 'intents': [{'id': '1728532153951407', 'name': 'task_class', 'confidence': 0.9952}], 'entities': {'subject:subject': [{'id': '3187784944605415', 'name': 'subject', 'role': 'subject', 'start': 8, 'end': 52, 'body': 'if an account is related to terrorism or not', 'confidence': 0.807, 'entities': [], 'suggested': True, 'value': 'if an account is related to terrorism or not', 'type': 'value'}]}, 'traits': {}}\n",
      "True\n",
      "\n",
      "{'text': 'predict whether trump will get re-elected', 'intents': [{'id': '1728532153951407', 'name': 'task_class', 'confidence': 0.9978}], 'entities': {'subject:subject': [{'id': '3187784944605415', 'name': 'subject', 'role': 'subject', 'start': 16, 'end': 41, 'body': 'trump will get re-elected', 'confidence': 0.9156, 'entities': [], 'suggested': True, 'value': 'trump will get re-elected', 'type': 'value'}]}, 'traits': {}}\n",
      "True\n",
      "\n",
      "{'text': 'predict whether hail will form', 'intents': [{'id': '1728532153951407', 'name': 'task_class', 'confidence': 0.9988}], 'entities': {'subject:subject': [{'id': '3187784944605415', 'name': 'subject', 'role': 'subject', 'start': 16, 'end': 30, 'body': 'hail will form', 'confidence': 0.9012, 'entities': [], 'suggested': True, 'value': 'hail will form', 'type': 'value'}]}, 'traits': {}}\n",
      "True\n",
      "\n",
      "{'text': 'predict which search queries will', 'intents': [{'id': '1728532153951407', 'name': 'task_class', 'confidence': 0.9881}], 'entities': {'subject:subject': [{'id': '3187784944605415', 'name': 'subject', 'role': 'subject', 'start': 8, 'end': 33, 'body': 'which search queries will', 'confidence': 0.8149, 'entities': [], 'suggested': True, 'value': 'which search queries will', 'type': 'value'}]}, 'traits': {}}\n",
      "True\n",
      "\n",
      "{'text': 'predict what plays will be called', 'intents': [{'id': '1728532153951407', 'name': 'task_class', 'confidence': 0.9992}], 'entities': {'subject:subject': [{'id': '3187784944605415', 'name': 'subject', 'role': 'subject', 'start': 13, 'end': 33, 'body': 'plays will be called', 'confidence': 0.8768, 'entities': [], 'suggested': True, 'value': 'plays will be called', 'type': 'value'}]}, 'traits': {}}\n",
      "True\n",
      "\n",
      "{'text': 'predict outcome of a rock paper scissors match', 'intents': [{'id': '1728532153951407', 'name': 'task_class', 'confidence': 0.9925}], 'entities': {'subject:subject': [{'id': '3187784944605415', 'name': 'subject', 'role': 'subject', 'start': 19, 'end': 46, 'body': 'a rock paper scissors match', 'confidence': 0.9675, 'entities': [], 'suggested': True, 'value': 'a rock paper scissors match', 'type': 'value'}]}, 'traits': {}}\n",
      "True\n",
      "\n",
      "{'text': 'predict grading outcomes', 'intents': [{'id': '1728532153951407', 'name': 'task_class', 'confidence': 0.9507}], 'entities': {'subject:subject': [{'id': '3187784944605415', 'name': 'subject', 'role': 'subject', 'start': 8, 'end': 24, 'body': 'grading outcomes', 'confidence': 0.8295, 'entities': [], 'suggested': True, 'value': 'grading outcomes', 'type': 'value'}]}, 'traits': {}}\n",
      "True\n",
      "\n",
      "{'text': 'model the bias category', 'intents': [{'id': '1728532153951407', 'name': 'task_class', 'confidence': 0.9079}], 'entities': {'subject:subject': [{'id': '3187784944605415', 'name': 'subject', 'role': 'subject', 'start': 6, 'end': 23, 'body': 'the bias category', 'confidence': 0.9736, 'entities': [], 'suggested': True, 'value': 'the bias category', 'type': 'value'}]}, 'traits': {}}\n",
      "True\n",
      "\n",
      "{'text': 'put consumer products into categories', 'intents': [{'id': '1728532153951407', 'name': 'task_class', 'confidence': 0.9893}], 'entities': {'subject:subject': [{'id': '3187784944605415', 'name': 'subject', 'role': 'subject', 'start': 4, 'end': 37, 'body': 'consumer products into categories', 'confidence': 0.7693, 'entities': [], 'suggested': True, 'value': 'consumer products into categories', 'type': 'value'}]}, 'traits': {}}\n",
      "True\n",
      "\n",
      "{'text': 'predict the wine type in a glass', 'intents': [{'id': '1728532153951407', 'name': 'task_class', 'confidence': 0.9635}], 'entities': {'subject:subject': [{'id': '3187784944605415', 'name': 'subject', 'role': 'subject', 'start': 8, 'end': 32, 'body': 'the wine type in a glass', 'confidence': 0.7513, 'entities': [], 'suggested': True, 'value': 'the wine type in a glass', 'type': 'value'}]}, 'traits': {}}\n",
      "True\n",
      "\n",
      "{'text': 'determine the fungi type', 'intents': [{'id': '1728532153951407', 'name': 'task_class', 'confidence': 0.9656}], 'entities': {'subject:subject': [{'id': '3187784944605415', 'name': 'subject', 'role': 'subject', 'start': 10, 'end': 24, 'body': 'the fungi type', 'confidence': 0.9428, 'entities': [], 'suggested': True, 'value': 'the fungi type', 'type': 'value'}]}, 'traits': {}}\n",
      "True\n",
      "\n",
      "{'text': 'determine the kind of bullet in a gun', 'intents': [{'id': '1728532153951407', 'name': 'task_class', 'confidence': 0.9688}], 'entities': {'subject:subject': [{'id': '3187784944605415', 'name': 'subject', 'role': 'subject', 'start': 22, 'end': 37, 'body': 'bullet in a gun', 'confidence': 0.9123, 'entities': [], 'suggested': True, 'value': 'bullet in a gun', 'type': 'value'}]}, 'traits': {}}\n",
      "True\n",
      "\n",
      "{'text': 'predict the odds of dying', 'intents': [{'id': '1728532153951407', 'name': 'task_class', 'confidence': 0.9722}], 'entities': {'subject:subject': [{'id': '3187784944605415', 'name': 'subject', 'role': 'subject', 'start': 8, 'end': 25, 'body': 'the odds of dying', 'confidence': 0.7677, 'entities': [], 'suggested': True, 'value': 'the odds of dying', 'type': 'value'}]}, 'traits': {}}\n",
      "True\n",
      "\n",
      "{'text': 'predict likelihood of an ad being clicked on based on internet activity', 'intents': [{'id': '1728532153951407', 'name': 'task_class', 'confidence': 0.9952}], 'entities': {'subject:subject': [{'id': '3187784944605415', 'name': 'subject', 'role': 'subject', 'start': 22, 'end': 71, 'body': 'an ad being clicked on based on internet activity', 'confidence': 0.9592, 'entities': [], 'suggested': True, 'value': 'an ad being clicked on based on internet activity', 'type': 'value'}]}, 'traits': {}}\n",
      "True\n",
      "\n",
      "{'text': 'determine the probability that halo3 exists', 'intents': [{'id': '1728532153951407', 'name': 'task_class', 'confidence': 0.9995}], 'entities': {'subject:subject': [{'id': '3187784944605415', 'name': 'subject', 'role': 'subject', 'start': 10, 'end': 43, 'body': 'the probability that halo3 exists', 'confidence': 0.8834, 'entities': [], 'suggested': True, 'value': 'the probability that halo3 exists', 'type': 'value'}]}, 'traits': {}}\n",
      "True\n",
      "\n",
      "{'text': 'determine the likelihood that tomorrow is rainy', 'intents': [{'id': '1728532153951407', 'name': 'task_class', 'confidence': 0.9996}], 'entities': {'subject:subject': [{'id': '3187784944605415', 'name': 'subject', 'role': 'subject', 'start': 10, 'end': 47, 'body': 'the likelihood that tomorrow is rainy', 'confidence': 0.8916, 'entities': [], 'suggested': True, 'value': 'the likelihood that tomorrow is rainy', 'type': 'value'}]}, 'traits': {}}\n",
      "True\n",
      "\n",
      "{'text': 'predict the chances that amazon will be down', 'intents': [{'id': '1728532153951407', 'name': 'task_class', 'confidence': 0.9998}], 'entities': {'subject:subject': [{'id': '3187784944605415', 'name': 'subject', 'role': 'subject', 'start': 25, 'end': 44, 'body': 'amazon will be down', 'confidence': 0.9602, 'entities': [], 'suggested': True, 'value': 'amazon will be down', 'type': 'value'}]}, 'traits': {}}\n",
      "True\n",
      "\n",
      "{'text': 'estimate the chance of a lawsuit', 'intents': [{'id': '1728532153951407', 'name': 'task_class', 'confidence': 0.9712}], 'entities': {'subject:subject': [{'id': '3187784944605415', 'name': 'subject', 'role': 'subject', 'start': 23, 'end': 32, 'body': 'a lawsuit', 'confidence': 0.9796, 'entities': [], 'suggested': True, 'value': 'a lawsuit', 'type': 'value'}]}, 'traits': {}}\n",
      "True\n",
      "\n",
      "{'text': 'estimate likelihood of getting hired from my resume', 'intents': [{'id': '1728532153951407', 'name': 'task_class', 'confidence': 0.9823}], 'entities': {'subject:subject': [{'id': '3187784944605415', 'name': 'subject', 'role': 'subject', 'start': 23, 'end': 51, 'body': 'getting hired from my resume', 'confidence': 0.9554, 'entities': [], 'suggested': True, 'value': 'getting hired from my resume', 'type': 'value'}]}, 'traits': {}}\n",
      "True\n",
      "\n",
      "{'text': 'predict the chance of a wildfire', 'intents': [{'id': '1728532153951407', 'name': 'task_class', 'confidence': 0.9992}], 'entities': {'subject:subject': [{'id': '3187784944605415', 'name': 'subject', 'role': 'subject', 'start': 22, 'end': 32, 'body': 'a wildfire', 'confidence': 0.9774, 'entities': [], 'suggested': True, 'value': 'a wildfire', 'type': 'value'}]}, 'traits': {}}\n",
      "True\n",
      "\n",
      "{'text': 'estimate the odds of economic collapse', 'intents': [{'id': '1728532153951407', 'name': 'task_class', 'confidence': 0.9053}], 'entities': {'subject:subject': [{'id': '3187784944605415', 'name': 'subject', 'role': 'subject', 'start': 9, 'end': 38, 'body': 'the odds of economic collapse', 'confidence': 0.8038, 'entities': [], 'suggested': True, 'value': 'the odds of economic collapse', 'type': 'value'}]}, 'traits': {}}\n",
      "True\n",
      "\n",
      "{'text': 'model the probability of snowfall', 'intents': [{'id': '1728532153951407', 'name': 'task_class', 'confidence': 0.9595}], 'entities': {'subject:subject': [{'id': '3187784944605415', 'name': 'subject', 'role': 'subject', 'start': 6, 'end': 33, 'body': 'the probability of snowfall', 'confidence': 0.9118, 'entities': [], 'suggested': True, 'value': 'the probability of snowfall', 'type': 'value'}]}, 'traits': {}}\n",
      "True\n",
      "\n",
      "{'text': 'estimate probability of acceptance into grad school', 'intents': [{'id': '1728532153951407', 'name': 'task_class', 'confidence': 0.9823}], 'entities': {'subject:subject': [{'id': '3187784944605415', 'name': 'subject', 'role': 'subject', 'start': 24, 'end': 51, 'body': 'acceptance into grad school', 'confidence': 0.9568, 'entities': [], 'suggested': True, 'value': 'acceptance into grad school', 'type': 'value'}]}, 'traits': {}}\n",
      "True\n",
      "\n",
      "{'text': 'model the chances of recidivism based on race', 'intents': [{'id': '1728532153951407', 'name': 'task_class', 'confidence': 0.9742}], 'entities': {'subject:subject': [{'id': '3187784944605415', 'name': 'subject', 'role': 'subject', 'start': 21, 'end': 45, 'body': 'recidivism based on race', 'confidence': 0.9744, 'entities': [], 'suggested': True, 'value': 'recidivism based on race', 'type': 'value'}]}, 'traits': {}}\n",
      "True\n",
      "\n",
      "{'text': 'regression graph for stoplight count', 'intents': [{'id': '184248982902938', 'name': 'task_reg', 'confidence': 0.8202}], 'entities': {'subject:subject': [{'id': '3187784944605415', 'name': 'subject', 'role': 'subject', 'start': 21, 'end': 36, 'body': 'stoplight count', 'confidence': 0.9324, 'entities': [], 'suggested': True, 'value': 'stoplight count', 'type': 'value'}]}, 'traits': {}}\n",
      "True\n",
      "\n",
      "{'text': 'regression on financial data', 'intents': [{'id': '184248982902938', 'name': 'task_reg', 'confidence': 0.8449}], 'entities': {'subject:subject': [{'id': '3187784944605415', 'name': 'subject', 'role': 'subject', 'start': 11, 'end': 28, 'body': 'on financial data', 'confidence': 0.8547, 'entities': [], 'suggested': True, 'value': 'on financial data', 'type': 'value'}]}, 'traits': {}}\n",
      "True\n",
      "\n",
      "{'text': 'regression concerning the effect of trees on crime', 'intents': [{'id': '1728532153951407', 'name': 'task_class', 'confidence': 0.774}], 'entities': {'subject:subject': [{'id': '3187784944605415', 'name': 'subject', 'role': 'subject', 'start': 22, 'end': 50, 'body': 'the effect of trees on crime', 'confidence': 0.8302, 'entities': [], 'suggested': True, 'value': 'the effect of trees on crime', 'type': 'value'}]}, 'traits': {}}\n",
      "False\n",
      "\n",
      "{'text': 'projection for college tuition', 'intents': [{'id': '184248982902938', 'name': 'task_reg', 'confidence': 0.992}], 'entities': {'subject:subject': [{'id': '3187784944605415', 'name': 'subject', 'role': 'subject', 'start': 15, 'end': 30, 'body': 'college tuition', 'confidence': 0.8906, 'entities': [], 'suggested': True, 'value': 'college tuition', 'type': 'value'}]}, 'traits': {}}\n",
      "True\n",
      "\n",
      "{'text': 'projection on wage increases', 'intents': [{'id': '184248982902938', 'name': 'task_reg', 'confidence': 0.9964}], 'entities': {'subject:subject': [{'id': '3187784944605415', 'name': 'subject', 'role': 'subject', 'start': 11, 'end': 28, 'body': 'on wage increases', 'confidence': 0.8319, 'entities': [], 'suggested': True, 'value': 'on wage increases', 'type': 'value'}]}, 'traits': {}}\n",
      "True\n",
      "\n",
      "{'text': 'purchase forecasting', 'intents': [{'id': '184248982902938', 'name': 'task_reg', 'confidence': 0.9624}], 'entities': {}, 'traits': {}}\n",
      "True\n",
      "\n",
      "{'text': 'forecasting the level of precipitation', 'intents': [{'id': '184248982902938', 'name': 'task_reg', 'confidence': 0.9884}], 'entities': {'subject:subject': [{'id': '3187784944605415', 'name': 'subject', 'role': 'subject', 'start': 12, 'end': 38, 'body': 'the level of precipitation', 'confidence': 0.8482, 'entities': [], 'suggested': True, 'value': 'the level of precipitation', 'type': 'value'}]}, 'traits': {}}\n",
      "True\n",
      "\n",
      "{'text': 'tariff projections', 'intents': [{'id': '184248982902938', 'name': 'task_reg', 'confidence': 0.907}], 'entities': {'subject:subject': [{'id': '3187784944605415', 'name': 'subject', 'role': 'subject', 'start': 7, 'end': 18, 'body': 'projections', 'confidence': 0.8104, 'entities': [], 'suggested': True, 'value': 'projections', 'type': 'value'}]}, 'traits': {}}\n",
      "True\n",
      "\n",
      "{'text': 'annual profit estimation', 'intents': [{'id': '184248982902938', 'name': 'task_reg', 'confidence': 0.9931}], 'entities': {'subject:subject': [{'id': '3187784944605415', 'name': 'subject', 'role': 'subject', 'start': 7, 'end': 24, 'body': 'profit estimation', 'confidence': 0.7302, 'entities': [], 'suggested': True, 'value': 'profit estimation', 'type': 'value'}]}, 'traits': {}}\n",
      "True\n",
      "\n",
      "{'text': 'estimation of the budget', 'intents': [{'id': '184248982902938', 'name': 'task_reg', 'confidence': 0.8828}], 'entities': {'subject:subject': [{'id': '3187784944605415', 'name': 'subject', 'role': 'subject', 'start': 14, 'end': 24, 'body': 'the budget', 'confidence': 0.9683, 'entities': [], 'suggested': True, 'value': 'the budget', 'type': 'value'}]}, 'traits': {}}\n",
      "True\n",
      "\n",
      "{'text': 'estimate for the stock of affordable housing', 'intents': [{'id': '184248982902938', 'name': 'task_reg', 'confidence': 0.6768}], 'entities': {'subject:subject': [{'id': '3187784944605415', 'name': 'subject', 'role': 'subject', 'start': 13, 'end': 44, 'body': 'the stock of affordable housing', 'confidence': 0.9633, 'entities': [], 'suggested': True, 'value': 'the stock of affordable housing', 'type': 'value'}]}, 'traits': {}}\n",
      "True\n",
      "\n",
      "{'text': 'estimates of car accidents', 'intents': [{'id': '1728532153951407', 'name': 'task_class', 'confidence': 0.6223}], 'entities': {'subject:subject': [{'id': '3187784944605415', 'name': 'subject', 'role': 'subject', 'start': 13, 'end': 26, 'body': 'car accidents', 'confidence': 0.8704, 'entities': [], 'suggested': True, 'value': 'car accidents', 'type': 'value'}]}, 'traits': {}}\n",
      "False\n",
      "\n",
      "{'text': 'estimate closing price', 'intents': [{'id': '184248982902938', 'name': 'task_reg', 'confidence': 0.7339}], 'entities': {'subject:subject': [{'id': '3187784944605415', 'name': 'subject', 'role': 'subject', 'start': 9, 'end': 22, 'body': 'closing price', 'confidence': 0.8743, 'entities': [], 'suggested': True, 'value': 'closing price', 'type': 'value'}]}, 'traits': {}}\n",
      "True\n",
      "\n",
      "{'text': 'estimate potential stats of NFL draft prospect', 'intents': [{'id': '184248982902938', 'name': 'task_reg', 'confidence': 0.9211}], 'entities': {'subject:subject': [{'id': '3187784944605415', 'name': 'subject', 'role': 'subject', 'start': 9, 'end': 46, 'body': 'potential stats of NFL draft prospect', 'confidence': 0.7877, 'entities': [], 'suggested': True, 'value': 'potential stats of NFL draft prospect', 'type': 'value'}]}, 'traits': {}}\n",
      "True\n",
      "\n",
      "{'text': 'estimate age of a resident', 'intents': [{'id': '184248982902938', 'name': 'task_reg', 'confidence': 0.6145}], 'entities': {'subject:subject': [{'id': '3187784944605415', 'name': 'subject', 'role': 'subject', 'start': 16, 'end': 26, 'body': 'a resident', 'confidence': 0.9718, 'entities': [], 'suggested': True, 'value': 'a resident', 'type': 'value'}]}, 'traits': {}}\n",
      "True\n",
      "\n",
      "{'text': 'forecast for crime numbers in DC', 'intents': [{'id': '184248982902938', 'name': 'task_reg', 'confidence': 0.9991}], 'entities': {'subject:subject': [{'id': '3187784944605415', 'name': 'subject', 'role': 'subject', 'start': 13, 'end': 32, 'body': 'crime numbers in DC', 'confidence': 0.9406, 'entities': [], 'suggested': True, 'value': 'crime numbers in DC', 'type': 'value'}]}, 'traits': {}}\n",
      "True\n",
      "\n",
      "{'text': 'forecast the amount of rain', 'intents': [{'id': '184248982902938', 'name': 'task_reg', 'confidence': 0.9539}], 'entities': {'subject:subject': [{'id': '3187784944605415', 'name': 'subject', 'role': 'subject', 'start': 9, 'end': 27, 'body': 'the amount of rain', 'confidence': 0.8609, 'entities': [], 'suggested': True, 'value': 'the amount of rain', 'type': 'value'}]}, 'traits': {}}\n",
      "True\n",
      "\n",
      "{'text': 'project the cost of living in the boston suburbs', 'intents': [{'id': '184248982902938', 'name': 'task_reg', 'confidence': 0.9495}], 'entities': {'subject:subject': [{'id': '3187784944605415', 'name': 'subject', 'role': 'subject', 'start': 20, 'end': 48, 'body': 'living in the boston suburbs', 'confidence': 0.9604, 'entities': [], 'suggested': True, 'value': 'living in the boston suburbs', 'type': 'value'}]}, 'traits': {}}\n",
      "True\n",
      "\n",
      "{'text': 'project total coronavirus case count', 'intents': [{'id': '184248982902938', 'name': 'task_reg', 'confidence': 0.9956}], 'entities': {'subject:subject': [{'id': '3187784944605415', 'name': 'subject', 'role': 'subject', 'start': 8, 'end': 36, 'body': 'total coronavirus case count', 'confidence': 0.9464, 'entities': [], 'suggested': True, 'value': 'total coronavirus case count', 'type': 'value'}]}, 'traits': {}}\n",
      "True\n",
      "\n",
      "{'text': 'project inflation', 'intents': [{'id': '184248982902938', 'name': 'task_reg', 'confidence': 0.9963}], 'entities': {'subject:subject': [{'id': '3187784944605415', 'name': 'subject', 'role': 'subject', 'start': 8, 'end': 17, 'body': 'inflation', 'confidence': 0.8151, 'entities': [], 'suggested': True, 'value': 'inflation', 'type': 'value'}]}, 'traits': {}}\n",
      "True\n",
      "\n",
      "{'text': 'determine the number of leaves outside a mansion', 'intents': [{'id': '184248982902938', 'name': 'task_reg', 'confidence': 0.6766}], 'entities': {'subject:subject': [{'id': '3187784944605415', 'name': 'subject', 'role': 'subject', 'start': 10, 'end': 48, 'body': 'the number of leaves outside a mansion', 'confidence': 0.7165, 'entities': [], 'suggested': True, 'value': 'the number of leaves outside a mansion', 'type': 'value'}]}, 'traits': {}}\n",
      "True\n",
      "\n",
      "{'text': 'predict mean plane crashes', 'intents': [{'id': '1728532153951407', 'name': 'task_class', 'confidence': 0.7559}], 'entities': {'subject:subject': [{'id': '3187784944605415', 'name': 'subject', 'role': 'subject', 'start': 8, 'end': 26, 'body': 'mean plane crashes', 'confidence': 0.7886, 'entities': [], 'suggested': True, 'value': 'mean plane crashes', 'type': 'value'}]}, 'traits': {}}\n",
      "False\n",
      "\n",
      "{'text': 'predict the rate of reproduction for a given strain', 'intents': [{'id': '1728532153951407', 'name': 'task_class', 'confidence': 0.875}], 'entities': {'subject:subject': [{'id': '3187784944605415', 'name': 'subject', 'role': 'subject', 'start': 37, 'end': 51, 'body': 'a given strain', 'confidence': 0.9828, 'entities': [], 'suggested': True, 'value': 'a given strain', 'type': 'value'}]}, 'traits': {}}\n",
      "False\n",
      "\n",
      "{'text': 'model mean mortalities in any given stretch of time', 'intents': [{'id': '184248982902938', 'name': 'task_reg', 'confidence': 0.9742}], 'entities': {'subject:subject': [{'id': '3187784944605415', 'name': 'subject', 'role': 'subject', 'start': 6, 'end': 51, 'body': 'mean mortalities in any given stretch of time', 'confidence': 0.852, 'entities': [], 'suggested': True, 'value': 'mean mortalities in any given stretch of time', 'type': 'value'}]}, 'traits': {}}\n",
      "True\n",
      "\n",
      "{'text': 'predict the average sales number', 'intents': [{'id': '184248982902938', 'name': 'task_reg', 'confidence': 0.9783}], 'entities': {'subject:subject': [{'id': '3187784944605415', 'name': 'subject', 'role': 'subject', 'start': 8, 'end': 32, 'body': 'the average sales number', 'confidence': 0.947, 'entities': [], 'suggested': True, 'value': 'the average sales number', 'type': 'value'}]}, 'traits': {}}\n",
      "True\n",
      "\n",
      "{'text': 'predict total number of csections', 'intents': [{'id': '184248982902938', 'name': 'task_reg', 'confidence': 0.9971}], 'entities': {'subject:subject': [{'id': '3187784944605415', 'name': 'subject', 'role': 'subject', 'start': 8, 'end': 33, 'body': 'total number of csections', 'confidence': 0.9069, 'entities': [], 'suggested': True, 'value': 'total number of csections', 'type': 'value'}]}, 'traits': {}}\n",
      "True\n",
      "\n",
      "{'text': 'predict median asset figures', 'intents': [{'id': '184248982902938', 'name': 'task_reg', 'confidence': 0.5566}], 'entities': {'subject:subject': [{'id': '3187784944605415', 'name': 'subject', 'role': 'subject', 'start': 8, 'end': 28, 'body': 'median asset figures', 'confidence': 0.7918, 'entities': [], 'suggested': True, 'value': 'median asset figures', 'type': 'value'}]}, 'traits': {}}\n",
      "True\n",
      "\n",
      "{'text': 'predict the average length of friendships', 'intents': [{'id': '184248982902938', 'name': 'task_reg', 'confidence': 0.8421}], 'entities': {'subject:subject': [{'id': '3187784944605415', 'name': 'subject', 'role': 'subject', 'start': 8, 'end': 41, 'body': 'the average length of friendships', 'confidence': 0.8846, 'entities': [], 'suggested': True, 'value': 'the average length of friendships', 'type': 'value'}]}, 'traits': {}}\n",
      "True\n",
      "\n",
      "{'text': 'model field goal percentage', 'intents': [{'id': '184248982902938', 'name': 'task_reg', 'confidence': 0.9709}], 'entities': {'subject:subject': [{'id': '3187784944605415', 'name': 'subject', 'role': 'subject', 'start': 6, 'end': 27, 'body': 'field goal percentage', 'confidence': 0.8873, 'entities': [], 'suggested': True, 'value': 'field goal percentage', 'type': 'value'}]}, 'traits': {}}\n",
      "True\n",
      "\n",
      "{'text': 'predict average artist popularity after a new song release', 'intents': [{'id': '184248982902938', 'name': 'task_reg', 'confidence': 0.806}], 'entities': {'subject:subject': [{'id': '3187784944605415', 'name': 'subject', 'role': 'subject', 'start': 8, 'end': 58, 'body': 'average artist popularity after a new song release', 'confidence': 0.7614, 'entities': [], 'suggested': True, 'value': 'average artist popularity after a new song release', 'type': 'value'}]}, 'traits': {}}\n",
      "True\n",
      "\n",
      "{'text': 'estimate percentage of produce grown in the US', 'intents': [{'id': '184248982902938', 'name': 'task_reg', 'confidence': 0.9951}], 'entities': {'subject:subject': [{'id': '3187784944605415', 'name': 'subject', 'role': 'subject', 'start': 23, 'end': 46, 'body': 'produce grown in the US', 'confidence': 0.9166, 'entities': [], 'suggested': True, 'value': 'produce grown in the US', 'type': 'value'}]}, 'traits': {}}\n",
      "True\n",
      "\n",
      "{'text': 'predict the amount of time where status would get the most likes', 'intents': [{'id': '1728532153951407', 'name': 'task_class', 'confidence': 0.9697}], 'entities': {'subject:subject': [{'id': '3187784944605415', 'name': 'subject', 'role': 'subject', 'start': 22, 'end': 64, 'body': 'time where status would get the most likes', 'confidence': 0.9285, 'entities': [], 'suggested': True, 'value': 'time where status would get the most likes', 'type': 'value'}]}, 'traits': {}}\n",
      "False\n",
      "\n",
      "{'text': 'predict the rate of immunization use among the general population', 'intents': [{'id': '184248982902938', 'name': 'task_reg', 'confidence': 0.5225}], 'entities': {'subject:subject': [{'id': '3187784944605415', 'name': 'subject', 'role': 'subject', 'start': 20, 'end': 65, 'body': 'immunization use among the general population', 'confidence': 0.9333, 'entities': [], 'suggested': True, 'value': 'immunization use among the general population', 'type': 'value'}]}, 'traits': {}}\n",
      "True\n",
      "\n"
     ]
    }
   ],
   "source": [
    "for testExample in testJson:\n",
    "    rsp = requests.get(WIT_API_HOST + '/message', headers=HEADERS, params={'q': testExample['text']})\n",
    "    rspJson = rsp.json()\n",
    "    print(rspJson)\n",
    "    \n",
    "    print(len(rspJson['intents']) > 0 and rspJson['intents'][0]['name'] == testExample['intent'])\n",
    "    print()"
   ]
  },
  {
   "cell_type": "code",
   "execution_count": 345,
   "metadata": {},
   "outputs": [
    {
     "data": {
      "text/plain": [
       "1"
      ]
     },
     "execution_count": 345,
     "metadata": {},
     "output_type": "execute_result"
    }
   ],
   "source": [
    "len(getQueries())"
   ]
  },
  {
   "cell_type": "code",
   "execution_count": 320,
   "metadata": {},
   "outputs": [
    {
     "name": "stdin",
     "output_type": "stream",
     "text": [
      "CONFIRM DELETION:  yes\n"
     ]
    },
    {
     "name": "stdout",
     "output_type": "stream",
     "text": [
      "deleting the following. \n",
      "\n",
      "[{'text': 'phishing detection', 'entities': [], 'traits': [], 'intent': {'id': '1728532153951407', 'name': 'task_class'}}, {'text': 'project the quantity of drinks', 'entities': [], 'traits': [], 'intent': {'id': '184248982902938', 'name': 'task_reg'}}, {'text': 'project median incomes for 2023', 'entities': [], 'traits': [], 'intent': {'id': '184248982902938', 'name': 'task_reg'}}, {'text': 'classifies spam texts', 'entities': [], 'traits': [], 'intent': {'id': '1728532153951407', 'name': 'task_class'}}, {'text': 'decide if an email was spoofed', 'entities': [], 'traits': [], 'intent': {'id': '1728532153951407', 'name': 'task_class'}}, {'text': 'forecast the weather', 'entities': [], 'traits': [], 'intent': {'id': '184248982902938', 'name': 'task_reg'}}, {'text': 'label photos by if they are authentic or not', 'entities': [], 'traits': [], 'intent': {'id': '1728532153951407', 'name': 'task_class'}}, {'text': 'detect fraud', 'entities': [], 'traits': [], 'intent': {'id': '1728532153951407', 'name': 'task_class'}}, {'text': 'classifier for detecting frowns', 'entities': [], 'traits': [], 'intent': {'id': '1728532153951407', 'name': 'task_class'}}, {'text': 'classify between different types of groceries', 'entities': [], 'traits': [], 'intent': {'id': '1728532153951407', 'name': 'task_class'}}, {'text': 'predict whether trump will get re-elected', 'entities': [], 'traits': [], 'intent': {'id': '1728532153951407', 'name': 'task_class'}}, {'text': 'decide what kind of animal this is', 'entities': [], 'traits': [], 'intent': {'id': '1728532153951407', 'name': 'task_class'}}, {'text': 'detect if a patient has bronchitis from xrays', 'entities': [], 'traits': [], 'intent': {'id': '1728532153951407', 'name': 'task_class'}}, {'text': 'label news as real or fake', 'entities': [], 'traits': [], 'intent': {'id': '1728532153951407', 'name': 'task_class'}}, {'text': 'determines the level of security of a codebase', 'entities': [], 'traits': [], 'intent': {'id': '1728532153951407', 'name': 'task_class'}}, {'text': 'automated detection of safe drinking water', 'entities': [], 'traits': [], 'intent': {'id': '1728532153951407', 'name': 'task_class'}}, {'text': 'know if a loan application will be accepted or denied', 'entities': [], 'traits': [], 'intent': {'id': '1728532153951407', 'name': 'task_class'}}, {'text': 'categorize car pics between sedan or minivan', 'entities': [], 'traits': [], 'intent': {'id': '1728532153951407', 'name': 'task_class'}}, {'text': 'determine whether a picture was drawn by a gan', 'entities': [], 'traits': [], 'intent': {'id': '1728532153951407', 'name': 'task_class'}}, {'text': 'identify likely epicenters of outbreaks', 'entities': [], 'traits': [], 'intent': {'id': '1728532153951407', 'name': 'task_class'}}, {'text': 'forecast the amount of rain', 'entities': [], 'traits': [], 'intent': {'id': '184248982902938', 'name': 'task_reg'}}, {'text': 'project the cost of living in the boston suburbs', 'entities': [], 'traits': [], 'intent': {'id': '184248982902938', 'name': 'task_reg'}}, {'text': 'estimate normal life expectancy from medical data', 'entities': [], 'traits': [], 'intent': {'id': '184248982902938', 'name': 'task_reg'}}, {'text': 'regression for average occupancy', 'entities': [], 'traits': [], 'intent': {'id': '184248982902938', 'name': 'task_reg'}}, {'text': 'forecast stock prices over the next year', 'entities': [], 'traits': [], 'intent': {'id': '184248982902938', 'name': 'task_reg'}}, {'text': 'project total coronavirus case count', 'entities': [], 'traits': [], 'intent': {'id': '184248982902938', 'name': 'task_reg'}}, {'text': 'recognize face expressions ', 'entities': [], 'traits': [], 'intent': {'id': '1728532153951407', 'name': 'task_class'}}, {'text': 'project inflation ', 'entities': [], 'traits': [], 'intent': {'id': '184248982902938', 'name': 'task_reg'}}, {'text': 'tells me whether a string is a phone number or not', 'entities': [], 'traits': [], 'intent': {'id': '1728532153951407', 'name': 'task_class'}}, {'text': 'predicts if a crime will occur', 'entities': [], 'traits': [], 'intent': {'id': '1728532153951407', 'name': 'task_class'}}, {'text': 'predict the average sales number ', 'entities': [], 'traits': [], 'intent': {'id': '184248982902938', 'name': 'task_reg'}}, {'text': 'recognize questions for customer service interactions', 'entities': [], 'traits': [], 'intent': {'id': '1728532153951407', 'name': 'task_class'}}, {'text': 'deficit estimation', 'entities': [], 'traits': [], 'intent': {'id': '184248982902938', 'name': 'task_reg'}}, {'text': 'forecasts on food quantity', 'entities': [], 'traits': [], 'intent': {'id': '184248982902938', 'name': 'task_reg'}}, {'text': 'predict median asset figures', 'entities': [], 'traits': [], 'intent': {'id': '184248982902938', 'name': 'task_reg'}}, {'text': 'model mean mortalities in any given stretch of time', 'entities': [], 'traits': [], 'intent': {'id': '184248982902938', 'name': 'task_reg'}}, {'text': 'estimation of the budget', 'entities': [], 'traits': [], 'intent': {'id': '184248982902938', 'name': 'task_reg'}}, {'text': 'voice recognition ', 'entities': [], 'traits': [], 'intent': {'id': '1728532153951407', 'name': 'task_class'}}, {'text': 'projections about fatalities', 'entities': [], 'traits': [], 'intent': {'id': '184248982902938', 'name': 'task_reg'}}, {'text': 'tariff projections', 'entities': [], 'traits': [], 'intent': {'id': '184248982902938', 'name': 'task_reg'}}, {'text': 'recognizes if a woman is sad or happy', 'entities': [], 'traits': [], 'intent': {'id': '1728532153951407', 'name': 'task_class'}}, {'text': 'categorizes paintings by artistic style', 'entities': [], 'traits': [], 'intent': {'id': '1728532153951407', 'name': 'task_class'}}, {'text': 'regression graph for stoplight count', 'entities': [], 'traits': [], 'intent': {'id': '184248982902938', 'name': 'task_reg'}}, {'text': 'projection for college tuition', 'entities': [], 'traits': [], 'intent': {'id': '184248982902938', 'name': 'task_reg'}}, {'text': 'projection on wage increases', 'entities': [], 'traits': [], 'intent': {'id': '184248982902938', 'name': 'task_reg'}}, {'text': 'projection of healthcare expenditures over time', 'entities': [], 'traits': [], 'intent': {'id': '184248982902938', 'name': 'task_reg'}}, {'text': 'identifies contaminants', 'entities': [], 'traits': [], 'intent': {'id': '1728532153951407', 'name': 'task_class'}}, {'text': 'sort sketches that are based on the work of van gogh', 'entities': [], 'traits': [], 'intent': {'id': '1728532153951407', 'name': 'task_class'}}, {'text': 'classifier to identify high-risk populations', 'entities': [], 'traits': [], 'intent': {'id': '1728532153951407', 'name': 'task_class'}}, {'text': 'predict mean plane crashes', 'entities': [], 'traits': [], 'intent': {'id': '184248982902938', 'name': 'task_reg'}}, {'text': 'purchase forecasting', 'entities': [], 'traits': [], 'intent': {'id': '184248982902938', 'name': 'task_reg'}}, {'text': 'image classification on cifar-10', 'entities': [], 'traits': [], 'intent': {'id': '1728532153951407', 'name': 'task_class'}}, {'text': 'classification of audio samples', 'entities': [], 'traits': [], 'intent': {'id': '1728532153951407', 'name': 'task_class'}}, {'text': 'tells if a drawing is a cat', 'entities': [], 'traits': [], 'intent': {'id': '1728532153951407', 'name': 'task_class'}}, {'text': 'identify handwriting', 'entities': [], 'traits': [], 'intent': {'id': '1728532153951407', 'name': 'task_class'}}, {'text': 'classification model for movie genres', 'entities': [], 'traits': [], 'intent': {'id': '1728532153951407', 'name': 'task_class'}}, {'text': 'knows whether a medical procedure will succeed', 'entities': [], 'traits': [], 'intent': {'id': '1728532153951407', 'name': 'task_class'}}, {'text': 'predict the odds of dying', 'entities': [], 'traits': [], 'intent': {'id': '1728532153951407', 'name': 'task_class'}}, {'text': 'sort album covers', 'entities': [], 'traits': [], 'intent': {'id': '1728532153951407', 'name': 'task_class'}}, {'text': 'predict total number of csections', 'entities': [], 'traits': [], 'intent': {'id': '184248982902938', 'name': 'task_reg'}}, {'text': 'forecasting the level of precipitation', 'entities': [], 'traits': [], 'intent': {'id': '184248982902938', 'name': 'task_reg'}}, {'text': 'regression on median home values', 'entities': [], 'traits': [], 'intent': {'id': '184248982902938', 'name': 'task_reg'}}, {'text': 'model infertility rates', 'entities': [], 'traits': [], 'intent': {'id': '184248982902938', 'name': 'task_reg'}}, {'text': 'forecasting state budget shortfalls', 'entities': [], 'traits': [], 'intent': {'id': '184248982902938', 'name': 'task_reg'}}, {'text': 'revenue projection', 'entities': [], 'traits': [], 'intent': {'id': '184248982902938', 'name': 'task_reg'}}, {'text': 'projection for covid', 'entities': [], 'traits': [], 'intent': {'id': '184248982902938', 'name': 'task_reg'}}, {'text': 'predict the rate of reproduction for a given strain', 'entities': [], 'traits': [], 'intent': {'id': '184248982902938', 'name': 'task_reg'}}, {'text': 'estimate the gdp growth in q4', 'entities': [], 'traits': [], 'intent': {'id': '184248982902938', 'name': 'task_reg'}}, {'text': 'regression model to the number of deaths in a city', 'entities': [], 'traits': [], 'intent': {'id': '184248982902938', 'name': 'task_reg'}}, {'text': 'estimates of car accidents', 'entities': [], 'traits': [], 'intent': {'id': '184248982902938', 'name': 'task_reg'}}, {'text': 'model traffic violation count', 'entities': [], 'traits': [], 'intent': {'id': '184248982902938', 'name': 'task_reg'}}, {'text': 'estimate for the stock of affordable housing', 'entities': [], 'traits': [], 'intent': {'id': '184248982902938', 'name': 'task_reg'}}, {'text': 'quota forecasting', 'entities': [], 'traits': [], 'intent': {'id': '184248982902938', 'name': 'task_reg'}}, {'text': 'estimate infections', 'entities': [], 'traits': [], 'intent': {'id': '184248982902938', 'name': 'task_reg'}}, {'text': 'regression on financial data', 'entities': [], 'traits': [], 'intent': {'id': '184248982902938', 'name': 'task_reg'}}, {'text': 'annual profit estimation', 'entities': [], 'traits': [], 'intent': {'id': '184248982902938', 'name': 'task_reg'}}, {'text': 'forecast for crime numbers in DC', 'entities': [], 'traits': [], 'intent': {'id': '184248982902938', 'name': 'task_reg'}}, {'text': 'model the value of banking assets', 'entities': [], 'traits': [], 'intent': {'id': '184248982902938', 'name': 'task_reg'}}, {'text': 'facial recognition ', 'entities': [], 'traits': [], 'intent': {'id': '1728532153951407', 'name': 'task_class'}}, {'text': 'predict the chances that a tsunami happens', 'entities': [], 'traits': [], 'intent': {'id': '1728532153951407', 'name': 'task_class'}}, {'text': 'predict the wine type in a glass', 'entities': [], 'traits': [], 'intent': {'id': '1728532153951407', 'name': 'task_class'}}, {'text': 'discriminate weeds from grass', 'entities': [], 'traits': [], 'intent': {'id': '1728532153951407', 'name': 'task_class'}}, {'text': 'predict likelihood of an ad being clicked on based on internet activity', 'entities': [], 'traits': [], 'intent': {'id': '1728532153951407', 'name': 'task_class'}}, {'text': 'estimate likelihood of my dad coming back from the cigarette store', 'entities': [], 'traits': [], 'intent': {'id': '1728532153951407', 'name': 'task_class'}}, {'text': 'label dog breed as aggressive or non-aggressive', 'entities': [], 'traits': [], 'intent': {'id': '1728532153951407', 'name': 'task_class'}}, {'text': 'predict the amount of time where status would get the most likes', 'entities': [], 'traits': [], 'intent': {'id': '184248982902938', 'name': 'task_reg'}}, {'text': 'identify what type of truck is in a frame', 'entities': [], 'traits': [], 'intent': {'id': '1728532153951407', 'name': 'task_class'}}, {'text': 'classify a tumor as cancerous or benign', 'entities': [], 'traits': [], 'intent': {'id': '1728532153951407', 'name': 'task_class'}}, {'text': 'determine the total energy of an atomic system', 'entities': [], 'traits': [], 'intent': {'id': '184248982902938', 'name': 'task_reg'}}, {'text': 'predict the odds that obama will tweet', 'entities': [], 'traits': [], 'intent': {'id': '1728532153951407', 'name': 'task_class'}}, {'text': 'estimate likelihood of getting hired from my resume', 'entities': [], 'traits': [], 'intent': {'id': '1728532153951407', 'name': 'task_class'}}, {'text': 'determine the likelihood of an appeal', 'entities': [], 'traits': [], 'intent': {'id': '1728532153951407', 'name': 'task_class'}}, {'text': 'predict grading outcomes', 'entities': [], 'traits': [], 'intent': {'id': '1728532153951407', 'name': 'task_class'}}, {'text': 'determine whether or not an illustration contains an arm', 'entities': [], 'traits': [], 'intent': {'id': '1728532153951407', 'name': 'task_class'}}, {'text': 'model average earnings of musicians ', 'entities': [], 'traits': [], 'intent': {'id': '184248982902938', 'name': 'task_reg'}}, {'text': 'estimate probability of acceptance into grad school', 'entities': [], 'traits': [], 'intent': {'id': '1728532153951407', 'name': 'task_class'}}, {'text': 'classify types of music', 'entities': [], 'traits': [], 'intent': {'id': '1728532153951407', 'name': 'task_class'}}, {'text': 'model the bias category', 'entities': [], 'traits': [], 'intent': {'id': '1728532153951407', 'name': 'task_class'}}, {'text': 'determine whether a nose is long or small', 'entities': [], 'traits': [], 'intent': {'id': '1728532153951407', 'name': 'task_class'}}, {'text': 'classify antibiotics by side effects', 'entities': [], 'traits': [], 'intent': {'id': '1728532153951407', 'name': 'task_class'}}, {'text': 'determine the likelihood that tomorrow is rainy', 'entities': [], 'traits': [], 'intent': {'id': '1728532153951407', 'name': 'task_class'}}, {'text': 'predict the average length of friendships', 'entities': [], 'traits': [], 'intent': {'id': '184248982902938', 'name': 'task_reg'}}, {'text': 'estimate average living expenses based on amazon orders', 'entities': [], 'traits': [], 'intent': {'id': '184248982902938', 'name': 'task_reg'}}, {'text': 'predict the chances that amazon will be down', 'entities': [], 'traits': [], 'intent': {'id': '1728532153951407', 'name': 'task_class'}}, {'text': 'determine the probability that halo3 exists', 'entities': [], 'traits': [], 'intent': {'id': '1728532153951407', 'name': 'task_class'}}, {'text': 'predict the average length of Instagram downtime', 'entities': [], 'traits': [], 'intent': {'id': '184248982902938', 'name': 'task_reg'}}, {'text': 'predict outcome of a rock paper scissors match', 'entities': [], 'traits': [], 'intent': {'id': '1728532153951407', 'name': 'task_class'}}, {'text': 'estimate the likelihood of a structural failure', 'entities': [], 'traits': [], 'intent': {'id': '1728532153951407', 'name': 'task_class'}}, {'text': 'estimate percentage of produce grown in the US', 'entities': [], 'traits': [], 'intent': {'id': '184248982902938', 'name': 'task_reg'}}, {'text': 'determine the fungi type', 'entities': [], 'traits': [], 'intent': {'id': '1728532153951407', 'name': 'task_class'}}, {'text': 'predict number of likes on an instagram post', 'entities': [], 'traits': [], 'intent': {'id': '184248982902938', 'name': 'task_reg'}}, {'text': 'estimate potential stats of NFL draft prospect', 'entities': [], 'traits': [], 'intent': {'id': '184248982902938', 'name': 'task_reg'}}, {'text': 'regression concerning the effect of trees on crime', 'entities': [], 'traits': [], 'intent': {'id': '184248982902938', 'name': 'task_reg'}}, {'text': 'model the total vaccination count', 'entities': [], 'traits': [], 'intent': {'id': '184248982902938', 'name': 'task_reg'}}, {'text': 'detection of hacking', 'entities': [], 'traits': [], 'intent': {'id': '1728532153951407', 'name': 'task_class'}}, {'text': 'recognize someone as a movie actor vs tv show actor', 'entities': [], 'traits': [], 'intent': {'id': '1728532153951407', 'name': 'task_class'}}, {'text': 'estimate the probability that i can fly', 'entities': [], 'traits': [], 'intent': {'id': '1728532153951407', 'name': 'task_class'}}, {'text': 'predict number of matches on tinder', 'entities': [], 'traits': [], 'intent': {'id': '184248982902938', 'name': 'task_reg'}}, {'text': 'tell if a song is old hip-hop vs new hip-hop', 'entities': [], 'traits': [], 'intent': {'id': '1728532153951407', 'name': 'task_class'}}, {'text': 'predict basketball tournament outcome', 'entities': [], 'traits': [], 'intent': {'id': '1728532153951407', 'name': 'task_class'}}, {'text': 'classify air quality', 'entities': [], 'traits': [], 'intent': {'id': '1728532153951407', 'name': 'task_class'}}, {'text': 'predict the number of views on a video', 'entities': [], 'traits': [], 'intent': {'id': '184248982902938', 'name': 'task_reg'}}, {'text': 'discriminate between spanish and french', 'entities': [], 'traits': [], 'intent': {'id': '1728532153951407', 'name': 'task_class'}}, {'text': 'predict which search queries will', 'entities': [], 'traits': [], 'intent': {'id': '1728532153951407', 'name': 'task_class'}}, {'text': 'label comments on facebook posts as belonging to a specific party', 'entities': [], 'traits': [], 'intent': {'id': '1728532153951407', 'name': 'task_class'}}, {'text': 'predict the type of damage', 'entities': [], 'traits': [], 'intent': {'id': '1728532153951407', 'name': 'task_class'}}, {'text': 'identify a type of disease based on the symptoms', 'entities': [], 'traits': [], 'intent': {'id': '1728532153951407', 'name': 'task_class'}}, {'text': 'model the property values around the bay area', 'entities': [], 'traits': [], 'intent': {'id': '184248982902938', 'name': 'task_reg'}}, {'text': 'predict the category a logo belongs in', 'entities': [], 'traits': [], 'intent': {'id': '1728532153951407', 'name': 'task_class'}}, {'text': 'estimate the chances of a bonus', 'entities': [], 'traits': [], 'intent': {'id': '1728532153951407', 'name': 'task_class'}}, {'text': 'detect political affiliation from tweets', 'entities': [], 'traits': [], 'intent': {'id': '1728532153951407', 'name': 'task_class'}}, {'text': 'estimate the odds of economic collapse', 'entities': [], 'traits': [], 'intent': {'id': '1728532153951407', 'name': 'task_class'}}, {'text': 'predict the chance of a wildfire', 'entities': [], 'traits': [], 'intent': {'id': '1728532153951407', 'name': 'task_class'}}, {'text': 'predict surgery outcomes', 'entities': [], 'traits': [], 'intent': {'id': '1728532153951407', 'name': 'task_class'}}, {'text': 'predict whether hail will form', 'entities': [], 'traits': [], 'intent': {'id': '1728532153951407', 'name': 'task_class'}}, {'text': 'sort dialects into regions', 'entities': [], 'traits': [], 'intent': {'id': '1728532153951407', 'name': 'task_class'}}, {'text': 'determine which team will emerge victorious', 'entities': [], 'traits': [], 'intent': {'id': '1728532153951407', 'name': 'task_class'}}, {'text': 'determine the kind of bullet in a gun', 'entities': [], 'traits': [], 'intent': {'id': '1728532153951407', 'name': 'task_class'}}, {'text': 'predict whether a flight will be cancelled', 'entities': [], 'traits': [], 'intent': {'id': '1728532153951407', 'name': 'task_class'}}, {'text': 'model the probability of another recession happening', 'entities': [], 'traits': [], 'intent': {'id': '1728532153951407', 'name': 'task_class'}}, {'text': 'know whether tesla stock will go up or down tomorrow', 'entities': [], 'traits': [], 'intent': {'id': '1728532153951407', 'name': 'task_class'}}, {'text': 'estimate body fat percentage based on photos', 'entities': [], 'traits': [], 'intent': {'id': '184248982902938', 'name': 'task_reg'}}, {'text': 'test whether a patient is sick from their medical history', 'entities': [], 'traits': [], 'intent': {'id': '1728532153951407', 'name': 'task_class'}}, {'text': 'model field goal percentage ', 'entities': [], 'traits': [], 'intent': {'id': '184248982902938', 'name': 'task_reg'}}, {'text': 'audio recognition that figures out the speaker', 'entities': [], 'traits': [], 'intent': {'id': '1728532153951407', 'name': 'task_class'}}, {'text': 'figure out what kind of plant this is', 'entities': [], 'traits': [], 'intent': {'id': '1728532153951407', 'name': 'task_class'}}, {'text': 'put consumer products into categories', 'entities': [], 'traits': [], 'intent': {'id': '1728532153951407', 'name': 'task_class'}}, {'text': 'predict what plays will be called', 'entities': [], 'traits': [], 'intent': {'id': '1728532153951407', 'name': 'task_class'}}, {'text': 'predict what shots to take', 'entities': [], 'traits': [], 'intent': {'id': '1728532153951407', 'name': 'task_class'}}, {'text': 'identify nations likely to undergo sudden change', 'entities': [], 'traits': [], 'intent': {'id': '1728532153951407', 'name': 'task_class'}}, {'text': 'model the chances of recidivism based on race', 'entities': [], 'traits': [], 'intent': {'id': '1728532153951407', 'name': 'task_class'}}, {'text': 'determine the number of leaves outside a mansion', 'entities': [], 'traits': [], 'intent': {'id': '184248982902938', 'name': 'task_reg'}}, {'text': 'determine the category', 'entities': [], 'traits': [], 'intent': {'id': '1728532153951407', 'name': 'task_class'}}, {'text': 'determine if a figure is male or female', 'entities': [], 'traits': [], 'intent': {'id': '1728532153951407', 'name': 'task_class'}}, {'text': 'estimate the chance of a lawsuit', 'entities': [], 'traits': [], 'intent': {'id': '1728532153951407', 'name': 'task_class'}}, {'text': 'predict if an account is related to terrorism or not', 'entities': [], 'traits': [], 'intent': {'id': '1728532153951407', 'name': 'task_class'}}, {'text': 'classify diagrams of bacteria', 'entities': [], 'traits': [], 'intent': {'id': '1728532153951407', 'name': 'task_class'}}, {'text': 'predict the probability of retaliation', 'entities': [], 'traits': [], 'intent': {'id': '1728532153951407', 'name': 'task_class'}}, {'text': 'estimate age of a resident', 'entities': [], 'traits': [], 'intent': {'id': '184248982902938', 'name': 'task_reg'}}, {'text': 'tell whether a pamphlet has logos in it or not', 'entities': [], 'traits': [], 'intent': {'id': '1728532153951407', 'name': 'task_class'}}, {'text': 'predict which chess strategy be used', 'entities': [], 'traits': [], 'intent': {'id': '1728532153951407', 'name': 'task_class'}}, {'text': 'model the odds that biden will win', 'entities': [], 'traits': [], 'intent': {'id': '1728532153951407', 'name': 'task_class'}}, {'text': 'classify plants as toxic/not toxic', 'entities': [], 'traits': [], 'intent': {'id': '1728532153951407', 'name': 'task_class'}}, {'text': 'model the likelihood of inbox delay', 'entities': [], 'traits': [], 'intent': {'id': '1728532153951407', 'name': 'task_class'}}, {'text': 'predict if a confession is truthful', 'entities': [], 'traits': [], 'intent': {'id': '1728532153951407', 'name': 'task_class'}}, {'text': 'determine whether a rebate is legit or not', 'entities': [], 'traits': [], 'intent': {'id': '1728532153951407', 'name': 'task_class'}}, {'text': 'classify locations as viable / non viable for a species', 'entities': [], 'traits': [], 'intent': {'id': '1728532153951407', 'name': 'task_class'}}, {'text': 'discrete categories of information', 'entities': [], 'traits': [], 'intent': {'id': '1728532153951407', 'name': 'task_class'}}, {'text': 'identify the squares with crosswalks', 'entities': [], 'traits': [], 'intent': {'id': '1728532153951407', 'name': 'task_class'}}, {'text': 'sort music by historical influences', 'entities': [], 'traits': [], 'intent': {'id': '1728532153951407', 'name': 'task_class'}}, {'text': 'model the probability of snowfall', 'entities': [], 'traits': [], 'intent': {'id': '1728532153951407', 'name': 'task_class'}}, {'text': 'predict percentage of manslaughter that is intended', 'entities': [], 'traits': [], 'intent': {'id': '184248982902938', 'name': 'task_reg'}}, {'text': 'estimate closing price', 'entities': [], 'traits': [], 'intent': {'id': '184248982902938', 'name': 'task_reg'}}, {'text': 'predict average artist popularity after a new song release', 'entities': [], 'traits': [], 'intent': {'id': '184248982902938', 'name': 'task_reg'}}, {'text': 'predict total population in 2050', 'entities': [], 'traits': [], 'intent': {'id': '184248982902938', 'name': 'task_reg'}}, {'text': 'predict the rate of immunization use among the general population', 'entities': [], 'traits': [], 'intent': {'id': '184248982902938', 'name': 'task_reg'}}]\n",
      "{'sent': True, 'n': 176}\n"
     ]
    }
   ],
   "source": [
    "delQueries(getQueries())"
   ]
  },
  {
   "cell_type": "code",
   "execution_count": null,
   "metadata": {},
   "outputs": [],
   "source": []
  }
 ],
 "metadata": {
  "kernelspec": {
   "display_name": "Python 3",
   "language": "python",
   "name": "python3"
  },
  "language_info": {
   "codemirror_mode": {
    "name": "ipython",
    "version": 3
   },
   "file_extension": ".py",
   "mimetype": "text/x-python",
   "name": "python",
   "nbconvert_exporter": "python",
   "pygments_lexer": "ipython3",
   "version": "3.7.6"
  }
 },
 "nbformat": 4,
 "nbformat_minor": 4
}

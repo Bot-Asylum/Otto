{
 "cells": [
  {
   "cell_type": "code",
   "execution_count": 260,
   "metadata": {},
   "outputs": [],
   "source": [
    "import requests\n",
    "import json\n",
    "import numpy as np\n",
    "from sklearn.model_selection import train_test_split\n",
    "import time"
   ]
  },
  {
   "cell_type": "code",
   "execution_count": 226,
   "metadata": {},
   "outputs": [],
   "source": [
    "WIT_API_HOST = 'https://api.wit.ai'\n",
    "WIT_API_VERSION = '20200513'"
   ]
  },
  {
   "cell_type": "code",
   "execution_count": 227,
   "metadata": {},
   "outputs": [],
   "source": [
    "with open('token.txt') as file:\n",
    "    TOKEN = file.read()\n",
    "    \n",
    "HEADERS = {\n",
    "    'authorization': 'Bearer ' + TOKEN,\n",
    "    'accept': 'application/vnd.wit.' + WIT_API_VERSION + '+json'\n",
    "}"
   ]
  },
  {
   "cell_type": "code",
   "execution_count": 228,
   "metadata": {},
   "outputs": [],
   "source": [
    "def getQueries():\n",
    "    rsp = requests.get(WIT_API_HOST + '/utterances', headers=HEADERS, params={'limit': 1000})\n",
    "    return rsp.json()"
   ]
  },
  {
   "cell_type": "code",
   "execution_count": 229,
   "metadata": {},
   "outputs": [],
   "source": [
    "def delQueries(queries):\n",
    "    if not queries:\n",
    "        print('empty list, aborting')\n",
    "        return\n",
    "    confirm = input('CONFIRM DELETION: ')\n",
    "    if confirm != 'yes':\n",
    "        print('aborting delete')\n",
    "        return\n",
    "    print('deleting the following. \\n')\n",
    "    print(queries)\n",
    "    \n",
    "    queriesDelete = [{k: v for k, v in query.items() if k.startswith('text')} for query in queries]\n",
    "    rsp = requests.delete(WIT_API_HOST + '/utterances', headers=HEADERS, data=str(queriesDelete))\n",
    "    \n",
    "    print(rsp.json())"
   ]
  },
  {
   "cell_type": "code",
   "execution_count": 271,
   "metadata": {},
   "outputs": [],
   "source": [
    "# [a,b,c]\n",
    "def getExamples(filename):\n",
    "    examples = np.loadtxt(filename, dtype='str', delimiter='\\n')\n",
    "    return examples"
   ]
  },
  {
   "cell_type": "code",
   "execution_count": 272,
   "metadata": {},
   "outputs": [],
   "source": [
    "# [[a,x],[b,x],[c,x]]\n",
    "def labelExamples(examples, label):\n",
    "    reshaped = np.reshape(examples, (-1, 1))\n",
    "    labels = np.full(examples.shape[0], label).reshape(-1, 1)\n",
    "    return np.concatenate((reshaped, labels), 1)"
   ]
  },
  {
   "cell_type": "code",
   "execution_count": 273,
   "metadata": {},
   "outputs": [],
   "source": [
    "# [ task1 [[a,x],[b,x],[c,x]] , task2 [[d,y],[e,y],[f,y]] ]\n",
    "def getLabeledExamples(filenames, labels):\n",
    "    data = []\n",
    "    for i in range(0, len(filenames)):\n",
    "        labeled = labelExamples(getExamples(filenames[i]), labels[i])\n",
    "        data.append(labeled)\n",
    "    return data"
   ]
  },
  {
   "cell_type": "code",
   "execution_count": 299,
   "metadata": {},
   "outputs": [],
   "source": [
    "# [ train: task1 + task2 , test: task1 + task2 ]\n",
    "def formTrainTest(data, split):\n",
    "    trains = []\n",
    "    tests = []\n",
    "    for dataset in data:\n",
    "        a, b = train_test_split(dataset, test_size=split)\n",
    "        trains.append(a)\n",
    "        tests.append(b)\n",
    "        \n",
    "    train = np.empty((0,2))\n",
    "    test = np.empty((0,2))\n",
    "    for i in range(len(trains)):\n",
    "        train = np.concatenate((train, trains[i]))\n",
    "        test = np.concatenate((test, tests[i]))\n",
    "        \n",
    "    return train, test"
   ]
  },
  {
   "cell_type": "code",
   "execution_count": 292,
   "metadata": {},
   "outputs": [],
   "source": [
    "def examplesToJson(examples):\n",
    "    json = []\n",
    "    for example in examples:\n",
    "        json.append({'text': example[0], 'intent': example[1], 'entities': [], 'traits': []})\n",
    "    return json"
   ]
  },
  {
   "cell_type": "code",
   "execution_count": 307,
   "metadata": {},
   "outputs": [],
   "source": [
    "data = getLabeledExamples(['class.txt', 'reg.txt'], ['task_class', 'task_reg'])\n",
    "train, test = formTrainTest(data, 0.0001)\n",
    "trainJson = examplesToJson(train)\n",
    "testJson = examplesToJson(test)"
   ]
  },
  {
   "cell_type": "code",
   "execution_count": 308,
   "metadata": {},
   "outputs": [],
   "source": [
    "#str(testJson)"
   ]
  },
  {
   "cell_type": "code",
   "execution_count": 309,
   "metadata": {},
   "outputs": [
    {
     "data": {
      "text/plain": [
       "{'sent': True, 'n': 174}"
      ]
     },
     "execution_count": 309,
     "metadata": {},
     "output_type": "execute_result"
    }
   ],
   "source": [
    "rsp = requests.post(WIT_API_HOST + '/utterances', headers=HEADERS, data=str(trainJson))\n",
    "rsp.json()"
   ]
  },
  {
   "cell_type": "code",
   "execution_count": 310,
   "metadata": {},
   "outputs": [
    {
     "ename": "KeyboardInterrupt",
     "evalue": "",
     "output_type": "error",
     "traceback": [
      "\u001b[0;31m---------------------------------------------------------------------------\u001b[0m",
      "\u001b[0;31mKeyboardInterrupt\u001b[0m                         Traceback (most recent call last)",
      "\u001b[0;32m<ipython-input-310-b9eeb07b546c>\u001b[0m in \u001b[0;36m<module>\u001b[0;34m\u001b[0m\n\u001b[0;32m----> 1\u001b[0;31m \u001b[0mtime\u001b[0m\u001b[0;34m.\u001b[0m\u001b[0msleep\u001b[0m\u001b[0;34m(\u001b[0m\u001b[0;36m60\u001b[0m\u001b[0;34m)\u001b[0m \u001b[0;31m# DELAY - ALLOW IT TO TRAIN\u001b[0m\u001b[0;34m\u001b[0m\u001b[0;34m\u001b[0m\u001b[0m\n\u001b[0m",
      "\u001b[0;31mKeyboardInterrupt\u001b[0m: "
     ]
    }
   ],
   "source": [
    "time.sleep(60) # DELAY - ALLOW IT TO TRAIN"
   ]
  },
  {
   "cell_type": "code",
   "execution_count": 313,
   "metadata": {},
   "outputs": [
    {
     "name": "stdout",
     "output_type": "stream",
     "text": [
      "{'text': 'label comments on facebook posts as belonging to a specific party', 'intents': [{'id': '1728532153951407', 'name': 'task_class', 'confidence': 0.9997}], 'entities': {}, 'traits': {}}\n",
      "True\n",
      "\n",
      "{'text': 'determine the total energy of an atomic system', 'intents': [{'id': '1728532153951407', 'name': 'task_class', 'confidence': 0.9957}], 'entities': {}, 'traits': {}}\n",
      "False\n",
      "\n"
     ]
    }
   ],
   "source": [
    "for testExample in testJson:\n",
    "    rsp = requests.get(WIT_API_HOST + '/message', headers=HEADERS, params={'q': testExample['text']})\n",
    "    rspJson = rsp.json()\n",
    "    print(rspJson)\n",
    "    \n",
    "    print(len(rspJson['intents']) > 0 and rspJson['intents'][0]['name'] == testExample['intent'])\n",
    "    print()"
   ]
  },
  {
   "cell_type": "code",
   "execution_count": 311,
   "metadata": {},
   "outputs": [
    {
     "data": {
      "text/plain": [
       "174"
      ]
     },
     "execution_count": 311,
     "metadata": {},
     "output_type": "execute_result"
    }
   ],
   "source": [
    "len(getQueries())"
   ]
  },
  {
   "cell_type": "code",
   "execution_count": 305,
   "metadata": {},
   "outputs": [
    {
     "name": "stdin",
     "output_type": "stream",
     "text": [
      "CONFIRM DELETION:  yes\n"
     ]
    },
    {
     "name": "stdout",
     "output_type": "stream",
     "text": [
      "deleting the following. \n",
      "\n",
      "[{'text': 'project median incomes for 2023', 'entities': [], 'traits': [], 'intent': {'id': '184248982902938', 'name': 'task_reg'}}, {'text': 'classifier for detecting frowns', 'entities': [], 'traits': [], 'intent': {'id': '1728532153951407', 'name': 'task_class'}}, {'text': 'predict whether trump will get re-elected', 'entities': [], 'traits': [], 'intent': {'id': '1728532153951407', 'name': 'task_class'}}, {'text': 'categorize car pics between sedan or minivan', 'entities': [], 'traits': [], 'intent': {'id': '1728532153951407', 'name': 'task_class'}}, {'text': 'determine whether a picture was drawn by a gan', 'entities': [], 'traits': [], 'intent': {'id': '1728532153951407', 'name': 'task_class'}}, {'text': 'forecast the amount of rain', 'entities': [], 'traits': [], 'intent': {'id': '184248982902938', 'name': 'task_reg'}}, {'text': 'project the cost of living in the boston suburbs', 'entities': [], 'traits': [], 'intent': {'id': '184248982902938', 'name': 'task_reg'}}, {'text': 'estimate normal life expectancy from medical data', 'entities': [], 'traits': [], 'intent': {'id': '184248982902938', 'name': 'task_reg'}}, {'text': 'regression for average occupancy', 'entities': [], 'traits': [], 'intent': {'id': '184248982902938', 'name': 'task_reg'}}, {'text': 'recognize face expressions ', 'entities': [], 'traits': [], 'intent': {'id': '1728532153951407', 'name': 'task_class'}}, {'text': 'predict the average sales number ', 'entities': [], 'traits': [], 'intent': {'id': '184248982902938', 'name': 'task_reg'}}, {'text': 'recognize questions for customer service interactions', 'entities': [], 'traits': [], 'intent': {'id': '1728532153951407', 'name': 'task_class'}}, {'text': 'deficit estimation', 'entities': [], 'traits': [], 'intent': {'id': '184248982902938', 'name': 'task_reg'}}, {'text': 'projections about fatalities', 'entities': [], 'traits': [], 'intent': {'id': '184248982902938', 'name': 'task_reg'}}, {'text': 'projection for college tuition', 'entities': [], 'traits': [], 'intent': {'id': '184248982902938', 'name': 'task_reg'}}, {'text': 'sort sketches that are based on the work of van gogh', 'entities': [], 'traits': [], 'intent': {'id': '1728532153951407', 'name': 'task_class'}}, {'text': 'image classification on cifar-10', 'entities': [], 'traits': [], 'intent': {'id': '1728532153951407', 'name': 'task_class'}}, {'text': 'classification of audio samples', 'entities': [], 'traits': [], 'intent': {'id': '1728532153951407', 'name': 'task_class'}}, {'text': 'sort album covers', 'entities': [], 'traits': [], 'intent': {'id': '1728532153951407', 'name': 'task_class'}}, {'text': 'forecasting the level of precipitation', 'entities': [], 'traits': [], 'intent': {'id': '184248982902938', 'name': 'task_reg'}}, {'text': 'regression on median home values', 'entities': [], 'traits': [], 'intent': {'id': '184248982902938', 'name': 'task_reg'}}, {'text': 'regression model to the number of deaths in a city', 'entities': [], 'traits': [], 'intent': {'id': '184248982902938', 'name': 'task_reg'}}, {'text': 'annual profit estimation', 'entities': [], 'traits': [], 'intent': {'id': '184248982902938', 'name': 'task_reg'}}, {'text': 'predict the chances that a tsunami happens', 'entities': [], 'traits': [], 'intent': {'id': '1728532153951407', 'name': 'task_class'}}, {'text': 'identify what type of truck is in a frame', 'entities': [], 'traits': [], 'intent': {'id': '1728532153951407', 'name': 'task_class'}}, {'text': 'predict grading outcomes', 'entities': [], 'traits': [], 'intent': {'id': '1728532153951407', 'name': 'task_class'}}, {'text': 'classify types of music', 'entities': [], 'traits': [], 'intent': {'id': '1728532153951407', 'name': 'task_class'}}, {'text': 'model the bias category', 'entities': [], 'traits': [], 'intent': {'id': '1728532153951407', 'name': 'task_class'}}, {'text': 'predict the average length of friendships', 'entities': [], 'traits': [], 'intent': {'id': '184248982902938', 'name': 'task_reg'}}, {'text': 'determine the probability that halo3 exists', 'entities': [], 'traits': [], 'intent': {'id': '1728532153951407', 'name': 'task_class'}}, {'text': 'predict the average length of Instagram downtime', 'entities': [], 'traits': [], 'intent': {'id': '184248982902938', 'name': 'task_reg'}}, {'text': 'estimate the likelihood of a structural failure', 'entities': [], 'traits': [], 'intent': {'id': '1728532153951407', 'name': 'task_class'}}, {'text': 'estimate percentage of produce grown in the US', 'entities': [], 'traits': [], 'intent': {'id': '184248982902938', 'name': 'task_reg'}}, {'text': 'determine the fungi type', 'entities': [], 'traits': [], 'intent': {'id': '1728532153951407', 'name': 'task_class'}}, {'text': 'estimate potential stats of NFL draft prospect', 'entities': [], 'traits': [], 'intent': {'id': '184248982902938', 'name': 'task_reg'}}, {'text': 'detection of hacking', 'entities': [], 'traits': [], 'intent': {'id': '1728532153951407', 'name': 'task_class'}}, {'text': 'predict basketball tournament outcome', 'entities': [], 'traits': [], 'intent': {'id': '1728532153951407', 'name': 'task_class'}}, {'text': 'classify air quality', 'entities': [], 'traits': [], 'intent': {'id': '1728532153951407', 'name': 'task_class'}}, {'text': 'predict which search queries will', 'entities': [], 'traits': [], 'intent': {'id': '1728532153951407', 'name': 'task_class'}}, {'text': 'model the property values around the bay area', 'entities': [], 'traits': [], 'intent': {'id': '184248982902938', 'name': 'task_reg'}}, {'text': 'detect political affiliation from tweets', 'entities': [], 'traits': [], 'intent': {'id': '1728532153951407', 'name': 'task_class'}}, {'text': 'predict whether hail will form', 'entities': [], 'traits': [], 'intent': {'id': '1728532153951407', 'name': 'task_class'}}, {'text': 'test whether a patient is sick from their medical history', 'entities': [], 'traits': [], 'intent': {'id': '1728532153951407', 'name': 'task_class'}}, {'text': 'identify nations likely to undergo sudden change', 'entities': [], 'traits': [], 'intent': {'id': '1728532153951407', 'name': 'task_class'}}, {'text': 'model the chances of recidivism based on race', 'entities': [], 'traits': [], 'intent': {'id': '1728532153951407', 'name': 'task_class'}}, {'text': 'determine the category', 'entities': [], 'traits': [], 'intent': {'id': '1728532153951407', 'name': 'task_class'}}, {'text': 'classify diagrams of bacteria', 'entities': [], 'traits': [], 'intent': {'id': '1728532153951407', 'name': 'task_class'}}, {'text': 'predict which chess strategy be used', 'entities': [], 'traits': [], 'intent': {'id': '1728532153951407', 'name': 'task_class'}}, {'text': 'classify plants as toxic/not toxic', 'entities': [], 'traits': [], 'intent': {'id': '1728532153951407', 'name': 'task_class'}}, {'text': 'predict if a confession is truthful', 'entities': [], 'traits': [], 'intent': {'id': '1728532153951407', 'name': 'task_class'}}, {'text': 'identify the squares with crosswalks', 'entities': [], 'traits': [], 'intent': {'id': '1728532153951407', 'name': 'task_class'}}, {'text': 'predict total population in 2050', 'entities': [], 'traits': [], 'intent': {'id': '184248982902938', 'name': 'task_reg'}}]\n",
      "{'sent': True, 'n': 52}\n"
     ]
    }
   ],
   "source": [
    "delQueries(getQueries())"
   ]
  },
  {
   "cell_type": "code",
   "execution_count": null,
   "metadata": {},
   "outputs": [],
   "source": []
  }
 ],
 "metadata": {
  "kernelspec": {
   "display_name": "Python 3",
   "language": "python",
   "name": "python3"
  },
  "language_info": {
   "codemirror_mode": {
    "name": "ipython",
    "version": 3
   },
   "file_extension": ".py",
   "mimetype": "text/x-python",
   "name": "python",
   "nbconvert_exporter": "python",
   "pygments_lexer": "ipython3",
   "version": "3.7.6"
  }
 },
 "nbformat": 4,
 "nbformat_minor": 4
}

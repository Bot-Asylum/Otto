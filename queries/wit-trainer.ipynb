{
 "cells": [
  {
   "cell_type": "code",
   "execution_count": 260,
   "metadata": {},
   "outputs": [],
   "source": [
    "import requests\n",
    "import json\n",
    "import numpy as np\n",
    "from sklearn.model_selection import train_test_split\n",
    "import time"
   ]
  },
  {
   "cell_type": "code",
   "execution_count": 226,
   "metadata": {},
   "outputs": [],
   "source": [
    "WIT_API_HOST = 'https://api.wit.ai'\n",
    "WIT_API_VERSION = '20200513'"
   ]
  },
  {
   "cell_type": "code",
   "execution_count": 227,
   "metadata": {},
   "outputs": [],
   "source": [
    "with open('token.txt') as file:\n",
    "    TOKEN = file.read()\n",
    "    \n",
    "HEADERS = {\n",
    "    'authorization': 'Bearer ' + TOKEN,\n",
    "    'accept': 'application/vnd.wit.' + WIT_API_VERSION + '+json'\n",
    "}"
   ]
  },
  {
   "cell_type": "code",
   "execution_count": 228,
   "metadata": {},
   "outputs": [],
   "source": [
    "def getQueries():\n",
    "    rsp = requests.get(WIT_API_HOST + '/utterances', headers=HEADERS, params={'limit': 1000})\n",
    "    return rsp.json()"
   ]
  },
  {
   "cell_type": "code",
   "execution_count": 229,
   "metadata": {},
   "outputs": [],
   "source": [
    "def delQueries(queries):\n",
    "    if not queries:\n",
    "        print('empty list, aborting')\n",
    "        return\n",
    "    confirm = input('CONFIRM DELETION: ')\n",
    "    if confirm != 'yes':\n",
    "        print('aborting delete')\n",
    "        return\n",
    "    print('deleting the following. \\n')\n",
    "    print(queries)\n",
    "    \n",
    "    queriesDelete = [{k: v for k, v in query.items() if k.startswith('text')} for query in queries]\n",
    "    rsp = requests.delete(WIT_API_HOST + '/utterances', headers=HEADERS, data=str(queriesDelete))\n",
    "    \n",
    "    print(rsp.json())"
   ]
  },
  {
   "cell_type": "code",
   "execution_count": 248,
   "metadata": {},
   "outputs": [],
   "source": [
    "# [a,b,c]\n",
    "def getExamples(filename):\n",
    "    examples = np.loadtxt(filename, dtype='str', delimiter='\\n')\n",
    "    return examples"
   ]
  },
  {
   "cell_type": "code",
   "execution_count": 249,
   "metadata": {},
   "outputs": [],
   "source": [
    "# [[a,x],[b,x],[c,x]]\n",
    "def labelExamples(examples, label):\n",
    "    reshaped = np.reshape(examples, (-1, 1))\n",
    "    labels = np.full(examples.shape[0], label).reshape(-1, 1)\n",
    "    return np.concatenate((reshaped, labels), 1)"
   ]
  },
  {
   "cell_type": "code",
   "execution_count": 250,
   "metadata": {},
   "outputs": [],
   "source": [
    "# [ task1 [[a,x],[b,x],[c,x]] , task2 [[d,y],[e,y],[f,y]] ]\n",
    "def getLabeledExamples(filenames, labels):\n",
    "    data = []\n",
    "    for i in range(0, len(filenames)):\n",
    "        labeled = labelExamples(getExamples(filenames[i]), labels[i])\n",
    "        data.append(labeled)\n",
    "    return data"
   ]
  },
  {
   "cell_type": "code",
   "execution_count": 251,
   "metadata": {},
   "outputs": [],
   "source": [
    "# [ train: task1 + task2 , test: task1 + task2 ]\n",
    "def formTrainTest(data):\n",
    "    trains = []\n",
    "    tests = []\n",
    "    for dataset in data:\n",
    "        a, b = train_test_split(dataset, test_size=0.5)\n",
    "        trains.append(a)\n",
    "        tests.append(b)\n",
    "        \n",
    "    train = np.empty((0,2))\n",
    "    test = np.empty((0,2))\n",
    "    for i in range(len(trains)):\n",
    "        train = np.concatenate((train, trains[i]))\n",
    "        test = np.concatenate((test, tests[i]))\n",
    "        \n",
    "    return train, test"
   ]
  },
  {
   "cell_type": "code",
   "execution_count": 252,
   "metadata": {},
   "outputs": [],
   "source": [
    "def examplesToJson(examples):\n",
    "    json = []\n",
    "    for example in examples:\n",
    "        json.append({'text': example[0], 'intent': example[1], 'entities': [], 'traits': []})\n",
    "    return json"
   ]
  },
  {
   "cell_type": "code",
   "execution_count": 262,
   "metadata": {},
   "outputs": [],
   "source": [
    "data = getLabeledExamples(['class.txt', 'reg.txt'], ['task_class', 'task_reg'])\n",
    "train, test = formTrainTest(data)\n",
    "trainJson = examplesToJson(train)\n",
    "testJson = examplesToJson(test)"
   ]
  },
  {
   "cell_type": "code",
   "execution_count": 263,
   "metadata": {},
   "outputs": [],
   "source": [
    "#str(testJson)"
   ]
  },
  {
   "cell_type": "code",
   "execution_count": 264,
   "metadata": {},
   "outputs": [
    {
     "data": {
      "text/plain": [
       "{'sent': True, 'n': 40}"
      ]
     },
     "execution_count": 264,
     "metadata": {},
     "output_type": "execute_result"
    }
   ],
   "source": [
    "rsp = requests.post(WIT_API_HOST + '/utterances', headers=HEADERS, data=str(trainJson))\n",
    "rsp.json()"
   ]
  },
  {
   "cell_type": "code",
   "execution_count": 265,
   "metadata": {},
   "outputs": [],
   "source": [
    "time.sleep(30) # DELAY - ALLOW IT TO TRAIN"
   ]
  },
  {
   "cell_type": "code",
   "execution_count": 266,
   "metadata": {},
   "outputs": [
    {
     "name": "stdout",
     "output_type": "stream",
     "text": [
      "{'text': 'classifier to identify high-risk populations', 'intents': [{'id': '1728532153951407', 'name': 'task_class', 'confidence': 0.9419}], 'entities': {}, 'traits': {}}\n",
      "True\n",
      "\n",
      "{'text': 'automated detection of safe drinking water', 'intents': [{'id': '184248982902938', 'name': 'task_reg', 'confidence': 0.8001}], 'entities': {}, 'traits': {}}\n",
      "False\n",
      "\n",
      "{'text': 'classifies spam texts', 'intents': [{'id': '1728532153951407', 'name': 'task_class', 'confidence': 0.936}], 'entities': {}, 'traits': {}}\n",
      "True\n",
      "\n",
      "{'text': 'decide if an email was spoofed', 'intents': [{'id': '1728532153951407', 'name': 'task_class', 'confidence': 0.9287}], 'entities': {}, 'traits': {}}\n",
      "True\n",
      "\n",
      "{'text': 'determines the level of security of a codebase', 'intents': [{'id': '1728532153951407', 'name': 'task_class', 'confidence': 0.8202}], 'entities': {}, 'traits': {}}\n",
      "True\n",
      "\n",
      "{'text': 'image classification on cifar-10', 'intents': [{'id': '1728532153951407', 'name': 'task_class', 'confidence': 0.5654}], 'entities': {}, 'traits': {}}\n",
      "True\n",
      "\n",
      "{'text': 'classification model for movie genres', 'intents': [{'id': '184248982902938', 'name': 'task_reg', 'confidence': 0.7759}], 'entities': {}, 'traits': {}}\n",
      "False\n",
      "\n",
      "{'text': 'classifier for detecting frowns', 'intents': [{'id': '1728532153951407', 'name': 'task_class', 'confidence': 0.7452}], 'entities': {}, 'traits': {}}\n",
      "True\n",
      "\n",
      "{'text': 'categorizes paintings by artistic style', 'intents': [{'id': '184248982902938', 'name': 'task_reg', 'confidence': 0.8057}], 'entities': {}, 'traits': {}}\n",
      "False\n",
      "\n",
      "{'text': 'detect if a patient has bronchitis from xrays', 'intents': [{'id': '1728532153951407', 'name': 'task_class', 'confidence': 0.9944}], 'entities': {}, 'traits': {}}\n",
      "True\n",
      "\n",
      "{'text': 'recognizes if a woman is sad or happy', 'intents': [{'id': '1728532153951407', 'name': 'task_class', 'confidence': 0.9997}], 'entities': {}, 'traits': {}}\n",
      "True\n",
      "\n",
      "{'text': 'label photos by if they are authentic or not', 'intents': [{'id': '1728532153951407', 'name': 'task_class', 'confidence': 0.9318}], 'entities': {}, 'traits': {}}\n",
      "True\n",
      "\n",
      "{'text': 'phishing detection', 'intents': [{'id': '184248982902938', 'name': 'task_reg', 'confidence': 0.5616}], 'entities': {}, 'traits': {}}\n",
      "False\n",
      "\n",
      "{'text': 'categorize car pics between sedan or minivan', 'intents': [{'id': '1728532153951407', 'name': 'task_class', 'confidence': 0.6523}], 'entities': {}, 'traits': {}}\n",
      "True\n",
      "\n",
      "{'text': 'identify likely epicenters of outbreaks', 'intents': [{'id': '1728532153951407', 'name': 'task_class', 'confidence': 0.9797}], 'entities': {}, 'traits': {}}\n",
      "True\n",
      "\n",
      "{'text': 'knows whether a medical procedure will succeed', 'intents': [{'id': '1728532153951407', 'name': 'task_class', 'confidence': 0.9789}], 'entities': {}, 'traits': {}}\n",
      "True\n",
      "\n",
      "{'text': 'recognize face expressions', 'intents': [{'id': '1728532153951407', 'name': 'task_class', 'confidence': 0.8985}], 'entities': {}, 'traits': {}}\n",
      "True\n",
      "\n",
      "{'text': 'predict the odds of dying', 'intents': [{'id': '184248982902938', 'name': 'task_reg', 'confidence': 0.9428}], 'entities': {}, 'traits': {}}\n",
      "False\n",
      "\n",
      "{'text': 'determine whether a picture was drawn by a gan', 'intents': [{'id': '1728532153951407', 'name': 'task_class', 'confidence': 0.9903}], 'entities': {}, 'traits': {}}\n",
      "True\n",
      "\n",
      "{'text': 'regression on median home values', 'intents': [{'id': '184248982902938', 'name': 'task_reg', 'confidence': 0.9858}], 'entities': {}, 'traits': {}}\n",
      "True\n",
      "\n",
      "{'text': 'regression on financial data', 'intents': [{'id': '184248982902938', 'name': 'task_reg', 'confidence': 0.8653}], 'entities': {}, 'traits': {}}\n",
      "True\n",
      "\n",
      "{'text': 'model mean mortalities in any given stretch of time', 'intents': [{'id': '184248982902938', 'name': 'task_reg', 'confidence': 0.9417}], 'entities': {}, 'traits': {}}\n",
      "True\n",
      "\n",
      "{'text': 'forecasts on food quantity', 'intents': [{'id': '184248982902938', 'name': 'task_reg', 'confidence': 0.9506}], 'entities': {}, 'traits': {}}\n",
      "True\n",
      "\n",
      "{'text': 'project total coronavirus case count', 'intents': [{'id': '184248982902938', 'name': 'task_reg', 'confidence': 0.9961}], 'entities': {}, 'traits': {}}\n",
      "True\n",
      "\n",
      "{'text': 'projections about fatalities', 'intents': [{'id': '184248982902938', 'name': 'task_reg', 'confidence': 0.9677}], 'entities': {}, 'traits': {}}\n",
      "True\n",
      "\n",
      "{'text': 'deficit estimation', 'intents': [{'id': '184248982902938', 'name': 'task_reg', 'confidence': 0.865}], 'entities': {}, 'traits': {}}\n",
      "True\n",
      "\n",
      "{'text': 'estimate infections', 'intents': [{'id': '184248982902938', 'name': 'task_reg', 'confidence': 0.9956}], 'entities': {}, 'traits': {}}\n",
      "True\n",
      "\n",
      "{'text': 'project median incomes for 2023', 'intents': [{'id': '184248982902938', 'name': 'task_reg', 'confidence': 0.9968}], 'entities': {}, 'traits': {}}\n",
      "True\n",
      "\n",
      "{'text': 'predict the average sales number', 'intents': [{'id': '184248982902938', 'name': 'task_reg', 'confidence': 0.9244}], 'entities': {}, 'traits': {}}\n",
      "True\n",
      "\n",
      "{'text': 'forecast for crime numbers in DC', 'intents': [{'id': '184248982902938', 'name': 'task_reg', 'confidence': 0.9212}], 'entities': {}, 'traits': {}}\n",
      "True\n",
      "\n",
      "{'text': 'annual profit estimation', 'intents': [{'id': '184248982902938', 'name': 'task_reg', 'confidence': 0.965}], 'entities': {}, 'traits': {}}\n",
      "True\n",
      "\n",
      "{'text': 'purchase forecasting', 'intents': [{'id': '184248982902938', 'name': 'task_reg', 'confidence': 0.9837}], 'entities': {}, 'traits': {}}\n",
      "True\n",
      "\n",
      "{'text': 'regression model to the number of deaths in a city', 'intents': [{'id': '184248982902938', 'name': 'task_reg', 'confidence': 0.9871}], 'entities': {}, 'traits': {}}\n",
      "True\n",
      "\n",
      "{'text': 'estimation of the budget', 'intents': [{'id': '184248982902938', 'name': 'task_reg', 'confidence': 0.9903}], 'entities': {}, 'traits': {}}\n",
      "True\n",
      "\n",
      "{'text': 'model total vaccinations', 'intents': [{'id': '184248982902938', 'name': 'task_reg', 'confidence': 0.9804}], 'entities': {}, 'traits': {}}\n",
      "True\n",
      "\n",
      "{'text': 'projection of healthcare expenditures over time', 'intents': [{'id': '184248982902938', 'name': 'task_reg', 'confidence': 0.9954}], 'entities': {}, 'traits': {}}\n",
      "True\n",
      "\n",
      "{'text': 'forecast the amount of rain', 'intents': [{'id': '184248982902938', 'name': 'task_reg', 'confidence': 0.9542}], 'entities': {}, 'traits': {}}\n",
      "True\n",
      "\n",
      "{'text': 'projection for college tuition', 'intents': [{'id': '184248982902938', 'name': 'task_reg', 'confidence': 0.9978}], 'entities': {}, 'traits': {}}\n",
      "True\n",
      "\n",
      "{'text': 'forecasting the level of precipitation', 'intents': [{'id': '184248982902938', 'name': 'task_reg', 'confidence': 0.9973}], 'entities': {}, 'traits': {}}\n",
      "True\n",
      "\n",
      "{'text': 'predict the rate of reproduction for a given strain', 'intents': [{'id': '184248982902938', 'name': 'task_reg', 'confidence': 0.998}], 'entities': {}, 'traits': {}}\n",
      "True\n",
      "\n",
      "{'text': 'estimate normal life expectancy from medical data', 'intents': [{'id': '184248982902938', 'name': 'task_reg', 'confidence': 0.966}], 'entities': {}, 'traits': {}}\n",
      "True\n",
      "\n",
      "{'text': 'forecast the weather', 'intents': [{'id': '184248982902938', 'name': 'task_reg', 'confidence': 0.9565}], 'entities': {}, 'traits': {}}\n",
      "True\n",
      "\n"
     ]
    }
   ],
   "source": [
    "for testExample in testJson:\n",
    "    rsp = requests.get(WIT_API_HOST + '/message', headers=HEADERS, params={'q': testExample['text']})\n",
    "    rspJson = rsp.json()\n",
    "    print(rspJson)\n",
    "    \n",
    "    print(len(rspJson['intents']) > 0 and rspJson['intents'][0]['name'] == testExample['intent'])\n",
    "    print()"
   ]
  },
  {
   "cell_type": "code",
   "execution_count": 247,
   "metadata": {},
   "outputs": [
    {
     "data": {
      "text/plain": [
       "[]"
      ]
     },
     "execution_count": 247,
     "metadata": {},
     "output_type": "execute_result"
    }
   ],
   "source": [
    "getQueries()"
   ]
  },
  {
   "cell_type": "code",
   "execution_count": 261,
   "metadata": {},
   "outputs": [
    {
     "name": "stdin",
     "output_type": "stream",
     "text": [
      "CONFIRM DELETION:  yes\n"
     ]
    },
    {
     "name": "stdout",
     "output_type": "stream",
     "text": [
      "deleting the following. \n",
      "\n",
      "[{'text': 'phishing detection', 'entities': [], 'traits': [], 'intent': {'id': '1728532153951407', 'name': 'task_class'}}, {'text': 'project the quantity of drinks', 'entities': [], 'traits': [], 'intent': {'id': '184248982902938', 'name': 'task_reg'}}, {'text': 'project median incomes for 2023', 'entities': [], 'traits': [], 'intent': {'id': '184248982902938', 'name': 'task_reg'}}, {'text': 'classifies spam texts', 'entities': [], 'traits': [], 'intent': {'id': '1728532153951407', 'name': 'task_class'}}, {'text': 'forecast the weather', 'entities': [], 'traits': [], 'intent': {'id': '184248982902938', 'name': 'task_reg'}}, {'text': 'predict whether trump will get re-elected', 'entities': [], 'traits': [], 'intent': {'id': '1728532153951407', 'name': 'task_class'}}, {'text': 'detect if a patient has bronchitis from xrays', 'entities': [], 'traits': [], 'intent': {'id': '1728532153951407', 'name': 'task_class'}}, {'text': 'automated detection of safe drinking water', 'entities': [], 'traits': [], 'intent': {'id': '1728532153951407', 'name': 'task_class'}}, {'text': 'know if a loan application will be accepted or denied', 'entities': [], 'traits': [], 'intent': {'id': '1728532153951407', 'name': 'task_class'}}, {'text': 'categorize car pics between sedan or minivan', 'entities': [], 'traits': [], 'intent': {'id': '1728532153951407', 'name': 'task_class'}}, {'text': 'identify likely epicenters of outbreaks', 'entities': [], 'traits': [], 'intent': {'id': '1728532153951407', 'name': 'task_class'}}, {'text': 'forecast the amount of rain', 'entities': [], 'traits': [], 'intent': {'id': '184248982902938', 'name': 'task_reg'}}, {'text': 'estimate normal life expectancy from medical data', 'entities': [], 'traits': [], 'intent': {'id': '184248982902938', 'name': 'task_reg'}}, {'text': 'project total coronavirus case count', 'entities': [], 'traits': [], 'intent': {'id': '184248982902938', 'name': 'task_reg'}}, {'text': 'tells me whether a string is a phone number or not', 'entities': [], 'traits': [], 'intent': {'id': '1728532153951407', 'name': 'task_class'}}, {'text': 'predicts if a crime will occur', 'entities': [], 'traits': [], 'intent': {'id': '1728532153951407', 'name': 'task_class'}}, {'text': 'predict the average sales number ', 'entities': [], 'traits': [], 'intent': {'id': '184248982902938', 'name': 'task_reg'}}, {'text': 'recognize questions for customer service interactions', 'entities': [], 'traits': [], 'intent': {'id': '1728532153951407', 'name': 'task_class'}}, {'text': 'deficit estimation', 'entities': [], 'traits': [], 'intent': {'id': '184248982902938', 'name': 'task_reg'}}, {'text': 'forecasts on food quantity', 'entities': [], 'traits': [], 'intent': {'id': '184248982902938', 'name': 'task_reg'}}, {'text': 'predict median asset figures', 'entities': [], 'traits': [], 'intent': {'id': '184248982902938', 'name': 'task_reg'}}, {'text': 'model property values around the bay area', 'entities': [], 'traits': [], 'intent': {'id': '184248982902938', 'name': 'task_reg'}}, {'text': 'model mean mortalities in any given stretch of time', 'entities': [], 'traits': [], 'intent': {'id': '184248982902938', 'name': 'task_reg'}}, {'text': 'estimation of the budget', 'entities': [], 'traits': [], 'intent': {'id': '184248982902938', 'name': 'task_reg'}}, {'text': 'voice recognition ', 'entities': [], 'traits': [], 'intent': {'id': '1728532153951407', 'name': 'task_class'}}, {'text': 'model total vaccinations', 'entities': [], 'traits': [], 'intent': {'id': '184248982902938', 'name': 'task_reg'}}, {'text': 'projections about fatalities', 'entities': [], 'traits': [], 'intent': {'id': '184248982902938', 'name': 'task_reg'}}, {'text': 'tariff projections', 'entities': [], 'traits': [], 'intent': {'id': '184248982902938', 'name': 'task_reg'}}, {'text': 'recognizes if a woman is sad or happy', 'entities': [], 'traits': [], 'intent': {'id': '1728532153951407', 'name': 'task_class'}}, {'text': 'categorizes paintings by artistic style', 'entities': [], 'traits': [], 'intent': {'id': '1728532153951407', 'name': 'task_class'}}, {'text': 'regression graph for stoplight count', 'entities': [], 'traits': [], 'intent': {'id': '184248982902938', 'name': 'task_reg'}}, {'text': 'projection for college tuition', 'entities': [], 'traits': [], 'intent': {'id': '184248982902938', 'name': 'task_reg'}}, {'text': 'projection on wage increases', 'entities': [], 'traits': [], 'intent': {'id': '184248982902938', 'name': 'task_reg'}}, {'text': 'projection of healthcare expenditures over time', 'entities': [], 'traits': [], 'intent': {'id': '184248982902938', 'name': 'task_reg'}}, {'text': 'identifies contaminants', 'entities': [], 'traits': [], 'intent': {'id': '1728532153951407', 'name': 'task_class'}}, {'text': 'sort sketches that are based on the work of van gogh', 'entities': [], 'traits': [], 'intent': {'id': '1728532153951407', 'name': 'task_class'}}, {'text': 'classifier to identify high-risk populations', 'entities': [], 'traits': [], 'intent': {'id': '1728532153951407', 'name': 'task_class'}}, {'text': 'predict mean plane crashes', 'entities': [], 'traits': [], 'intent': {'id': '184248982902938', 'name': 'task_reg'}}, {'text': 'purchase forecasting', 'entities': [], 'traits': [], 'intent': {'id': '184248982902938', 'name': 'task_reg'}}, {'text': 'image classification on cifar-10', 'entities': [], 'traits': [], 'intent': {'id': '1728532153951407', 'name': 'task_class'}}]\n",
      "{'sent': True, 'n': 40}\n"
     ]
    }
   ],
   "source": [
    "delQueries(getQueries())"
   ]
  },
  {
   "cell_type": "code",
   "execution_count": null,
   "metadata": {},
   "outputs": [],
   "source": []
  }
 ],
 "metadata": {
  "kernelspec": {
   "display_name": "Python 3",
   "language": "python",
   "name": "python3"
  },
  "language_info": {
   "codemirror_mode": {
    "name": "ipython",
    "version": 3
   },
   "file_extension": ".py",
   "mimetype": "text/x-python",
   "name": "python",
   "nbconvert_exporter": "python",
   "pygments_lexer": "ipython3",
   "version": "3.7.6"
  }
 },
 "nbformat": 4,
 "nbformat_minor": 4
}

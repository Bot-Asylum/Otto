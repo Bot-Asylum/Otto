{
 "cells": [
  {
   "cell_type": "code",
   "execution_count": null,
   "metadata": {},
   "outputs": [],
   "source": [
    "import requests\n",
    "import json\n",
    "import numpy as np\n",
    "from sklearn.model_selection import train_test_split"
   ]
  },
  {
   "cell_type": "code",
   "execution_count": null,
   "metadata": {},
   "outputs": [],
   "source": [
    "WIT_API_HOST = 'https://api.wit.ai'\n",
    "WIT_API_VERSION = '20200513'"
   ]
  },
  {
   "cell_type": "code",
   "execution_count": null,
   "metadata": {},
   "outputs": [],
   "source": [
    "with open('token.txt') as file:\n",
    "    TOKEN = file.read()\n",
    "    \n",
    "HEADERS = {\n",
    "    'authorization': 'Bearer ' + TOKEN,\n",
    "    'accept': 'application/vnd.wit.' + WIT_API_VERSION + '+json'\n",
    "}"
   ]
  },
  {
   "cell_type": "code",
   "execution_count": null,
   "metadata": {},
   "outputs": [],
   "source": [
    "def getQueries():\n",
    "    rsp = requests.get(WIT_API_HOST + '/utterances', headers=HEADERS, params={'limit': 1000})\n",
    "    return rsp.json()"
   ]
  },
  {
   "cell_type": "code",
   "execution_count": null,
   "metadata": {},
   "outputs": [],
   "source": [
    "def delQueries(queries):\n",
    "    if not queries:\n",
    "        print('empty list, aborting')\n",
    "        return\n",
    "    confirm = input('CONFIRM DELETION: ')\n",
    "    if confirm != 'yes':\n",
    "        print('aborting delete')\n",
    "        return\n",
    "    print('deleting the following. \\n')\n",
    "    print(queries)\n",
    "    \n",
    "    queriesDelete = [{k: v for k, v in query.items() if k.startswith('text')} for query in queries]\n",
    "    rsp = requests.delete(WIT_API_HOST + '/utterances', headers=HEADERS, data=str(queriesDelete))\n",
    "    \n",
    "    print(rsp.json())"
   ]
  },
  {
   "cell_type": "code",
   "execution_count": null,
   "metadata": {},
   "outputs": [],
   "source": [
    "# [a,b,c]\n",
    "def getExamples(filename):\n",
    "    examples = np.loadtxt(filename, dtype='str', delimiter='\\n')\n",
    "    return examples"
   ]
  },
  {
   "cell_type": "code",
   "execution_count": null,
   "metadata": {},
   "outputs": [],
   "source": [
    "# [[a,x],[b,x],[c,x]]\n",
    "def labelExamples(examples, label):\n",
    "    reshaped = np.reshape(examples, (-1, 1))\n",
    "    labels = np.full(examples.shape[0], label).reshape(-1, 1)\n",
    "    return np.concatenate((reshaped, labels), 1)"
   ]
  },
  {
   "cell_type": "code",
   "execution_count": 193,
   "metadata": {},
   "outputs": [],
   "source": [
    "# [ task1 [[a,x],[b,x],[c,x]] , task2 [[d,y],[e,y],[f,y]] ]\n",
    "def getLabeledExamples(filenames, labels):\n",
    "    data = []\n",
    "    for i in range(0, len(filenames)):\n",
    "        labeled = labelExamples(getExamples(filenames[i]), labels[i])\n",
    "        data.append(labeled)\n",
    "    return data"
   ]
  },
  {
   "cell_type": "code",
   "execution_count": 216,
   "metadata": {},
   "outputs": [],
   "source": [
    "# [ train: task1 + task2 , test: task1 + task2 ]\n",
    "def formTrainTest(data):\n",
    "    trains = []\n",
    "    tests = []\n",
    "    for dataset in data:\n",
    "        a, b = train_test_split(dataset, test_size=0.5)\n",
    "        trains.append(a)\n",
    "        tests.append(b)\n",
    "        \n",
    "    train = np.empty((0,2))\n",
    "    test = np.empty((0,2))\n",
    "    for i in range(len(trains)):\n",
    "        train = np.concatenate((train, trains[i]))\n",
    "        test = np.concatenate((test, tests[i]))\n",
    "        \n",
    "    return train, test"
   ]
  },
  {
   "cell_type": "code",
   "execution_count": 233,
   "metadata": {},
   "outputs": [],
   "source": [
    "def examplesToJson(examples):\n",
    "    json = []\n",
    "    for example in examples:\n",
    "        json.append({'text': example[0], 'intent': example[1]})\n",
    "    return json"
   ]
  },
  {
   "cell_type": "code",
   "execution_count": 234,
   "metadata": {},
   "outputs": [],
   "source": [
    "data = getLabeledExamples(['class.txt', 'reg.txt'], ['task_class', 'task_reg'])\n",
    "train, test = formTrainTest(data)\n",
    "trainJson = examplesToJson(train)\n",
    "testJson = examplesToJson(test)"
   ]
  },
  {
   "cell_type": "code",
   "execution_count": 240,
   "metadata": {},
   "outputs": [
    {
     "data": {
      "text/plain": [
       "\"[{'text': 'decide if an email was spoofed', 'intent': 'task_class'}, {'text': 'create something that predicts if a crime will occur', 'intent': 'task_class'}, {'text': 'categorize car pics between sedan or minivan', 'intent': 'task_class'}, {'text': 'phishing detection', 'intent': 'task_class'}, {'text': 'classify between different types of groceries', 'intent': 'task_class'}, {'text': 'classifies spam texts', 'intent': 'task_class'}, {'text': 'recognize face expressions ', 'intent': 'task_class'}, {'text': 'construct a model that recognizes if a woman is sad or happy', 'intent': 'task_class'}, {'text': 'make a model that tells if a drawing is a cat', 'intent': 'task_class'}, {'text': 'identify likely epicenters of outbreaks', 'intent': 'task_class'}, {'text': 'build a model that knows whether a medical procedure will succeed', 'intent': 'task_class'}, {'text': 'detect fraud', 'intent': 'task_class'}, {'text': 'automated detection of safe drinking water', 'intent': 'task_class'}, {'text': 'make a classifier to identify high-risk populations', 'intent': 'task_class'}, {'text': 'a model that categorizes paintings by artistic style', 'intent': 'task_class'}, {'text': 'project total coronavirus case count', 'intent': 'task_reg'}, {'text': 'make a projection of healthcare expenditures over time', 'intent': 'task_reg'}, {'text': 'forecast the weather', 'intent': 'task_reg'}, {'text': 'do regression on financial data', 'intent': 'task_reg'}, {'text': 'forecast stock prices over the next year', 'intent': 'task_reg'}, {'text': 'form projections about total fatalities', 'intent': 'task_reg'}, {'text': 'do estimates of mean car accidents', 'intent': 'task_reg'}, {'text': 'project the quantity of drinks', 'intent': 'task_reg'}, {'text': 'build projection for covid', 'intent': 'task_reg'}, {'text': 'project the cost of living in the boston suburbs', 'intent': 'task_reg'}, {'text': 'build forecasts on total food quantity', 'intent': 'task_reg'}, {'text': 'fit a regression model to the number of deaths in a city', 'intent': 'task_reg'}]\""
      ]
     },
     "execution_count": 240,
     "metadata": {},
     "output_type": "execute_result"
    }
   ],
   "source": [
    "str(trainJson)"
   ]
  },
  {
   "cell_type": "code",
   "execution_count": 239,
   "metadata": {},
   "outputs": [
    {
     "data": {
      "text/plain": [
       "{'error': 'Failed to validate utterance at index 0', 'code': 'bad-request'}"
      ]
     },
     "execution_count": 239,
     "metadata": {},
     "output_type": "execute_result"
    }
   ],
   "source": [
    "rsp = requests.post(WIT_API_HOST + '/utterances', headers=HEADERS, data=str(trainJson))\n",
    "rsp.json()"
   ]
  },
  {
   "cell_type": "code",
   "execution_count": null,
   "metadata": {},
   "outputs": [],
   "source": [
    "#getQueries()"
   ]
  },
  {
   "cell_type": "code",
   "execution_count": null,
   "metadata": {},
   "outputs": [],
   "source": [
    "#delQueries(getQueries())"
   ]
  }
 ],
 "metadata": {
  "kernelspec": {
   "display_name": "Python 3",
   "language": "python",
   "name": "python3"
  },
  "language_info": {
   "codemirror_mode": {
    "name": "ipython",
    "version": 3
   },
   "file_extension": ".py",
   "mimetype": "text/x-python",
   "name": "python",
   "nbconvert_exporter": "python",
   "pygments_lexer": "ipython3",
   "version": "3.7.4"
  }
 },
 "nbformat": 4,
 "nbformat_minor": 4
}

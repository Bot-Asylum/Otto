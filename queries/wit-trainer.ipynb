{
 "cells": [
  {
   "cell_type": "code",
   "execution_count": 67,
   "metadata": {},
   "outputs": [],
   "source": [
    "import requests\n",
    "import json\n",
    "import numpy as np\n",
    "from sklearn.model_selection import train_test_split"
   ]
  },
  {
   "cell_type": "code",
   "execution_count": null,
   "metadata": {},
   "outputs": [],
   "source": [
    "WIT_API_HOST = 'https://api.wit.ai'\n",
    "WIT_API_VERSION = '20200513'"
   ]
  },
  {
   "cell_type": "code",
   "execution_count": null,
   "metadata": {},
   "outputs": [],
   "source": [
    "with open('token.txt') as file:\n",
    "    TOKEN = file.read()\n",
    "    \n",
    "HEADERS = {\n",
    "    'authorization': 'Bearer ' + TOKEN,\n",
    "    'accept': 'application/vnd.wit.' + WIT_API_VERSION + '+json'\n",
    "}"
   ]
  },
  {
   "cell_type": "code",
   "execution_count": null,
   "metadata": {},
   "outputs": [],
   "source": [
    "def getQueries():\n",
    "    rsp = requests.get(WIT_API_HOST + '/utterances', headers=HEADERS, params={'limit': 1000})\n",
    "    return rsp.json()"
   ]
  },
  {
   "cell_type": "code",
   "execution_count": null,
   "metadata": {},
   "outputs": [],
   "source": [
    "def delQueries(queries):\n",
    "    if not queries:\n",
    "        print('empty list, aborting')\n",
    "        return\n",
    "    confirm = input('CONFIRM DELETION: ')\n",
    "    if confirm != 'yes':\n",
    "        print('aborting delete')\n",
    "        return\n",
    "    print('deleting the following. \\n')\n",
    "    print(queries)\n",
    "    \n",
    "    queriesDelete = [{k: v for k, v in query.items() if k.startswith('text')} for query in queries]\n",
    "    rsp = requests.delete(WIT_API_HOST + '/utterances', headers=HEADERS, data=str(queriesDelete))\n",
    "    \n",
    "    print(rsp.json())"
   ]
  },
  {
   "cell_type": "code",
   "execution_count": 87,
   "metadata": {},
   "outputs": [],
   "source": [
    "def getExamples(filename):\n",
    "    examples = np.loadtxt(filename, dtype='str', delimiter='\\n')\n",
    "    return examples"
   ]
  },
  {
   "cell_type": "code",
   "execution_count": 137,
   "metadata": {},
   "outputs": [],
   "source": [
    "# def labelExample(example, label):\n",
    "#     return [example,label]\n",
    "\n",
    "def labelExamples(examples, label):\n",
    "    #reshaped = np.reshape(examples, (-1, 1))\n",
    "    labels = np.full(examples.shape[0], label).reshape(-1, 1)\n",
    "#     print(reshaped.shape)\n",
    "#     print(labels.shape)\n",
    "#     return reshaped\n",
    "    return np.concatenate((reshaped, labels), 0)\n",
    "#     labeler = np.vectorize(labelExample)\n",
    "#     labeledExamples = labeler(examples, label)\n",
    "#     print(labeledExamples)"
   ]
  },
  {
   "cell_type": "code",
   "execution_count": 138,
   "metadata": {},
   "outputs": [
    {
     "data": {
      "text/plain": [
       "array([['do image classification on cifar-10'],\n",
       "       ['perform classification of audio samples'],\n",
       "       ['make a classifier to identify high-risk populations'],\n",
       "       ['classifier for detecting frowns'],\n",
       "       ['perform facial recognition '],\n",
       "       ['do voice recognition '],\n",
       "       ['automated detection of safe drinking water'],\n",
       "       ['phishing detection'],\n",
       "       ['make a model that tells if a drawing is a cat'],\n",
       "       ['be able to tell whether a string is a phone number or not'],\n",
       "       ['know if a loan application will be accepted or denied'],\n",
       "       ['build a model that knows whether a medical procedure will succeed'],\n",
       "       ['create something that predicts if a crime will occur'],\n",
       "       ['predict whether trump will get re-elected'],\n",
       "       ['label news as real or fake'],\n",
       "       ['label photos by if they are authentic or not'],\n",
       "       ['detect fraud'],\n",
       "       ['detect if a patient has bronchitis from xrays'],\n",
       "       ['identify likely epicenters of outbreaks'],\n",
       "       ['model which identifies contaminants'],\n",
       "       ['recognize face expressions '],\n",
       "       ['construct a model that recognizes if a woman is sad or happy'],\n",
       "       ['classifies spam texts'],\n",
       "       ['classify between different types of groceries'],\n",
       "       ['determine whether a picture was drawn by a gan'],\n",
       "       ['determines the level of security of a codebase'],\n",
       "       ['decide if an email was spoofed'],\n",
       "       ['decide what kind of animal this is'],\n",
       "       ['a model that categorizes paintings by artistic style'],\n",
       "       ['categorize car pics between sedan or minivan'],\n",
       "       ['1'],\n",
       "       ['1'],\n",
       "       ['1'],\n",
       "       ['1'],\n",
       "       ['1'],\n",
       "       ['1'],\n",
       "       ['1'],\n",
       "       ['1'],\n",
       "       ['1'],\n",
       "       ['1'],\n",
       "       ['1'],\n",
       "       ['1'],\n",
       "       ['1'],\n",
       "       ['1'],\n",
       "       ['1'],\n",
       "       ['1'],\n",
       "       ['1'],\n",
       "       ['1'],\n",
       "       ['1'],\n",
       "       ['1'],\n",
       "       ['1'],\n",
       "       ['1'],\n",
       "       ['1'],\n",
       "       ['1'],\n",
       "       ['1'],\n",
       "       ['1'],\n",
       "       ['1'],\n",
       "       ['1'],\n",
       "       ['1'],\n",
       "       ['1']], dtype='<U65')"
      ]
     },
     "execution_count": 138,
     "metadata": {},
     "output_type": "execute_result"
    }
   ],
   "source": [
    "classExamples = getExamples('class.txt')\n",
    "# classExamples.reshape(-1, 1)\n",
    "# np.full(classExamples.shape[0], 1)\n",
    "#np.append(classExamples, 1, 0)\n",
    "labelExamples(classExamples, 1)"
   ]
  },
  {
   "cell_type": "code",
   "execution_count": null,
   "metadata": {},
   "outputs": [],
   "source": [
    "getQueries()"
   ]
  },
  {
   "cell_type": "code",
   "execution_count": null,
   "metadata": {},
   "outputs": [],
   "source": [
    "delQueries(getQueries())"
   ]
  },
  {
   "cell_type": "code",
   "execution_count": null,
   "metadata": {},
   "outputs": [],
   "source": [
    "def formTrainTest(examples):\n",
    "    train_test_split"
   ]
  }
 ],
 "metadata": {
  "kernelspec": {
   "display_name": "Python 3",
   "language": "python",
   "name": "python3"
  },
  "language_info": {
   "codemirror_mode": {
    "name": "ipython",
    "version": 3
   },
   "file_extension": ".py",
   "mimetype": "text/x-python",
   "name": "python",
   "nbconvert_exporter": "python",
   "pygments_lexer": "ipython3",
   "version": "3.7.4"
  }
 },
 "nbformat": 4,
 "nbformat_minor": 4
}

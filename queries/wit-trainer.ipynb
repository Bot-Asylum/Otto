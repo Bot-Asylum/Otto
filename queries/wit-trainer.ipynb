{
 "cells": [
  {
   "cell_type": "code",
   "execution_count": null,
   "metadata": {},
   "outputs": [],
   "source": [
    "import requests\n",
    "import json\n",
    "import numpy as np\n",
    "from sklearn.model_selection import train_test_split"
   ]
  },
  {
   "cell_type": "code",
   "execution_count": null,
   "metadata": {},
   "outputs": [],
   "source": [
    "WIT_API_HOST = 'https://api.wit.ai'\n",
    "WIT_API_VERSION = '20200513'"
   ]
  },
  {
   "cell_type": "code",
   "execution_count": null,
   "metadata": {},
   "outputs": [],
   "source": [
    "with open('token.txt') as file:\n",
    "    TOKEN = file.read()\n",
    "    \n",
    "HEADERS = {\n",
    "    'authorization': 'Bearer ' + TOKEN,\n",
    "    'accept': 'application/vnd.wit.' + WIT_API_VERSION + '+json'\n",
    "}"
   ]
  },
  {
   "cell_type": "code",
   "execution_count": null,
   "metadata": {},
   "outputs": [],
   "source": [
    "def getQueries():\n",
    "    rsp = requests.get(WIT_API_HOST + '/utterances', headers=HEADERS, params={'limit': 1000})\n",
    "    return rsp.json()"
   ]
  },
  {
   "cell_type": "code",
   "execution_count": null,
   "metadata": {},
   "outputs": [],
   "source": [
    "def delQueries(queries):\n",
    "    if not queries:\n",
    "        print('empty list, aborting')\n",
    "        return\n",
    "    confirm = input('CONFIRM DELETION: ')\n",
    "    if confirm != 'yes':\n",
    "        print('aborting delete')\n",
    "        return\n",
    "    print('deleting the following. \\n')\n",
    "    print(queries)\n",
    "    \n",
    "    queriesDelete = [{k: v for k, v in query.items() if k.startswith('text')} for query in queries]\n",
    "    rsp = requests.delete(WIT_API_HOST + '/utterances', headers=HEADERS, data=str(queriesDelete))\n",
    "    \n",
    "    print(rsp.json())"
   ]
  },
  {
   "cell_type": "code",
   "execution_count": null,
   "metadata": {},
   "outputs": [],
   "source": [
    "# [a,b,c]\n",
    "def getExamples(filename):\n",
    "    examples = np.loadtxt(filename, dtype='str', delimiter='\\n')\n",
    "    return examples"
   ]
  },
  {
   "cell_type": "code",
   "execution_count": null,
   "metadata": {},
   "outputs": [],
   "source": [
    "# [[a,x],[b,x],[c,x]]\n",
    "def labelExamples(examples, label):\n",
    "    reshaped = np.reshape(examples, (-1, 1))\n",
    "    labels = np.full(examples.shape[0], label).reshape(-1, 1)\n",
    "    return np.concatenate((reshaped, labels), 1)"
   ]
  },
  {
   "cell_type": "code",
   "execution_count": 193,
   "metadata": {},
   "outputs": [],
   "source": [
    "# [ task1 [[a,x],[b,x],[c,x]] , task2 [[d,y],[e,y],[f,y]] ]\n",
    "def getLabeledExamples(filenames, labels):\n",
    "    data = []\n",
    "    for i in range(0, len(filenames)):\n",
    "        labeled = labelExamples(getExamples(filenames[i]), labels[i])\n",
    "        data.append(labeled)\n",
    "    return data"
   ]
  },
  {
   "cell_type": "code",
   "execution_count": 216,
   "metadata": {},
   "outputs": [],
   "source": [
    "# [ train: task1 + task2 , test: task1 + task2 ]\n",
    "def formTrainTest(data):\n",
    "    trains = []\n",
    "    tests = []\n",
    "    for dataset in data:\n",
    "        a, b = train_test_split(dataset, test_size=0.5)\n",
    "        trains.append(a)\n",
    "        tests.append(b)\n",
    "        \n",
    "    train = np.empty((0,2))\n",
    "    test = np.empty((0,2))\n",
    "    for i in range(len(trains)):\n",
    "        train = np.concatenate((train, trains[i]))\n",
    "        test = np.concatenate((test, tests[i]))\n",
    "        \n",
    "    return train, test"
   ]
  },
  {
   "cell_type": "code",
   "execution_count": 217,
   "metadata": {},
   "outputs": [
    {
     "data": {
      "text/plain": [
       "(array([['detect if a patient has bronchitis from xrays', 'task_class'],\n",
       "        ['label news as real or fake', 'task_class'],\n",
       "        ['be able to tell whether a string is a phone number or not',\n",
       "         'task_class'],\n",
       "        ['classifies spam texts', 'task_class'],\n",
       "        ['build a model that knows whether a medical procedure will succeed',\n",
       "         'task_class'],\n",
       "        ['decide what kind of animal this is', 'task_class'],\n",
       "        ['determine whether a picture was drawn by a gan', 'task_class'],\n",
       "        ['label photos by if they are authentic or not', 'task_class'],\n",
       "        ['predict whether trump will get re-elected', 'task_class'],\n",
       "        ['phishing detection', 'task_class'],\n",
       "        ['classify between different types of groceries', 'task_class'],\n",
       "        ['determines the level of security of a codebase', 'task_class'],\n",
       "        ['categorize car pics between sedan or minivan', 'task_class'],\n",
       "        ['detect fraud', 'task_class'],\n",
       "        ['automated detection of safe drinking water', 'task_class'],\n",
       "        ['forecast stock prices over the next year', 'task_reg'],\n",
       "        ['build projection for covid', 'task_reg'],\n",
       "        ['construct a forecast for crime numbers in DC', 'task_reg'],\n",
       "        ['project the cost of living in the boston suburbs', 'task_reg'],\n",
       "        ['form projections about total fatalities', 'task_reg'],\n",
       "        ['forecast the amount of rain', 'task_reg'],\n",
       "        ['build forecasts on total food quantity', 'task_reg'],\n",
       "        ['create a projection for mean college tuition', 'task_reg'],\n",
       "        ['perform regression on median home values', 'task_reg'],\n",
       "        ['forecast the weather', 'task_reg'],\n",
       "        ['projection on rate of increase', 'task_reg'],\n",
       "        ['make an estimate for the value of a house', 'task_reg']],\n",
       "       dtype='<U65'),\n",
       " array([['make a model that tells if a drawing is a cat', 'task_class'],\n",
       "        ['classifier for detecting frowns', 'task_class'],\n",
       "        ['perform classification of audio samples', 'task_class'],\n",
       "        ['identify likely epicenters of outbreaks', 'task_class'],\n",
       "        ['construct a model that recognizes if a woman is sad or happy',\n",
       "         'task_class'],\n",
       "        ['do image classification on cifar-10', 'task_class'],\n",
       "        ['know if a loan application will be accepted or denied',\n",
       "         'task_class'],\n",
       "        ['decide if an email was spoofed', 'task_class'],\n",
       "        ['recognize face expressions ', 'task_class'],\n",
       "        ['perform facial recognition ', 'task_class'],\n",
       "        ['make a classifier to identify high-risk populations',\n",
       "         'task_class'],\n",
       "        ['a model that categorizes paintings by artistic style',\n",
       "         'task_class'],\n",
       "        ['model which identifies contaminants', 'task_class'],\n",
       "        ['create something that predicts if a crime will occur',\n",
       "         'task_class'],\n",
       "        ['do voice recognition ', 'task_class'],\n",
       "        ['estimate normal life expectancy from medical data', 'task_reg'],\n",
       "        ['do estimates of mean car accidents', 'task_reg'],\n",
       "        ['project inflation ', 'task_reg'],\n",
       "        ['do regression on financial data', 'task_reg'],\n",
       "        ['fit a regression model to the number of deaths in a city',\n",
       "         'task_reg'],\n",
       "        ['make a regression graph for stoplight count', 'task_reg'],\n",
       "        ['estimate infection rates', 'task_reg'],\n",
       "        ['regression for average occupancy', 'task_reg'],\n",
       "        ['project total coronavirus case count', 'task_reg'],\n",
       "        ['make a projection of healthcare expenditures over time',\n",
       "         'task_reg'],\n",
       "        ['estimate the gdp growth number in q4', 'task_reg'],\n",
       "        ['project the quantity of drinks', 'task_reg'],\n",
       "        ['project median incomes for 2023', 'task_reg']], dtype='<U65'))"
      ]
     },
     "execution_count": 217,
     "metadata": {},
     "output_type": "execute_result"
    }
   ],
   "source": [
    "data = getLabeledExamples(['class.txt', 'reg.txt'], ['task_class', 'task_reg'])\n",
    "formTrainTest(data)"
   ]
  },
  {
   "cell_type": "code",
   "execution_count": null,
   "metadata": {},
   "outputs": [],
   "source": [
    "#getQueries()"
   ]
  },
  {
   "cell_type": "code",
   "execution_count": null,
   "metadata": {},
   "outputs": [],
   "source": [
    "#delQueries(getQueries())"
   ]
  }
 ],
 "metadata": {
  "kernelspec": {
   "display_name": "Python 3",
   "language": "python",
   "name": "python3"
  },
  "language_info": {
   "codemirror_mode": {
    "name": "ipython",
    "version": 3
   },
   "file_extension": ".py",
   "mimetype": "text/x-python",
   "name": "python",
   "nbconvert_exporter": "python",
   "pygments_lexer": "ipython3",
   "version": "3.7.4"
  }
 },
 "nbformat": 4,
 "nbformat_minor": 4
}

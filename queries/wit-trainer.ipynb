{
 "cells": [
  {
   "cell_type": "code",
   "execution_count": 488,
   "metadata": {},
   "outputs": [],
   "source": [
    "import requests\n",
    "import json\n",
    "import numpy as np\n",
    "from sklearn.model_selection import train_test_split\n",
    "import time"
   ]
  },
  {
   "cell_type": "code",
   "execution_count": 489,
   "metadata": {},
   "outputs": [],
   "source": [
    "WIT_API_HOST = 'https://api.wit.ai'\n",
    "WIT_API_VERSION = '20200513'"
   ]
  },
  {
   "cell_type": "code",
   "execution_count": 490,
   "metadata": {},
   "outputs": [],
   "source": [
    "with open('token.txt') as file:\n",
    "    TOKEN = file.read()\n",
    "    \n",
    "HEADERS = {\n",
    "    'authorization': 'Bearer ' + TOKEN,\n",
    "    'accept': 'application/vnd.wit.' + WIT_API_VERSION + '+json'\n",
    "}"
   ]
  },
  {
   "cell_type": "code",
   "execution_count": 491,
   "metadata": {},
   "outputs": [],
   "source": [
    "def getResponse(query, n=1):\n",
    "    rsp = requests.get(WIT_API_HOST + '/message', headers=HEADERS, params={'q': query, 'n': n})\n",
    "    rspJson = rsp.json()\n",
    "    return rspJson"
   ]
  },
  {
   "cell_type": "code",
   "execution_count": 492,
   "metadata": {},
   "outputs": [],
   "source": [
    "def getQueries():\n",
    "    rsp = requests.get(WIT_API_HOST + '/utterances', headers=HEADERS, params={'limit': 1000})\n",
    "    return rsp.json()"
   ]
  },
  {
   "cell_type": "code",
   "execution_count": 493,
   "metadata": {},
   "outputs": [],
   "source": [
    "def delQueries(queries):\n",
    "    if not queries:\n",
    "        print('empty list, aborting')\n",
    "        return\n",
    "    confirm = input('CONFIRM DELETION: ')\n",
    "    if confirm != 'yes':\n",
    "        print('aborting delete')\n",
    "        return\n",
    "    print('deleting the following. \\n')\n",
    "    print(queries)\n",
    "    \n",
    "    queriesDelete = [{k: v for k, v in query.items() if k.startswith('text')} for query in queries]\n",
    "    rsp = requests.delete(WIT_API_HOST + '/utterances', headers=HEADERS, data=str(queriesDelete))\n",
    "    \n",
    "    print(rsp.json())"
   ]
  },
  {
   "cell_type": "code",
   "execution_count": 494,
   "metadata": {},
   "outputs": [],
   "source": [
    "# [a,b,c]\n",
    "def getExamples(filename):\n",
    "    examples = np.loadtxt(filename, dtype='str', delimiter='\\n')\n",
    "    return examples"
   ]
  },
  {
   "cell_type": "code",
   "execution_count": 495,
   "metadata": {},
   "outputs": [],
   "source": [
    "# [[a,x],[b,x],[c,x]]\n",
    "def labelExamples(examples, label):\n",
    "    reshaped = np.reshape(examples, (-1, 1))\n",
    "    labels = np.full(examples.shape[0], label).reshape(-1, 1)\n",
    "    return np.concatenate((reshaped, labels), 1)"
   ]
  },
  {
   "cell_type": "code",
   "execution_count": 496,
   "metadata": {},
   "outputs": [],
   "source": [
    "# [ task1 [[a,x],[b,x],[c,x]] , task2 [[d,y],[e,y],[f,y]] ]\n",
    "def getLabeledExamples(filenames, labels):\n",
    "    data = []\n",
    "    for i in range(0, len(filenames)):\n",
    "        labeled = labelExamples(getExamples(filenames[i]), labels[i])\n",
    "        data.append(labeled)\n",
    "    return data"
   ]
  },
  {
   "cell_type": "code",
   "execution_count": 497,
   "metadata": {},
   "outputs": [],
   "source": [
    "# [ train: task1 + task2 , test: task1 + task2 ]\n",
    "def formTrainTest(data, split):\n",
    "    trains = []\n",
    "    tests = []\n",
    "    for dataset in data:\n",
    "        if (split == 'alt'):\n",
    "            a = dataset[0::2]\n",
    "            b = dataset[1::2]\n",
    "        elif (split == 'full'):\n",
    "            a = dataset\n",
    "            b = dataset\n",
    "        else:\n",
    "            a, b = train_test_split(dataset, test_size=split)\n",
    "        trains.append(a)\n",
    "        tests.append(b)\n",
    "        \n",
    "    train = np.empty((0,2))\n",
    "    test = np.empty((0,2))\n",
    "    for i in range(len(trains)):\n",
    "        train = np.concatenate((train, trains[i]))\n",
    "        test = np.concatenate((test, tests[i]))\n",
    "        \n",
    "    return train, test"
   ]
  },
  {
   "cell_type": "code",
   "execution_count": 498,
   "metadata": {},
   "outputs": [],
   "source": [
    "def examplesToJson(examples):\n",
    "    json = []\n",
    "    for example in examples:\n",
    "        exJson = {'text': example[0], 'entities': [], 'traits': []}\n",
    "        intent = example[1]\n",
    "        if (intent is not None):\n",
    "            exJson['intent'] = intent\n",
    "        json.append(exJson)\n",
    "    return json"
   ]
  },
  {
   "cell_type": "code",
   "execution_count": 525,
   "metadata": {},
   "outputs": [],
   "source": [
    "data = getLabeledExamples(['class.txt', 'reg.txt', 'nlp.txt', 'NONE.txt'], ['task_class', 'task_reg', 'task_nlp', None])\n",
    "train, test = formTrainTest(data, 'full')\n",
    "trainJson = examplesToJson(train)\n",
    "testJson = examplesToJson(test)"
   ]
  },
  {
   "cell_type": "code",
   "execution_count": 526,
   "metadata": {},
   "outputs": [
    {
     "name": "stdout",
     "output_type": "stream",
     "text": [
      "269\n",
      "[{'text': 'sex classification', 'entities': [], 'traits': [], 'intent': 'task_class'}, {'text': 'image classification on cifar-10', 'entities': [], 'traits': [], 'intent': 'task_class'}, {'text': 'classification of audio samples', 'entities': [], 'traits': [], 'intent': 'task_class'}, {'text': 'classification model for movie genres', 'entities': [], 'traits': [], 'intent': 'task_class'}, {'text': 'classifier to identify high-risk populations', 'entities': [], 'traits': [], 'intent': 'task_class'}, {'text': 'classifier for detecting frowns', 'entities': [], 'traits': [], 'intent': 'task_class'}, {'text': 'facial recognition ', 'entities': [], 'traits': [], 'intent': 'task_class'}, {'text': 'voice recognition ', 'entities': [], 'traits': [], 'intent': 'task_class'}, {'text': 'audio recognition that figures out the speaker', 'entities': [], 'traits': [], 'intent': 'task_class'}, {'text': 'automated detection of safe drinking water', 'entities': [], 'traits': [], 'intent': 'task_class'}, {'text': 'phishing detection', 'entities': [], 'traits': [], 'intent': 'task_class'}, {'text': 'detection of hacking', 'entities': [], 'traits': [], 'intent': 'task_class'}, {'text': 'test whether a patient is sick from their medical history', 'entities': [], 'traits': [], 'intent': 'task_class'}, {'text': 'tell if a song is old hip-hop vs new hip-hop', 'entities': [], 'traits': [], 'intent': 'task_class'}, {'text': 'tells if a drawing is a cat', 'entities': [], 'traits': [], 'intent': 'task_class'}, {'text': 'tells me whether a string is a phone number or not', 'entities': [], 'traits': [], 'intent': 'task_class'}, {'text': 'tell whether a pamphlet has logos in it or not', 'entities': [], 'traits': [], 'intent': 'task_class'}, {'text': 'know if a loan application will be accepted or denied', 'entities': [], 'traits': [], 'intent': 'task_class'}, {'text': 'knows whether a medical procedure will succeed', 'entities': [], 'traits': [], 'intent': 'task_class'}, {'text': 'know whether tesla stock will go up or down tomorrow', 'entities': [], 'traits': [], 'intent': 'task_class'}, {'text': 'label news as real or fake', 'entities': [], 'traits': [], 'intent': 'task_class'}, {'text': 'label photos by if they are authentic or not', 'entities': [], 'traits': [], 'intent': 'task_class'}, {'text': 'label dog breed as aggressive or non-aggressive', 'entities': [], 'traits': [], 'intent': 'task_class'}, {'text': 'label comments on facebook posts as belonging to a specific party', 'entities': [], 'traits': [], 'intent': 'task_class'}, {'text': 'detect fraud', 'entities': [], 'traits': [], 'intent': 'task_class'}, {'text': 'detect if a patient has bronchitis from xrays', 'entities': [], 'traits': [], 'intent': 'task_class'}, {'text': 'detect political affiliation from tweets', 'entities': [], 'traits': [], 'intent': 'task_class'}, {'text': 'identify the squares with crosswalks', 'entities': [], 'traits': [], 'intent': 'task_class'}, {'text': 'identify likely epicenters of outbreaks', 'entities': [], 'traits': [], 'intent': 'task_class'}, {'text': 'identifies contaminants', 'entities': [], 'traits': [], 'intent': 'task_class'}, {'text': 'identify handwriting', 'entities': [], 'traits': [], 'intent': 'task_class'}, {'text': 'identify the language of a street sign', 'entities': [], 'traits': [], 'intent': 'task_class'}, {'text': 'identify nations likely to undergo sudden change', 'entities': [], 'traits': [], 'intent': 'task_class'}, {'text': 'identify a type of disease based on the symptoms', 'entities': [], 'traits': [], 'intent': 'task_class'}, {'text': 'identify treatment by doctor report', 'entities': [], 'traits': [], 'intent': 'task_class'}, {'text': 'recognize face expressions ', 'entities': [], 'traits': [], 'intent': 'task_class'}, {'text': 'recognize questions as customer service interactions', 'entities': [], 'traits': [], 'intent': 'task_class'}, {'text': 'recognizes if a woman is sad or happy', 'entities': [], 'traits': [], 'intent': 'task_class'}, {'text': 'recognize someone as a movie actor vs tv show actor', 'entities': [], 'traits': [], 'intent': 'task_class'}, {'text': 'classify types of music', 'entities': [], 'traits': [], 'intent': 'task_class'}, {'text': 'classify plants as toxic/not toxic', 'entities': [], 'traits': [], 'intent': 'task_class'}, {'text': 'classify diagrams of bacteria', 'entities': [], 'traits': [], 'intent': 'task_class'}, {'text': 'classify air quality', 'entities': [], 'traits': [], 'intent': 'task_class'}, {'text': 'classify a tumor as cancerous or benign', 'entities': [], 'traits': [], 'intent': 'task_class'}, {'text': 'classify locations as viable / non viable for a species', 'entities': [], 'traits': [], 'intent': 'task_class'}, {'text': 'classifies spam texts', 'entities': [], 'traits': [], 'intent': 'task_class'}, {'text': 'classify between different types of groceries', 'entities': [], 'traits': [], 'intent': 'task_class'}, {'text': 'classify antibiotics by side effects', 'entities': [], 'traits': [], 'intent': 'task_class'}, {'text': 'classify ideological positions by voting record', 'entities': [], 'traits': [], 'intent': 'task_class'}, {'text': 'determine which team will emerge victorious', 'entities': [], 'traits': [], 'intent': 'task_class'}, {'text': 'determine whether a picture was drawn by a gan', 'entities': [], 'traits': [], 'intent': 'task_class'}, {'text': 'determine whether a rebate is legit or not', 'entities': [], 'traits': [], 'intent': 'task_class'}, {'text': 'determine whether or not an illustration contains an arm', 'entities': [], 'traits': [], 'intent': 'task_class'}, {'text': 'determine whether a nose is long or small', 'entities': [], 'traits': [], 'intent': 'task_class'}, {'text': 'determines the level of security of a codebase', 'entities': [], 'traits': [], 'intent': 'task_class'}, {'text': 'determine if a figure is male or female', 'entities': [], 'traits': [], 'intent': 'task_class'}, {'text': 'determine gender by outline', 'entities': [], 'traits': [], 'intent': 'task_class'}, {'text': 'decide if an email was spoofed', 'entities': [], 'traits': [], 'intent': 'task_class'}, {'text': 'decide what kind of animal this is', 'entities': [], 'traits': [], 'intent': 'task_class'}, {'text': 'categorizes paintings by artistic style', 'entities': [], 'traits': [], 'intent': 'task_class'}, {'text': 'categorize car pics between sedan or minivan', 'entities': [], 'traits': [], 'intent': 'task_class'}, {'text': 'sort sketches that are based on the work of van gogh', 'entities': [], 'traits': [], 'intent': 'task_class'}, {'text': 'sort music by historical influences', 'entities': [], 'traits': [], 'intent': 'task_class'}, {'text': 'sort dialects into regions', 'entities': [], 'traits': [], 'intent': 'task_class'}, {'text': 'sort album covers', 'entities': [], 'traits': [], 'intent': 'task_class'}, {'text': 'discriminate weeds from grass', 'entities': [], 'traits': [], 'intent': 'task_class'}, {'text': 'discriminate between spanish and french', 'entities': [], 'traits': [], 'intent': 'task_class'}, {'text': 'predicts if a crime will occur', 'entities': [], 'traits': [], 'intent': 'task_class'}, {'text': 'predict if an account is related to terrorism or not', 'entities': [], 'traits': [], 'intent': 'task_class'}, {'text': 'predict if a confession is truthful', 'entities': [], 'traits': [], 'intent': 'task_class'}, {'text': 'predict whether trump will get re-elected', 'entities': [], 'traits': [], 'intent': 'task_class'}, {'text': 'predict whether a flight will be cancelled', 'entities': [], 'traits': [], 'intent': 'task_class'}, {'text': 'predict whether hail will form', 'entities': [], 'traits': [], 'intent': 'task_class'}, {'text': 'predict which chess strategy be used', 'entities': [], 'traits': [], 'intent': 'task_class'}, {'text': 'predict which search queries will', 'entities': [], 'traits': [], 'intent': 'task_class'}, {'text': 'predict what shots to take', 'entities': [], 'traits': [], 'intent': 'task_class'}, {'text': 'predict what plays will be called', 'entities': [], 'traits': [], 'intent': 'task_class'}, {'text': 'predict basketball tournament outcome', 'entities': [], 'traits': [], 'intent': 'task_class'}, {'text': 'predict outcome of a rock paper scissors match', 'entities': [], 'traits': [], 'intent': 'task_class'}, {'text': 'predict the outcome of elections', 'entities': [], 'traits': [], 'intent': 'task_class'}, {'text': 'predict democratic outcomes', 'entities': [], 'traits': [], 'intent': 'task_class'}, {'text': 'predict outcome of senate race', 'entities': [], 'traits': [], 'intent': 'task_class'}, {'text': 'predict surgery outcomes', 'entities': [], 'traits': [], 'intent': 'task_class'}, {'text': 'predict grading outcomes', 'entities': [], 'traits': [], 'intent': 'task_class'}, {'text': 'predict the category a logo belongs in', 'entities': [], 'traits': [], 'intent': 'task_class'}, {'text': 'model the bias category', 'entities': [], 'traits': [], 'intent': 'task_class'}, {'text': 'discrete categories of information', 'entities': [], 'traits': [], 'intent': 'task_class'}, {'text': 'put consumer products into categories', 'entities': [], 'traits': [], 'intent': 'task_class'}, {'text': 'predict the type of damage', 'entities': [], 'traits': [], 'intent': 'task_class'}, {'text': 'predict wine type in a glass', 'entities': [], 'traits': [], 'intent': 'task_class'}, {'text': 'identify what type of truck is in a frame', 'entities': [], 'traits': [], 'intent': 'task_class'}, {'text': 'determine the fungi type', 'entities': [], 'traits': [], 'intent': 'task_class'}, {'text': 'figure out what kind of plant this is', 'entities': [], 'traits': [], 'intent': 'task_class'}, {'text': 'determine the kind of bullet in a gun', 'entities': [], 'traits': [], 'intent': 'task_class'}, {'text': 'determine the category', 'entities': [], 'traits': [], 'intent': 'task_class'}, {'text': 'predict odds of dying', 'entities': [], 'traits': [], 'intent': 'task_class'}, {'text': 'predict the odds that obama will tweet', 'entities': [], 'traits': [], 'intent': 'task_class'}, {'text': 'predict likelihood of an ad being clicked on based on internet activity', 'entities': [], 'traits': [], 'intent': 'task_class'}, {'text': 'predict the probability of retaliation', 'entities': [], 'traits': [], 'intent': 'task_class'}, {'text': 'predict probability of an earthquake using seismic data', 'entities': [], 'traits': [], 'intent': 'task_class'}, {'text': 'determine the probability that halo3 exists', 'entities': [], 'traits': [], 'intent': 'task_class'}, {'text': 'determine the likelihood of an appeal', 'entities': [], 'traits': [], 'intent': 'task_class'}, {'text': 'determine the likelihood that the afternoon is rainy', 'entities': [], 'traits': [], 'intent': 'task_class'}, {'text': 'predict the chances that a tsunami happens', 'entities': [], 'traits': [], 'intent': 'task_class'}, {'text': 'predict chances that amazon will be down', 'entities': [], 'traits': [], 'intent': 'task_class'}, {'text': 'estimate the probability that i can repay debt', 'entities': [], 'traits': [], 'intent': 'task_class'}, {'text': 'estimate the chance of a lawsuit', 'entities': [], 'traits': [], 'intent': 'task_class'}, {'text': 'estimate the likelihood of a structural failure', 'entities': [], 'traits': [], 'intent': 'task_class'}, {'text': 'estimate likelihood of getting hired from my resume', 'entities': [], 'traits': [], 'intent': 'task_class'}, {'text': 'estimate likelihood of my dad coming back from the cigarette store', 'entities': [], 'traits': [], 'intent': 'task_class'}, {'text': 'predict the chance of a wildfire', 'entities': [], 'traits': [], 'intent': 'task_class'}, {'text': 'forecast the chance of flurries next tuesday', 'entities': [], 'traits': [], 'intent': 'task_class'}, {'text': 'model the odds that biden will win', 'entities': [], 'traits': [], 'intent': 'task_class'}, {'text': 'estimate the odds of economic collapse', 'entities': [], 'traits': [], 'intent': 'task_class'}, {'text': 'model the probability of another recession happening', 'entities': [], 'traits': [], 'intent': 'task_class'}, {'text': 'model the probability of snowfall', 'entities': [], 'traits': [], 'intent': 'task_class'}, {'text': 'model the likelihood of inbox delay', 'entities': [], 'traits': [], 'intent': 'task_class'}, {'text': 'estimate probability of acceptance into grad school', 'entities': [], 'traits': [], 'intent': 'task_class'}, {'text': 'estimate the chances of a bonus', 'entities': [], 'traits': [], 'intent': 'task_class'}, {'text': 'model the chances of recidivism based on race ', 'entities': [], 'traits': [], 'intent': 'task_class'}, {'text': 'estimate body fat percentage based on photos', 'entities': [], 'traits': [], 'intent': 'task_class'}, {'text': 'predict percentage of manslaughter that is intended', 'entities': [], 'traits': [], 'intent': 'task_class'}, {'text': 'model field goal percentage ', 'entities': [], 'traits': [], 'intent': 'task_class'}, {'text': 'estimate percentage of produce grown in the US', 'entities': [], 'traits': [], 'intent': 'task_class'}, {'text': 'regression model to the number of deaths in a city', 'entities': [], 'traits': [], 'intent': 'task_reg'}, {'text': 'regression graph for stoplight count', 'entities': [], 'traits': [], 'intent': 'task_reg'}, {'text': 'regression on median home values', 'entities': [], 'traits': [], 'intent': 'task_reg'}, {'text': 'regression on financial data', 'entities': [], 'traits': [], 'intent': 'task_reg'}, {'text': 'regression for average occupancy', 'entities': [], 'traits': [], 'intent': 'task_reg'}, {'text': 'regression concerning the effect of trees on crime', 'entities': [], 'traits': [], 'intent': 'task_reg'}, {'text': 'projection of healthcare expenditures over time', 'entities': [], 'traits': [], 'intent': 'task_reg'}, {'text': 'projection for college tuition', 'entities': [], 'traits': [], 'intent': 'task_reg'}, {'text': 'projections about fatalities', 'entities': [], 'traits': [], 'intent': 'task_reg'}, {'text': 'projection on wage increases', 'entities': [], 'traits': [], 'intent': 'task_reg'}, {'text': 'projection for covid', 'entities': [], 'traits': [], 'intent': 'task_reg'}, {'text': 'purchase forecasting', 'entities': [], 'traits': [], 'intent': 'task_reg'}, {'text': 'quota forecasting', 'entities': [], 'traits': [], 'intent': 'task_reg'}, {'text': 'forecasting the level of precipitation', 'entities': [], 'traits': [], 'intent': 'task_reg'}, {'text': 'forecasting state budget shortfalls', 'entities': [], 'traits': [], 'intent': 'task_reg'}, {'text': 'tariff projections', 'entities': [], 'traits': [], 'intent': 'task_reg'}, {'text': 'revenue projection', 'entities': [], 'traits': [], 'intent': 'task_reg'}, {'text': 'annual profit estimation', 'entities': [], 'traits': [], 'intent': 'task_reg'}, {'text': 'deficit estimation', 'entities': [], 'traits': [], 'intent': 'task_reg'}, {'text': 'estimation of the budget', 'entities': [], 'traits': [], 'intent': 'task_reg'}, {'text': 'estimate normal life expectancy from medical data', 'entities': [], 'traits': [], 'intent': 'task_reg'}, {'text': 'estimate for the stock of affordable housing', 'entities': [], 'traits': [], 'intent': 'task_reg'}, {'text': 'zillow estimates', 'entities': [], 'traits': [], 'intent': 'task_reg'}, {'text': 'estimates of car accidents', 'entities': [], 'traits': [], 'intent': 'task_reg'}, {'text': 'estimate the gdp growth in q4', 'entities': [], 'traits': [], 'intent': 'task_reg'}, {'text': 'estimate of closing price', 'entities': [], 'traits': [], 'intent': 'task_reg'}, {'text': 'estimate average living expenses based on amazon orders', 'entities': [], 'traits': [], 'intent': 'task_reg'}, {'text': 'estimate potential stats of NFL draft prospect', 'entities': [], 'traits': [], 'intent': 'task_reg'}, {'text': 'estimate infections', 'entities': [], 'traits': [], 'intent': 'task_reg'}, {'text': 'estimate age of a resident', 'entities': [], 'traits': [], 'intent': 'task_reg'}, {'text': 'estimate the racial composition of the neighborhood', 'entities': [], 'traits': [], 'intent': 'task_reg'}, {'text': 'forecast stock prices over the next year', 'entities': [], 'traits': [], 'intent': 'task_reg'}, {'text': 'forecast for crime numbers in DC', 'entities': [], 'traits': [], 'intent': 'task_reg'}, {'text': 'forecasts on food quantity', 'entities': [], 'traits': [], 'intent': 'task_reg'}, {'text': 'forecast the amount of rain', 'entities': [], 'traits': [], 'intent': 'task_reg'}, {'text': 'forecast the weather', 'entities': [], 'traits': [], 'intent': 'task_reg'}, {'text': 'project the cost of living in the boston suburbs', 'entities': [], 'traits': [], 'intent': 'task_reg'}, {'text': 'project median incomes for 2023', 'entities': [], 'traits': [], 'intent': 'task_reg'}, {'text': 'project total coronavirus case count', 'entities': [], 'traits': [], 'intent': 'task_reg'}, {'text': 'project the quantity of drinks', 'entities': [], 'traits': [], 'intent': 'task_reg'}, {'text': 'project inflation ', 'entities': [], 'traits': [], 'intent': 'task_reg'}, {'text': 'determine the total energy of an atomic system', 'entities': [], 'traits': [], 'intent': 'task_reg'}, {'text': 'determine the number of dandelions outside a property line', 'entities': [], 'traits': [], 'intent': 'task_reg'}, {'text': 'predict number of likes on an instagram post', 'entities': [], 'traits': [], 'intent': 'task_reg'}, {'text': 'predict mean plane crashes', 'entities': [], 'traits': [], 'intent': 'task_reg'}, {'text': 'model the total vaccination count', 'entities': [], 'traits': [], 'intent': 'task_reg'}, {'text': 'model the value of banking assets', 'entities': [], 'traits': [], 'intent': 'task_reg'}, {'text': 'predict the rate of reproduction for a given strain', 'entities': [], 'traits': [], 'intent': 'task_reg'}, {'text': 'determine the value of bail from demographics', 'entities': [], 'traits': [], 'intent': 'task_reg'}, {'text': 'model mean mortalities in any given stretch of time', 'entities': [], 'traits': [], 'intent': 'task_reg'}, {'text': 'model infertility rates', 'entities': [], 'traits': [], 'intent': 'task_reg'}, {'text': 'model reopenings over time', 'entities': [], 'traits': [], 'intent': 'task_reg'}, {'text': 'predict lightning strikes over time', 'entities': [], 'traits': [], 'intent': 'task_reg'}, {'text': 'model hair growth over the next few months', 'entities': [], 'traits': [], 'intent': 'task_reg'}, {'text': 'predict the liability level over the next quarter', 'entities': [], 'traits': [], 'intent': 'task_reg'}, {'text': 'predict the average sales number ', 'entities': [], 'traits': [], 'intent': 'task_reg'}, {'text': 'predict total number of csections', 'entities': [], 'traits': [], 'intent': 'task_reg'}, {'text': 'predict median asset figures', 'entities': [], 'traits': [], 'intent': 'task_reg'}, {'text': 'model the property values around the bay area', 'entities': [], 'traits': [], 'intent': 'task_reg'}, {'text': 'model traffic violation count', 'entities': [], 'traits': [], 'intent': 'task_reg'}, {'text': 'model average earnings of musicians ', 'entities': [], 'traits': [], 'intent': 'task_reg'}, {'text': 'predict the average length of friendships', 'entities': [], 'traits': [], 'intent': 'task_reg'}, {'text': 'predict the number of views on a video', 'entities': [], 'traits': [], 'intent': 'task_reg'}, {'text': 'predict number of matches on tinder', 'entities': [], 'traits': [], 'intent': 'task_reg'}, {'text': 'predict average artist popularity after a new song release', 'entities': [], 'traits': [], 'intent': 'task_reg'}, {'text': 'predict the total population in 2050', 'entities': [], 'traits': [], 'intent': 'task_reg'}, {'text': 'predict the amount of time where status would get the most likes', 'entities': [], 'traits': [], 'intent': 'task_reg'}, {'text': 'predict average length of Instagram downtime', 'entities': [], 'traits': [], 'intent': 'task_reg'}, {'text': 'predict the rate of immunization use among the general population', 'entities': [], 'traits': [], 'intent': 'task_reg'}, {'text': 'natural language processing on reddit posts', 'entities': [], 'traits': [], 'intent': 'task_nlp'}, {'text': 'natural language processing to figure out sentiment', 'entities': [], 'traits': [], 'intent': 'task_nlp'}, {'text': 'natural language processing', 'entities': [], 'traits': [], 'intent': 'task_nlp'}, {'text': 'natural language understanding model', 'entities': [], 'traits': [], 'intent': 'task_nlp'}, {'text': 'natural language interpretation', 'entities': [], 'traits': [], 'intent': 'task_nlp'}, {'text': 'natural language expressions', 'entities': [], 'traits': [], 'intent': 'task_nlp'}, {'text': 'nlp for semantic analysis', 'entities': [], 'traits': [], 'intent': 'task_nlp'}, {'text': 'nlp that parses play dialogues', 'entities': [], 'traits': [], 'intent': 'task_nlp'}, {'text': 'nlp model', 'entities': [], 'traits': [], 'intent': 'task_nlp'}, {'text': 'natural language analysis of a tweet', 'entities': [], 'traits': [], 'intent': 'task_nlp'}, {'text': 'linguistic analysis to identify an author', 'entities': [], 'traits': [], 'intent': 'task_nlp'}, {'text': 'linguistic analysis of shakespeare', 'entities': [], 'traits': [], 'intent': 'task_nlp'}, {'text': 'textual analysis', 'entities': [], 'traits': [], 'intent': 'task_nlp'}, {'text': 'analyze how good the presidents speech was', 'entities': [], 'traits': [], 'intent': 'task_nlp'}, {'text': 'analyze the structure of a sentence', 'entities': [], 'traits': [], 'intent': 'task_nlp'}, {'text': 'analyze the sentiment in text', 'entities': [], 'traits': [], 'intent': 'task_nlp'}, {'text': 'analyze the quality of a rhetorical device', 'entities': [], 'traits': [], 'intent': 'task_nlp'}, {'text': 'analyze the meaning of a sentence', 'entities': [], 'traits': [], 'intent': 'task_nlp'}, {'text': 'analyze internet search history for illegal activity', 'entities': [], 'traits': [], 'intent': 'task_nlp'}, {'text': 'analyze state policy to determine efficacy', 'entities': [], 'traits': [], 'intent': 'task_nlp'}, {'text': 'analyze text', 'entities': [], 'traits': [], 'intent': 'task_nlp'}, {'text': 'analyze quotes', 'entities': [], 'traits': [], 'intent': 'task_nlp'}, {'text': 'analyze meaning', 'entities': [], 'traits': [], 'intent': 'task_nlp'}, {'text': 'analyze the tone of an email', 'entities': [], 'traits': [], 'intent': 'task_nlp'}, {'text': 'examine the tone of a quote', 'entities': [], 'traits': [], 'intent': 'task_nlp'}, {'text': 'examine the meaning of text', 'entities': [], 'traits': [], 'intent': 'task_nlp'}, {'text': 'examine the quality of metaphors', 'entities': [], 'traits': [], 'intent': 'task_nlp'}, {'text': 'assess the tone of writing', 'entities': [], 'traits': [], 'intent': 'task_nlp'}, {'text': 'assess the quality of writing', 'entities': [], 'traits': [], 'intent': 'task_nlp'}, {'text': 'assess news pieces', 'entities': [], 'traits': [], 'intent': 'task_nlp'}, {'text': 'assess the force behind words', 'entities': [], 'traits': [], 'intent': 'task_nlp'}, {'text': 'assess the likeability of a post', 'entities': [], 'traits': [], 'intent': 'task_nlp'}, {'text': 'process language', 'entities': [], 'traits': [], 'intent': 'task_nlp'}, {'text': 'process writing to figure out sentiment', 'entities': [], 'traits': [], 'intent': 'task_nlp'}, {'text': 'process text to figure out its meaning', 'entities': [], 'traits': [], 'intent': 'task_nlp'}, {'text': 'summarize the content of news', 'entities': [], 'traits': [], 'intent': 'task_nlp'}, {'text': 'summarize medium articles', 'entities': [], 'traits': [], 'intent': 'task_nlp'}, {'text': 'summarize the meaning of sms', 'entities': [], 'traits': [], 'intent': 'task_nlp'}, {'text': 'summarize some words for me', 'entities': [], 'traits': [], 'intent': 'task_nlp'}, {'text': 'summary of opinion article', 'entities': [], 'traits': [], 'intent': 'task_nlp'}, {'text': 'extract summary of some text', 'entities': [], 'traits': [], 'intent': 'task_nlp'}, {'text': 'extract meaning of strings', 'entities': [], 'traits': [], 'intent': 'task_nlp'}, {'text': 'extract meaning from quotes', 'entities': [], 'traits': [], 'intent': 'task_nlp'}, {'text': 'find the meaning behind phrases', 'entities': [], 'traits': [], 'intent': 'task_nlp'}, {'text': 'figure out the meaning of something', 'entities': [], 'traits': [], 'intent': 'task_nlp'}, {'text': 'interpret conversations between me and my friends', 'entities': [], 'traits': [], 'intent': 'task_nlp'}, {'text': 'interpret sentences', 'entities': [], 'traits': [], 'intent': 'task_nlp'}, {'text': 'interpret natural language', 'entities': [], 'traits': [], 'intent': 'task_nlp'}, {'text': 'interpret the meaning of written poetry', 'entities': [], 'traits': [], 'intent': 'task_nlp'}, {'text': 'interpretation of hemingway', 'entities': [], 'traits': [], 'intent': 'task_nlp'}, {'text': 'interpret strings', 'entities': [], 'traits': [], 'intent': 'task_nlp'}, {'text': 'describe the meaning of an excerpt', 'entities': [], 'traits': [], 'intent': 'task_nlp'}, {'text': 'describe the tone in a paragraph', 'entities': [], 'traits': [], 'intent': 'task_nlp'}, {'text': 'identify threatening language in posts', 'entities': [], 'traits': [], 'intent': 'task_nlp'}, {'text': 'identify personal information in documents', 'entities': [], 'traits': [], 'intent': 'task_nlp'}, {'text': 'extract information from text', 'entities': [], 'traits': [], 'intent': 'task_nlp'}, {'text': 'extract expressions of support or opposition for an issue', 'entities': [], 'traits': [], 'intent': 'task_nlp'}, {'text': 'summarize the contents of a technical report using nontechnical language', 'entities': [], 'traits': [], 'intent': 'task_nlp'}, {'text': 'model segregation', 'entities': [], 'traits': []}, {'text': 'model community distrust', 'entities': [], 'traits': []}, {'text': 'model corn texture', 'entities': [], 'traits': []}, {'text': 'model handsomeness of stars', 'entities': [], 'traits': []}, {'text': 'predict salience of facts', 'entities': [], 'traits': []}, {'text': 'predict distillation', 'entities': [], 'traits': []}, {'text': 'model the ability of athletes', 'entities': [], 'traits': []}, {'text': 'model the issue of sexism in the country', 'entities': [], 'traits': []}, {'text': 'model for racial division', 'entities': [], 'traits': []}, {'text': 'predict polarization across the globe', 'entities': [], 'traits': []}, {'text': 'predict the turning of tables in a state of war', 'entities': [], 'traits': []}, {'text': 'predict actions', 'entities': [], 'traits': []}, {'text': 'predict the elections', 'entities': [], 'traits': []}, {'text': 'predict the deficit', 'entities': [], 'traits': []}, {'text': 'analyze civil society', 'entities': [], 'traits': []}, {'text': 'analyze data', 'entities': [], 'traits': []}, {'text': 'analyze wall street bets', 'entities': [], 'traits': []}, {'text': 'analyze curiosity of babies', 'entities': [], 'traits': []}]\n"
     ]
    }
   ],
   "source": [
    "print(len(trainJson))\n",
    "print(str(trainJson))"
   ]
  },
  {
   "cell_type": "code",
   "execution_count": 538,
   "metadata": {},
   "outputs": [
    {
     "data": {
      "text/plain": [
       "{'sent': True, 'n': 155}"
      ]
     },
     "execution_count": 538,
     "metadata": {},
     "output_type": "execute_result"
    }
   ],
   "source": [
    "rsp = requests.post(WIT_API_HOST + '/utterances', headers=HEADERS, data=str(trainJson[0:155]))\n",
    "rsp.json()"
   ]
  },
  {
   "cell_type": "code",
   "execution_count": null,
   "metadata": {},
   "outputs": [],
   "source": [
    "time.sleep(180) # DELAY - ALLOW IT TO TRAIN"
   ]
  },
  {
   "cell_type": "code",
   "execution_count": 554,
   "metadata": {},
   "outputs": [
    {
     "data": {
      "text/plain": [
       "{'text': 'predict the election',\n",
       " 'intents': [{'id': '1728532153951407',\n",
       "   'name': 'task_class',\n",
       "   'confidence': 0.0328},\n",
       "  {'id': '184248982902938', 'name': 'task_reg', 'confidence': 0.0189}],\n",
       " 'entities': {},\n",
       " 'traits': {}}"
      ]
     },
     "execution_count": 554,
     "metadata": {},
     "output_type": "execute_result"
    }
   ],
   "source": [
    "#getResponse('predict the election', 2)"
   ]
  },
  {
   "cell_type": "code",
   "execution_count": null,
   "metadata": {},
   "outputs": [],
   "source": [
    "for testExample in testJson:\n",
    "    match = False\n",
    "    trueIntent = testExample.get('intent', None)\n",
    "    \n",
    "    rspJson = getResponse(testExample['text'], 2)\n",
    "    predictedIntents = rspJson['intents']\n",
    "    topPrediction = predictedIntents[0]['name']\n",
    "    \n",
    "    if (not predictedIntents and trueIntent is None):\n",
    "        match = True\n",
    "    elif (topPrediction == trueIntent):\n",
    "        match = True\n",
    "        \n",
    "    print(rspJson)\n",
    "    print()\n",
    "    print(match)\n",
    "    print()\n",
    "    print()"
   ]
  },
  {
   "cell_type": "code",
   "execution_count": 551,
   "metadata": {},
   "outputs": [
    {
     "data": {
      "text/plain": [
       "269"
      ]
     },
     "execution_count": 551,
     "metadata": {},
     "output_type": "execute_result"
    }
   ],
   "source": [
    "len(getQueries())\n",
    "# for query in getQueries():\n",
    "#     if (query.get('intent') and query.get('intent').get('name') == 'task_reg'):\n",
    "#         print(query.get('text'))"
   ]
  },
  {
   "cell_type": "code",
   "execution_count": null,
   "metadata": {},
   "outputs": [],
   "source": [
    "delQueries(getQueries())"
   ]
  },
  {
   "cell_type": "code",
   "execution_count": null,
   "metadata": {},
   "outputs": [],
   "source": []
  }
 ],
 "metadata": {
  "kernelspec": {
   "display_name": "Python 3",
   "language": "python",
   "name": "python3"
  },
  "language_info": {
   "codemirror_mode": {
    "name": "ipython",
    "version": 3
   },
   "file_extension": ".py",
   "mimetype": "text/x-python",
   "name": "python",
   "nbconvert_exporter": "python",
   "pygments_lexer": "ipython3",
   "version": "3.7.6"
  }
 },
 "nbformat": 4,
 "nbformat_minor": 4
}

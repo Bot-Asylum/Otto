{
 "cells": [
  {
   "cell_type": "code",
   "execution_count": 139,
   "metadata": {},
   "outputs": [],
   "source": [
    "import requests\n",
    "import json\n",
    "import numpy as np\n",
    "from sklearn.model_selection import train_test_split"
   ]
  },
  {
   "cell_type": "code",
   "execution_count": 140,
   "metadata": {},
   "outputs": [],
   "source": [
    "WIT_API_HOST = 'https://api.wit.ai'\n",
    "WIT_API_VERSION = '20200513'"
   ]
  },
  {
   "cell_type": "code",
   "execution_count": 141,
   "metadata": {},
   "outputs": [],
   "source": [
    "with open('token.txt') as file:\n",
    "    TOKEN = file.read()\n",
    "    \n",
    "HEADERS = {\n",
    "    'authorization': 'Bearer ' + TOKEN,\n",
    "    'accept': 'application/vnd.wit.' + WIT_API_VERSION + '+json'\n",
    "}"
   ]
  },
  {
   "cell_type": "code",
   "execution_count": 142,
   "metadata": {},
   "outputs": [],
   "source": [
    "def getQueries():\n",
    "    rsp = requests.get(WIT_API_HOST + '/utterances', headers=HEADERS, params={'limit': 1000})\n",
    "    return rsp.json()"
   ]
  },
  {
   "cell_type": "code",
   "execution_count": 143,
   "metadata": {},
   "outputs": [],
   "source": [
    "def delQueries(queries):\n",
    "    if not queries:\n",
    "        print('empty list, aborting')\n",
    "        return\n",
    "    confirm = input('CONFIRM DELETION: ')\n",
    "    if confirm != 'yes':\n",
    "        print('aborting delete')\n",
    "        return\n",
    "    print('deleting the following. \\n')\n",
    "    print(queries)\n",
    "    \n",
    "    queriesDelete = [{k: v for k, v in query.items() if k.startswith('text')} for query in queries]\n",
    "    rsp = requests.delete(WIT_API_HOST + '/utterances', headers=HEADERS, data=str(queriesDelete))\n",
    "    \n",
    "    print(rsp.json())"
   ]
  },
  {
   "cell_type": "code",
   "execution_count": 144,
   "metadata": {},
   "outputs": [],
   "source": [
    "# [a,b,c]\n",
    "def getExamples(filename):\n",
    "    examples = np.loadtxt(filename, dtype='str', delimiter='\\n')\n",
    "    return examples"
   ]
  },
  {
   "cell_type": "code",
   "execution_count": 145,
   "metadata": {},
   "outputs": [],
   "source": [
    "# [[a,x],[b,x],[c,x]]\n",
    "def labelExamples(examples, label):\n",
    "    reshaped = np.reshape(examples, (-1, 1))\n",
    "    labels = np.full(examples.shape[0], label).reshape(-1, 1)\n",
    "    return np.concatenate((reshaped, labels), 1)"
   ]
  },
  {
   "cell_type": "code",
   "execution_count": 146,
   "metadata": {},
   "outputs": [],
   "source": [
    "# [ task1 [[a,x],[b,x],[c,x]] , task2 [[d,y],[e,y],[f,y]] ]\n",
    "def getLabeledExamples(filenames, labels):\n",
    "    data = []\n",
    "    for i in range(0, len(filenames)):\n",
    "        labeled = labelExamples(getExamples(filenames[i]), labels[i])\n",
    "        data.append(labeled)\n",
    "    return data"
   ]
  },
  {
   "cell_type": "code",
   "execution_count": 147,
   "metadata": {},
   "outputs": [],
   "source": [
    "# [ train: task1 + task2 , test: task1 + task2 ]\n",
    "def formTrainTest(data):\n",
    "    trains = []\n",
    "    tests = []\n",
    "    for dataset in data:\n",
    "        a, b = train_test_split(dataset, test_size=0.5)\n",
    "        trains.append(a)\n",
    "        tests.append(b)\n",
    "        \n",
    "    train = np.empty((0,2))\n",
    "    test = np.empty((0,2))\n",
    "    for i in range(len(trains)):\n",
    "        train = np.concatenate((train, trains[i]))\n",
    "        test = np.concatenate((test, tests[i]))\n",
    "        \n",
    "    return train, test"
   ]
  },
  {
   "cell_type": "code",
   "execution_count": 148,
   "metadata": {},
   "outputs": [],
   "source": [
    "def examplesToJson(examples):\n",
    "    json = []\n",
    "    for example in examples:\n",
    "        json.append({'text': example[0], 'intent': example[1], 'entities': [], 'traits': []})\n",
    "    return json"
   ]
  },
  {
   "cell_type": "code",
   "execution_count": 149,
   "metadata": {},
   "outputs": [],
   "source": [
    "data = getLabeledExamples(['class.txt', 'reg.txt'], ['task_class', 'task_reg'])\n",
    "train, test = formTrainTest(data)\n",
    "trainJson = examplesToJson(train)\n",
    "testJson = examplesToJson(test)"
   ]
  },
  {
   "cell_type": "code",
   "execution_count": 151,
   "metadata": {},
   "outputs": [
    {
     "data": {
      "text/plain": [
       "\"[{'text': 'decide what kind of animal this is', 'intent': 'task_class', 'entities': [], 'traits': []}, {'text': 'build a model that knows whether a medical procedure will succeed', 'intent': 'task_class', 'entities': [], 'traits': []}, {'text': 'detect if a patient has bronchitis from xrays', 'intent': 'task_class', 'entities': [], 'traits': []}, {'text': 'perform facial recognition ', 'intent': 'task_class', 'entities': [], 'traits': []}, {'text': 'model which identifies contaminants', 'intent': 'task_class', 'entities': [], 'traits': []}, {'text': 'label news as real or fake', 'intent': 'task_class', 'entities': [], 'traits': []}, {'text': 'create something that predicts if a crime will occur', 'intent': 'task_class', 'entities': [], 'traits': []}, {'text': 'determines the level of security of a codebase', 'intent': 'task_class', 'entities': [], 'traits': []}, {'text': 'automated detection of safe drinking water', 'intent': 'task_class', 'entities': [], 'traits': []}, {'text': 'know if a loan application will be accepted or denied', 'intent': 'task_class', 'entities': [], 'traits': []}, {'text': 'categorize car pics between sedan or minivan', 'intent': 'task_class', 'entities': [], 'traits': []}, {'text': 'do voice recognition ', 'intent': 'task_class', 'entities': [], 'traits': []}, {'text': 'recognize face expressions ', 'intent': 'task_class', 'entities': [], 'traits': []}, {'text': 'determine whether a picture was drawn by a gan', 'intent': 'task_class', 'entities': [], 'traits': []}, {'text': 'identify likely epicenters of outbreaks', 'intent': 'task_class', 'entities': [], 'traits': []}, {'text': 'project inflation ', 'intent': 'task_reg', 'entities': [], 'traits': []}, {'text': 'make an estimate for the value of a house', 'intent': 'task_reg', 'entities': [], 'traits': []}, {'text': 'project the cost of living in the boston suburbs', 'intent': 'task_reg', 'entities': [], 'traits': []}, {'text': 'forecast the amount of rain', 'intent': 'task_reg', 'entities': [], 'traits': []}, {'text': 'estimate normal life expectancy from medical data', 'intent': 'task_reg', 'entities': [], 'traits': []}, {'text': 'perform regression on median home values', 'intent': 'task_reg', 'entities': [], 'traits': []}, {'text': 'regression for average occupancy', 'intent': 'task_reg', 'entities': [], 'traits': []}, {'text': 'fit a regression model to the number of deaths in a city', 'intent': 'task_reg', 'entities': [], 'traits': []}, {'text': 'make a projection of healthcare expenditures over time', 'intent': 'task_reg', 'entities': [], 'traits': []}, {'text': 'do estimates of mean car accidents', 'intent': 'task_reg', 'entities': [], 'traits': []}, {'text': 'estimate infection rates', 'intent': 'task_reg', 'entities': [], 'traits': []}, {'text': 'forecast stock prices over the next year', 'intent': 'task_reg', 'entities': [], 'traits': []}, {'text': 'project total coronavirus case count', 'intent': 'task_reg', 'entities': [], 'traits': []}]\""
      ]
     },
     "execution_count": 151,
     "metadata": {},
     "output_type": "execute_result"
    }
   ],
   "source": [
    "str(testJson)"
   ]
  },
  {
   "cell_type": "code",
   "execution_count": 150,
   "metadata": {},
   "outputs": [
    {
     "data": {
      "text/plain": [
       "{'sent': True, 'n': 27}"
      ]
     },
     "execution_count": 150,
     "metadata": {},
     "output_type": "execute_result"
    }
   ],
   "source": [
    "rsp = requests.post(WIT_API_HOST + '/utterances', headers=HEADERS, data=str(trainJson))\n",
    "rsp.json()"
   ]
  },
  {
   "cell_type": "code",
   "execution_count": 159,
   "metadata": {},
   "outputs": [
    {
     "name": "stdout",
     "output_type": "stream",
     "text": [
      "{'text': 'decide what kind of animal this is', 'intents': [{'id': '1728532153951407', 'name': 'task_class', 'confidence': 0.9131}], 'entities': {}, 'traits': {}}\n",
      "True\n",
      "\n",
      "{'text': 'build a model that knows whether a medical procedure will succeed', 'intents': [{'id': '1728532153951407', 'name': 'task_class', 'confidence': 0.9822}], 'entities': {}, 'traits': {}}\n",
      "True\n",
      "\n",
      "{'text': 'detect if a patient has bronchitis from xrays', 'intents': [{'id': '1728532153951407', 'name': 'task_class', 'confidence': 0.9937}], 'entities': {}, 'traits': {}}\n",
      "True\n",
      "\n",
      "{'text': 'perform facial recognition', 'intents': [{'id': '184248982902938', 'name': 'task_reg', 'confidence': 0.6769}], 'entities': {}, 'traits': {}}\n",
      "False\n",
      "\n",
      "{'text': 'model which identifies contaminants', 'intents': [{'id': '1728532153951407', 'name': 'task_class', 'confidence': 0.9586}], 'entities': {}, 'traits': {}}\n",
      "True\n",
      "\n",
      "{'text': 'label news as real or fake', 'intents': [{'id': '1728532153951407', 'name': 'task_class', 'confidence': 0.6274}], 'entities': {}, 'traits': {}}\n",
      "True\n",
      "\n",
      "{'text': 'create something that predicts if a crime will occur', 'intents': [{'id': '1728532153951407', 'name': 'task_class', 'confidence': 0.9509}], 'entities': {}, 'traits': {}}\n",
      "True\n",
      "\n",
      "{'text': 'determines the level of security of a codebase', 'intents': [{'id': '1728532153951407', 'name': 'task_class', 'confidence': 0.8875}], 'entities': {}, 'traits': {}}\n",
      "True\n",
      "\n",
      "{'text': 'automated detection of safe drinking water', 'intents': [{'id': '1728532153951407', 'name': 'task_class', 'confidence': 0.9394}], 'entities': {}, 'traits': {}}\n",
      "True\n",
      "\n",
      "{'text': 'know if a loan application will be accepted or denied', 'intents': [{'id': '1728532153951407', 'name': 'task_class', 'confidence': 0.967}], 'entities': {}, 'traits': {}}\n",
      "True\n",
      "\n",
      "{'text': 'categorize car pics between sedan or minivan', 'intents': [{'id': '1728532153951407', 'name': 'task_class', 'confidence': 0.8174}], 'entities': {}, 'traits': {}}\n",
      "True\n",
      "\n",
      "{'text': 'do voice recognition', 'intents': [{'id': '1728532153951407', 'name': 'task_class', 'confidence': 0.516}], 'entities': {}, 'traits': {}}\n",
      "True\n",
      "\n",
      "{'text': 'recognize face expressions', 'intents': [{'id': '184248982902938', 'name': 'task_reg', 'confidence': 0.672}], 'entities': {}, 'traits': {}}\n",
      "False\n",
      "\n",
      "{'text': 'determine whether a picture was drawn by a gan', 'intents': [{'id': '1728532153951407', 'name': 'task_class', 'confidence': 0.9833}], 'entities': {}, 'traits': {}}\n",
      "True\n",
      "\n",
      "{'text': 'identify likely epicenters of outbreaks', 'intents': [{'id': '1728532153951407', 'name': 'task_class', 'confidence': 0.8896}], 'entities': {}, 'traits': {}}\n",
      "True\n",
      "\n",
      "{'text': 'project inflation', 'intents': [{'id': '184248982902938', 'name': 'task_reg', 'confidence': 0.8715}], 'entities': {}, 'traits': {}}\n",
      "True\n",
      "\n",
      "{'text': 'make an estimate for the value of a house', 'intents': [{'id': '184248982902938', 'name': 'task_reg', 'confidence': 0.9357}], 'entities': {}, 'traits': {}}\n",
      "True\n",
      "\n",
      "{'text': 'project the cost of living in the boston suburbs', 'intents': [{'id': '184248982902938', 'name': 'task_reg', 'confidence': 0.9921}], 'entities': {}, 'traits': {}}\n",
      "True\n",
      "\n",
      "{'text': 'forecast the amount of rain', 'intents': [{'id': '184248982902938', 'name': 'task_reg', 'confidence': 0.9637}], 'entities': {}, 'traits': {}}\n",
      "True\n",
      "\n",
      "{'text': 'estimate normal life expectancy from medical data', 'intents': [{'id': '184248982902938', 'name': 'task_reg', 'confidence': 0.8234}], 'entities': {}, 'traits': {}}\n",
      "True\n",
      "\n",
      "{'text': 'perform regression on median home values', 'intents': [{'id': '184248982902938', 'name': 'task_reg', 'confidence': 0.9873}], 'entities': {}, 'traits': {}}\n",
      "True\n",
      "\n",
      "{'text': 'regression for average occupancy', 'intents': [{'id': '184248982902938', 'name': 'task_reg', 'confidence': 0.9627}], 'entities': {}, 'traits': {}}\n",
      "True\n",
      "\n",
      "{'text': 'fit a regression model to the number of deaths in a city', 'intents': [{'id': '184248982902938', 'name': 'task_reg', 'confidence': 0.9492}], 'entities': {}, 'traits': {}}\n",
      "True\n",
      "\n",
      "{'text': 'make a projection of healthcare expenditures over time', 'intents': [{'id': '184248982902938', 'name': 'task_reg', 'confidence': 0.9627}], 'entities': {}, 'traits': {}}\n",
      "True\n",
      "\n",
      "{'text': 'do estimates of mean car accidents', 'intents': [{'id': '1728532153951407', 'name': 'task_class', 'confidence': 0.6562}], 'entities': {}, 'traits': {}}\n",
      "False\n",
      "\n",
      "{'text': 'estimate infection rates', 'intents': [{'id': '184248982902938', 'name': 'task_reg', 'confidence': 0.878}], 'entities': {}, 'traits': {}}\n",
      "True\n",
      "\n",
      "{'text': 'forecast stock prices over the next year', 'intents': [{'id': '184248982902938', 'name': 'task_reg', 'confidence': 0.9372}], 'entities': {}, 'traits': {}}\n",
      "True\n",
      "\n",
      "{'text': 'project total coronavirus case count', 'intents': [{'id': '184248982902938', 'name': 'task_reg', 'confidence': 0.9896}], 'entities': {}, 'traits': {}}\n",
      "True\n",
      "\n"
     ]
    }
   ],
   "source": [
    "for testExample in testJson:\n",
    "    rsp = requests.get(WIT_API_HOST + '/message', headers=HEADERS, params={'q': testExample['text']})\n",
    "    rspJson = rsp.json()\n",
    "    print(rspJson)\n",
    "    print(rspJson['intents'][0]['name'] == testExample['intent'])\n",
    "    print()"
   ]
  },
  {
   "cell_type": "code",
   "execution_count": null,
   "metadata": {},
   "outputs": [],
   "source": [
    "#getQueries()"
   ]
  },
  {
   "cell_type": "code",
   "execution_count": null,
   "metadata": {},
   "outputs": [],
   "source": [
    "#delQueries(getQueries())"
   ]
  }
 ],
 "metadata": {
  "kernelspec": {
   "display_name": "Python 3",
   "language": "python",
   "name": "python3"
  },
  "language_info": {
   "codemirror_mode": {
    "name": "ipython",
    "version": 3
   },
   "file_extension": ".py",
   "mimetype": "text/x-python",
   "name": "python",
   "nbconvert_exporter": "python",
   "pygments_lexer": "ipython3",
   "version": "3.7.6"
  }
 },
 "nbformat": 4,
 "nbformat_minor": 4
}

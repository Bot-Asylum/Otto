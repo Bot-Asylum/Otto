{
 "cells": [
  {
   "cell_type": "code",
   "execution_count": null,
   "metadata": {},
   "outputs": [],
   "source": [
    "# Out of date!\n",
    "from wit import Wit\n",
    "import pandas as pd\n",
    "\n",
    "import re"
   ]
  },
  {
   "cell_type": "code",
   "execution_count": null,
   "metadata": {},
   "outputs": [],
   "source": [
    "def loadData():\n",
    "    return pd.read_csv(\"https://raw.githubusercontent.com/KartikChugh/Otto/master/src/static/datasets/tweets.csv\", encoding=\"latin-1\")"
   ]
  },
  {
   "cell_type": "code",
   "execution_count": null,
   "metadata": {},
   "outputs": [],
   "source": [
    "FEATURE_COLUMN = 1\n",
    "DATA_COUNT = 100"
   ]
  },
  {
   "cell_type": "code",
   "execution_count": null,
   "metadata": {},
   "outputs": [],
   "source": [
    "data = loadData()"
   ]
  },
  {
   "cell_type": "code",
   "execution_count": null,
   "metadata": {},
   "outputs": [],
   "source": [
    "# Selects column to analyze\n",
    "data = data.iloc[:, FEATURE_COLUMN]\n",
    "# Keeps specified number of rows\n",
    "data = data.sample(n=DATA_COUNT, random_state=42)"
   ]
  },
  {
   "cell_type": "code",
   "execution_count": null,
   "metadata": {},
   "outputs": [],
   "source": [
    "data = data.str.strip()\n",
    "data = data.replace('\\?|\\.|\\!|\\/|\\;|\\:|\\#', '', regex=True)"
   ]
  },
  {
   "cell_type": "code",
   "execution_count": null,
   "metadata": {},
   "outputs": [],
   "source": [
    "client = Wit(\"GUNUX2F3ZIXVVLK3DCRY6NXH2OLGOG6I\")"
   ]
  },
  {
   "cell_type": "code",
   "execution_count": null,
   "metadata": {},
   "outputs": [],
   "source": [
    "# Reformats trait/entity names\n",
    "def rename(name):\n",
    "    name = name[name.find(':')+1:]\n",
    "    name = name[name.find('$')+1:]\n",
    "    name = name.title()\n",
    "    name = name.replace(\"Sentiment\", \"Polarity\")\n",
    "    return name"
   ]
  },
  {
   "cell_type": "code",
   "execution_count": null,
   "metadata": {},
   "outputs": [],
   "source": [
    "# Converts wit's response into readable form\n",
    "def traitLabelForSample(traits):\n",
    "    traitArr = []\n",
    "    for traitName in traits:\n",
    "        matches = traits[traitName]\n",
    "        firstMatch = matches[0]\n",
    "        value = firstMatch['value']\n",
    "        traitArr.append(rename(traitName) + \": \" + value)\n",
    "    traitLabel = ', '.join(traitArr)\n",
    "    return traitLabel"
   ]
  },
  {
   "cell_type": "code",
   "execution_count": null,
   "metadata": {},
   "outputs": [],
   "source": [
    "# Converts wit's response into readable form\n",
    "def entityLabelForSample(entities):\n",
    "    entityArr = []\n",
    "    for entityName in entities:\n",
    "        matches = entities[entityName]\n",
    "        firstMatch = matches[0]\n",
    "        value = firstMatch['body']\n",
    "        entityArr.append(rename(entityName) + \": \" + value)\n",
    "    entityLabel = ', '.join(entityArr)\n",
    "    return entityLabel"
   ]
  },
  {
   "cell_type": "code",
   "execution_count": null,
   "metadata": {
    "tags": []
   },
   "outputs": [],
   "source": [
    "# Data\n",
    "texts = []\n",
    "entityLabels = []\n",
    "traitLabels = []\n",
    "\n",
    "# Queries Wit for NLP analysis, and processes/stores result\n",
    "for i, row in data.iteritems():\n",
    "    text = str(row)\n",
    "    resp = client.message(text)\n",
    "\n",
    "    entities = resp.get('entities')\n",
    "    traits = resp.get('traits')\n",
    "    entityLabel = entityLabelForSample(entities)\n",
    "    traitLabel = traitLabelForSample(traits)\n",
    "\n",
    "    entityLabels.append(entityLabel)\n",
    "    traitLabels.append(traitLabel)\n",
    "    texts.append(text)"
   ]
  },
  {
   "cell_type": "code",
   "execution_count": null,
   "metadata": {},
   "outputs": [],
   "source": [
    "labeled = pd.DataFrame({'Text':texts,'Sentiments':traitLabels, 'Entities':entityLabels})"
   ]
  },
  {
   "cell_type": "code",
   "execution_count": null,
   "metadata": {
    "tags": []
   },
   "outputs": [],
   "source": [
    "labeled.head(DATA_COUNT)"
   ]
  }
 ],
 "metadata": {
  "kernelspec": {
   "display_name": "Python 3",
   "language": "python",
   "name": "python3"
  },
  "language_info": {
   "codemirror_mode": {
    "name": "ipython",
    "version": 3
   },
   "file_extension": ".py",
   "mimetype": "text/x-python",
   "name": "python",
   "nbconvert_exporter": "python",
   "pygments_lexer": "ipython3",
   "version": "3.7.7-final"
  }
 },
 "nbformat": 4,
 "nbformat_minor": 4
}
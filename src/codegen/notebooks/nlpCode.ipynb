{
 "cells": [
  {
   "cell_type": "code",
   "execution_count": 56,
   "metadata": {},
   "outputs": [],
   "source": [
    "from wit import Wit\n",
    "import pandas as pd"
   ]
  },
  {
   "cell_type": "code",
   "execution_count": 86,
   "metadata": {},
   "outputs": [],
   "source": [
    "def loadData():\n",
    "    return pd.read_csv(\"/Users/karchugh/Projects/Otto/src/static/datasets/tweets.csv\", encoding=\"latin-1\")"
   ]
  },
  {
   "cell_type": "code",
   "execution_count": 129,
   "metadata": {},
   "outputs": [],
   "source": [
    "FEATURE_COLUMN = 1\n",
    "DATA_COUNT = 5"
   ]
  },
  {
   "cell_type": "code",
   "execution_count": 130,
   "metadata": {},
   "outputs": [],
   "source": [
    "data = loadData()"
   ]
  },
  {
   "cell_type": "code",
   "execution_count": 131,
   "metadata": {},
   "outputs": [],
   "source": [
    "# Selects column to analyze\n",
    "data = data.iloc[:, FEATURE_COLUMN]\n",
    "# Keeps specified number of rows\n",
    "data = data.sample(n=DATA_COUNT, random_state=42)"
   ]
  },
  {
   "cell_type": "code",
   "execution_count": 132,
   "metadata": {},
   "outputs": [],
   "source": [
    "T = \"GUNUX2F3ZIXVVLK3DCRY6NXH2OLGOG6I\"\n",
    "client = Wit(T)"
   ]
  },
  {
   "cell_type": "code",
   "execution_count": 147,
   "metadata": {},
   "outputs": [],
   "source": [
    "def traitLabelForSample(traits):\n",
    "    traitArr = []\n",
    "    for traitName in traits:\n",
    "        matches = traits[traitName]\n",
    "        firstMatch = matches[0]\n",
    "        value = firstMatch['value']\n",
    "        traitArr.append(traitName + \": \" + value)\n",
    "    traitLabel = ', '.join(traitArr)\n",
    "    return traitLabel"
   ]
  },
  {
   "cell_type": "code",
   "execution_count": 148,
   "metadata": {},
   "outputs": [],
   "source": [
    "def entityLabelForSample(entities):\n",
    "    entityArr = []\n",
    "    for entityName in entities:\n",
    "        matches = entities[entityName]\n",
    "        firstMatch = matches[0]\n",
    "        value = firstMatch['body']\n",
    "        entityArr.append(entityName + \": \" + value)\n",
    "    entityLabel = ', '.join(entityArr)\n",
    "    return entityLabel"
   ]
  },
  {
   "cell_type": "code",
   "execution_count": 155,
   "metadata": {
    "tags": []
   },
   "outputs": [],
   "source": [
    "texts = []\n",
    "entityLabels = []\n",
    "traitLabels = []\n",
    "\n",
    "for i, row in data.iteritems():\n",
    "    text = str(row)\n",
    "    resp = client.message(text)\n",
    "\n",
    "    entities = resp.get('entities')\n",
    "    traits = resp.get('traits')\n",
    "    entityLabel = entityLabelForSample(entities)\n",
    "    traitLabel = traitLabelForSample(traits)\n",
    "\n",
    "    entityLabels.append(entityLabel)\n",
    "    traitLabels.append(traitLabel)\n",
    "    texts.append(text)"
   ]
  },
  {
   "cell_type": "code",
   "execution_count": 153,
   "metadata": {},
   "outputs": [
    {
     "output_type": "execute_result",
     "data": {
      "text/plain": "['wit$contact:contact: @',\n 'wit$contact:contact: @a02toyota',\n '',\n 'wit$contact:contact: SomersetMarcy',\n 'wit$contact:contact: assistant']"
     },
     "metadata": {},
     "execution_count": 153
    }
   ],
   "source": [
    "entityLabels"
   ]
  },
  {
   "cell_type": "code",
   "execution_count": 154,
   "metadata": {},
   "outputs": [
    {
     "output_type": "execute_result",
     "data": {
      "text/plain": "['',\n 'wit$thanks: true, wit$sentiment: positive',\n 'wit$sentiment: negative',\n 'wit$sentiment: positive',\n 'wit$sentiment: neutral']"
     },
     "metadata": {},
     "execution_count": 154
    }
   ],
   "source": [
    "traitLabels"
   ]
  },
  {
   "cell_type": "code",
   "execution_count": 168,
   "metadata": {},
   "outputs": [],
   "source": [
    "labeled = pd.DataFrame({'a':texts,'b':entityLabels})"
   ]
  },
  {
   "cell_type": "code",
   "execution_count": 23,
   "metadata": {},
   "outputs": [
    {
     "output_type": "execute_result",
     "data": {
      "text/plain": "{'text': 'cya guys tomorrow and thank you for everything',\n 'intents': [],\n 'entities': {'wit$datetime:datetime': [{'id': '248762126419129',\n    'name': 'wit$datetime',\n    'role': 'datetime',\n    'start': 9,\n    'end': 17,\n    'body': 'tomorrow',\n    'confidence': 0.9672,\n    'entities': [],\n    'type': 'value',\n    'grain': 'day',\n    'value': '2020-06-19T00:00:00.000-07:00',\n    'values': [{'type': 'value',\n      'grain': 'day',\n      'value': '2020-06-19T00:00:00.000-07:00'}]}]},\n 'traits': {'wit$thanks': [{'id': '5900cc2d-867c-4bf0-beb6-ef6e6bf45ca5',\n    'value': 'true',\n    'confidence': 0.5571}],\n  'wit$sentiment': [{'id': '5ac2b50a-44e4-466e-9d49-bad6bd40092c',\n    'value': 'positive',\n    'confidence': 0.9507}]}}"
     },
     "metadata": {},
     "execution_count": 23
    }
   ],
   "source": [
    "r"
   ]
  },
  {
   "cell_type": "code",
   "execution_count": null,
   "metadata": {},
   "outputs": [],
   "source": []
  }
 ],
 "metadata": {
  "language_info": {
   "codemirror_mode": {
    "name": "ipython",
    "version": 3
   },
   "file_extension": ".py",
   "mimetype": "text/x-python",
   "name": "python",
   "nbconvert_exporter": "python",
   "pygments_lexer": "ipython3",
   "version": "3.7.7-final"
  },
  "orig_nbformat": 2,
  "kernelspec": {
   "name": "python3",
   "display_name": "Python 3"
  }
 },
 "nbformat": 4,
 "nbformat_minor": 2
}